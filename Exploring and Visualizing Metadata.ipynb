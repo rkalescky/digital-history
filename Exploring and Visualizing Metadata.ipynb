{
 "cells": [
  {
   "cell_type": "markdown",
   "metadata": {},
   "source": [
    "# Exploring and Visualizing Metadata\n",
    "\n",
    "Metadata is data that provides information about other data. Metadata might refer to basic file information like file size or source information, tracking information like index numbers or dates, or metadata might refer to a statistical summary of the data's contents.\n",
    "\n",
    "This excersize will explore metadata for the Hansard debates from the 1860s with the purpose of familiarizing ourselves with the data's contents. After inspecting the Hansard metadata we will create our own metadata about the debates, specifically, metadata about the frequency of each bigram, or pair of consecutive elements, in the 1860s debates.\n",
    "\n",
    "After creating our own metadata we will visualize top bigrams to better understand what our metadata communicates about the Hansard debates and what insight it can give us about the discourse of Parliamentary discourse in the 1860s."
   ]
  },
  {
   "cell_type": "markdown",
   "metadata": {},
   "source": [
    "<div class=\"alert alert-block alert-info\">\n",
    "<b>Note:</b> The metadata for this Notebook is located on M2 at `/scratch/group/pract-text-mine/digital-history`.\n",
    "</div>"
   ]
  },
  {
   "cell_type": "markdown",
   "metadata": {},
   "source": [
    "### Inspecting the Hansard Metadata"
   ]
  },
  {
   "cell_type": "markdown",
   "metadata": {},
   "source": [
    "We can use tools from the pandas package to read in the Hansard data. pandas provides data structures and data processing tools designed to work with tabular, heterogeneous data where each column is a different type like our data."
   ]
  },
  {
   "cell_type": "code",
   "execution_count": 2,
   "metadata": {},
   "outputs": [],
   "source": [
    "import pandas as pd"
   ]
  },
  {
   "cell_type": "markdown",
   "metadata": {},
   "source": [
    "After importing pandas we can read in our sample data. The Hansard data is comma-delimited and can be read using the `.read_csv()` method. The below code reads the Hansard data and stores it in a variable named `hansard`."
   ]
  },
  {
   "cell_type": "code",
   "execution_count": 3,
   "metadata": {
    "scrolled": true
   },
   "outputs": [],
   "source": [
    "hansard = pd.read_csv('hansard_1860_69.csv')"
   ]
  },
  {
   "cell_type": "markdown",
   "metadata": {},
   "source": [
    "Python provides several ways to inspect a variable's contents. We will use just a few of these ways to explore the Hansard metadata.\n",
    "\n",
    "`.shape`, for example, returns a tuple containing the number of `hansard`'s rows followed by its number of columns."
   ]
  },
  {
   "cell_type": "code",
   "execution_count": 4,
   "metadata": {},
   "outputs": [
    {
     "data": {
      "text/plain": [
       "(1035152, 5)"
      ]
     },
     "execution_count": 4,
     "metadata": {},
     "output_type": "execute_result"
    }
   ],
   "source": [
    "hansard.shape"
   ]
  },
  {
   "cell_type": "markdown",
   "metadata": {},
   "source": [
    "`.columns` returns just the data's column names with the variable's data type."
   ]
  },
  {
   "cell_type": "code",
   "execution_count": 5,
   "metadata": {},
   "outputs": [
    {
     "data": {
      "text/plain": [
       "Index(['sentence_id', 'speechdate', 'debate', 'text', 'speaker'], dtype='object')"
      ]
     },
     "execution_count": 5,
     "metadata": {},
     "output_type": "execute_result"
    }
   ],
   "source": [
    "hansard.columns"
   ]
  },
  {
   "cell_type": "markdown",
   "metadata": {},
   "source": [
    "`type()` returns the class type of the object passed to its parameter, in this case our `hansard` variable."
   ]
  },
  {
   "cell_type": "code",
   "execution_count": 6,
   "metadata": {},
   "outputs": [
    {
     "data": {
      "text/plain": [
       "pandas.core.frame.DataFrame"
      ]
     },
     "execution_count": 6,
     "metadata": {},
     "output_type": "execute_result"
    }
   ],
   "source": [
    "type(hansard)"
   ]
  },
  {
   "cell_type": "markdown",
   "metadata": {},
   "source": [
    "`head()` returns the first n rows of the pandas DataFrame."
   ]
  },
  {
   "cell_type": "code",
   "execution_count": 7,
   "metadata": {},
   "outputs": [
    {
     "data": {
      "text/html": [
       "<div>\n",
       "<style scoped>\n",
       "    .dataframe tbody tr th:only-of-type {\n",
       "        vertical-align: middle;\n",
       "    }\n",
       "\n",
       "    .dataframe tbody tr th {\n",
       "        vertical-align: top;\n",
       "    }\n",
       "\n",
       "    .dataframe thead th {\n",
       "        text-align: right;\n",
       "    }\n",
       "</style>\n",
       "<table border=\"1\" class=\"dataframe\">\n",
       "  <thead>\n",
       "    <tr style=\"text-align: right;\">\n",
       "      <th></th>\n",
       "      <th>sentence_id</th>\n",
       "      <th>speechdate</th>\n",
       "      <th>debate</th>\n",
       "      <th>text</th>\n",
       "      <th>speaker</th>\n",
       "    </tr>\n",
       "  </thead>\n",
       "  <tbody>\n",
       "    <tr>\n",
       "      <th>0</th>\n",
       "      <td>S3V0156P0_0</td>\n",
       "      <td>1860-01-24</td>\n",
       "      <td>MEETING OF THE PARLIAMENT.</td>\n",
       "      <td>which had been prorogued successively to the 2...</td>\n",
       "      <td>THE PARLIAMENT,</td>\n",
       "    </tr>\n",
       "    <tr>\n",
       "      <th>1</th>\n",
       "      <td>S3V0156P0_1</td>\n",
       "      <td>1860-01-24</td>\n",
       "      <td>THE QUEEN'S SPEECH.</td>\n",
       "      <td>being seated on the Throne, and the Commons be...</td>\n",
       "      <td>THE QUEEN</td>\n",
       "    </tr>\n",
       "    <tr>\n",
       "      <th>2</th>\n",
       "      <td>S3V0156P0_2</td>\n",
       "      <td>1860-01-24</td>\n",
       "      <td>ADDRESS IN ANSWER TO HER MAJESTY'S SPEECH.</td>\n",
       "      <td>in rising to move that an humble Address be pr...</td>\n",
       "      <td>EARL FITZWILLIAM,</td>\n",
       "    </tr>\n",
       "    <tr>\n",
       "      <th>3</th>\n",
       "      <td>S3V0156P0_3</td>\n",
       "      <td>1860-01-24</td>\n",
       "      <td>ADDRESS IN ANSWER TO HER MAJESTY'S SPEECH.</td>\n",
       "      <td>My Lords, it is with diffidence that I rise to...</td>\n",
       "      <td>EARL FITZWILLIAM,</td>\n",
       "    </tr>\n",
       "    <tr>\n",
       "      <th>4</th>\n",
       "      <td>S3V0156P0_4</td>\n",
       "      <td>1860-01-24</td>\n",
       "      <td>ADDRESS IN ANSWER TO HER MAJESTY'S SPEECH.</td>\n",
       "      <td>We hear from Her gracious Majesty that it is w...</td>\n",
       "      <td>EARL FITZWILLIAM,</td>\n",
       "    </tr>\n",
       "    <tr>\n",
       "      <th>5</th>\n",
       "      <td>S3V0156P0_5</td>\n",
       "      <td>1860-01-24</td>\n",
       "      <td>ADDRESS IN ANSWER TO HER MAJESTY'S SPEECH.</td>\n",
       "      <td>She meets her Parliament, that She continues o...</td>\n",
       "      <td>EARL FITZWILLIAM,</td>\n",
       "    </tr>\n",
       "    <tr>\n",
       "      <th>6</th>\n",
       "      <td>S3V0156P0_6</td>\n",
       "      <td>1860-01-24</td>\n",
       "      <td>ADDRESS IN ANSWER TO HER MAJESTY'S SPEECH.</td>\n",
       "      <td>I heard but yesterday that a Commercial Treaty...</td>\n",
       "      <td>EARL FITZWILLIAM,</td>\n",
       "    </tr>\n",
       "    <tr>\n",
       "      <th>7</th>\n",
       "      <td>S3V0156P0_7</td>\n",
       "      <td>1860-01-24</td>\n",
       "      <td>ADDRESS IN ANSWER TO HER MAJESTY'S SPEECH.</td>\n",
       "      <td>I for one cannot hear of this Treaty otherwise...</td>\n",
       "      <td>EARL FITZWILLIAM,</td>\n",
       "    </tr>\n",
       "    <tr>\n",
       "      <th>8</th>\n",
       "      <td>S3V0156P0_8</td>\n",
       "      <td>1860-01-24</td>\n",
       "      <td>ADDRESS IN ANSWER TO HER MAJESTY'S SPEECH.</td>\n",
       "      <td>One circumstance we cannot hear of without reg...</td>\n",
       "      <td>EARL FITZWILLIAM,</td>\n",
       "    </tr>\n",
       "    <tr>\n",
       "      <th>9</th>\n",
       "      <td>S3V0156P0_9</td>\n",
       "      <td>1860-01-24</td>\n",
       "      <td>ADDRESS IN ANSWER TO HER MAJESTY'S SPEECH.</td>\n",
       "      <td>But I will turn from that topic to one which w...</td>\n",
       "      <td>EARL FITZWILLIAM,</td>\n",
       "    </tr>\n",
       "  </tbody>\n",
       "</table>\n",
       "</div>"
      ],
      "text/plain": [
       "   sentence_id  speechdate                                      debate  \\\n",
       "0  S3V0156P0_0  1860-01-24                  MEETING OF THE PARLIAMENT.   \n",
       "1  S3V0156P0_1  1860-01-24                         THE QUEEN'S SPEECH.   \n",
       "2  S3V0156P0_2  1860-01-24  ADDRESS IN ANSWER TO HER MAJESTY'S SPEECH.   \n",
       "3  S3V0156P0_3  1860-01-24  ADDRESS IN ANSWER TO HER MAJESTY'S SPEECH.   \n",
       "4  S3V0156P0_4  1860-01-24  ADDRESS IN ANSWER TO HER MAJESTY'S SPEECH.   \n",
       "5  S3V0156P0_5  1860-01-24  ADDRESS IN ANSWER TO HER MAJESTY'S SPEECH.   \n",
       "6  S3V0156P0_6  1860-01-24  ADDRESS IN ANSWER TO HER MAJESTY'S SPEECH.   \n",
       "7  S3V0156P0_7  1860-01-24  ADDRESS IN ANSWER TO HER MAJESTY'S SPEECH.   \n",
       "8  S3V0156P0_8  1860-01-24  ADDRESS IN ANSWER TO HER MAJESTY'S SPEECH.   \n",
       "9  S3V0156P0_9  1860-01-24  ADDRESS IN ANSWER TO HER MAJESTY'S SPEECH.   \n",
       "\n",
       "                                                text            speaker  \n",
       "0  which had been prorogued successively to the 2...    THE PARLIAMENT,  \n",
       "1  being seated on the Throne, and the Commons be...          THE QUEEN  \n",
       "2  in rising to move that an humble Address be pr...  EARL FITZWILLIAM,  \n",
       "3  My Lords, it is with diffidence that I rise to...  EARL FITZWILLIAM,  \n",
       "4  We hear from Her gracious Majesty that it is w...  EARL FITZWILLIAM,  \n",
       "5  She meets her Parliament, that She continues o...  EARL FITZWILLIAM,  \n",
       "6  I heard but yesterday that a Commercial Treaty...  EARL FITZWILLIAM,  \n",
       "7  I for one cannot hear of this Treaty otherwise...  EARL FITZWILLIAM,  \n",
       "8  One circumstance we cannot hear of without reg...  EARL FITZWILLIAM,  \n",
       "9  But I will turn from that topic to one which w...  EARL FITZWILLIAM,  "
      ]
     },
     "execution_count": 7,
     "metadata": {},
     "output_type": "execute_result"
    }
   ],
   "source": [
    "hansard.head(n=10)"
   ]
  },
  {
   "cell_type": "markdown",
   "metadata": {},
   "source": [
    "`tail()` returns the last n rows of the pandas DataFrame."
   ]
  },
  {
   "cell_type": "code",
   "execution_count": 8,
   "metadata": {},
   "outputs": [
    {
     "data": {
      "text/html": [
       "<div>\n",
       "<style scoped>\n",
       "    .dataframe tbody tr th:only-of-type {\n",
       "        vertical-align: middle;\n",
       "    }\n",
       "\n",
       "    .dataframe tbody tr th {\n",
       "        vertical-align: top;\n",
       "    }\n",
       "\n",
       "    .dataframe thead th {\n",
       "        text-align: right;\n",
       "    }\n",
       "</style>\n",
       "<table border=\"1\" class=\"dataframe\">\n",
       "  <thead>\n",
       "    <tr style=\"text-align: right;\">\n",
       "      <th></th>\n",
       "      <th>sentence_id</th>\n",
       "      <th>speechdate</th>\n",
       "      <th>debate</th>\n",
       "      <th>text</th>\n",
       "      <th>speaker</th>\n",
       "    </tr>\n",
       "  </thead>\n",
       "  <tbody>\n",
       "    <tr>\n",
       "      <th>1035142</th>\n",
       "      <td>S3V0198P0_19116</td>\n",
       "      <td>1869-08-11</td>\n",
       "      <td>BURGLARIES AT STAINES. —QUESTION.</td>\n",
       "      <td>The value of the property taken in one case wa...</td>\n",
       "      <td>MR. BRUCE</td>\n",
       "    </tr>\n",
       "    <tr>\n",
       "      <th>1035143</th>\n",
       "      <td>S3V0198P0_19117</td>\n",
       "      <td>1869-08-11</td>\n",
       "      <td>BURGLARIES AT STAINES. —QUESTION.</td>\n",
       "      <td>In consequence of the burglaries two mounted p...</td>\n",
       "      <td>MR. BRUCE</td>\n",
       "    </tr>\n",
       "    <tr>\n",
       "      <th>1035144</th>\n",
       "      <td>S3V0198P0_19118</td>\n",
       "      <td>1869-08-11</td>\n",
       "      <td>JAMAICA CLERGY ACT. —QUESTION.</td>\n",
       "      <td>said, he wished to ask the Under Secretary of ...</td>\n",
       "      <td>MR. M'ARTHUR</td>\n",
       "    </tr>\n",
       "    <tr>\n",
       "      <th>1035145</th>\n",
       "      <td>S3V0198P0_19119</td>\n",
       "      <td>1869-08-11</td>\n",
       "      <td>JAMAICA CLERGY ACT. —QUESTION.</td>\n",
       "      <td>said, in reply, that the Jamaica Clergy Act wo...</td>\n",
       "      <td>MR. MONSELL</td>\n",
       "    </tr>\n",
       "    <tr>\n",
       "      <th>1035146</th>\n",
       "      <td>S3V0198P0_19120</td>\n",
       "      <td>1869-08-11</td>\n",
       "      <td>JAMAICA CLERGY ACT. —QUESTION.</td>\n",
       "      <td>Under that Act more than £20, 000, raised out ...</td>\n",
       "      <td>MR. MONSELL</td>\n",
       "    </tr>\n",
       "    <tr>\n",
       "      <th>1035147</th>\n",
       "      <td>S3V0198P0_19121</td>\n",
       "      <td>1869-08-11</td>\n",
       "      <td>JAMAICA CLERGY ACT. —QUESTION.</td>\n",
       "      <td>By the Census of 1861 it appeared that there w...</td>\n",
       "      <td>MR. MONSELL</td>\n",
       "    </tr>\n",
       "    <tr>\n",
       "      <th>1035148</th>\n",
       "      <td>S3V0198P0_19122</td>\n",
       "      <td>1869-08-11</td>\n",
       "      <td>JAMAICA CLERGY ACT. —QUESTION.</td>\n",
       "      <td>Of this sum of £20, 000, all, except £370, wen...</td>\n",
       "      <td>MR. MONSELL</td>\n",
       "    </tr>\n",
       "    <tr>\n",
       "      <th>1035149</th>\n",
       "      <td>S3V0198P0_19123</td>\n",
       "      <td>1869-08-11</td>\n",
       "      <td>JAMAICA CLERGY ACT. —QUESTION.</td>\n",
       "      <td>Under these circumstances it had been determin...</td>\n",
       "      <td>MR. MONSELL</td>\n",
       "    </tr>\n",
       "    <tr>\n",
       "      <th>1035150</th>\n",
       "      <td>S3V0198P0_19124</td>\n",
       "      <td>1869-08-11</td>\n",
       "      <td>JAMAICA CLERGY ACT. —QUESTION.</td>\n",
       "      <td>No scheme had yet been submitted by the Govern...</td>\n",
       "      <td>MR. MONSELL</td>\n",
       "    </tr>\n",
       "    <tr>\n",
       "      <th>1035151</th>\n",
       "      <td>S3V0198P0_19125</td>\n",
       "      <td>1869-08-11</td>\n",
       "      <td>PROROGATION OF THE PARLIAMENT.</td>\n",
       "      <td>said—</td>\n",
       "      <td>THE LORD CHANCELLOR</td>\n",
       "    </tr>\n",
       "  </tbody>\n",
       "</table>\n",
       "</div>"
      ],
      "text/plain": [
       "             sentence_id  speechdate                             debate  \\\n",
       "1035142  S3V0198P0_19116  1869-08-11  BURGLARIES AT STAINES. —QUESTION.   \n",
       "1035143  S3V0198P0_19117  1869-08-11  BURGLARIES AT STAINES. —QUESTION.   \n",
       "1035144  S3V0198P0_19118  1869-08-11     JAMAICA CLERGY ACT. —QUESTION.   \n",
       "1035145  S3V0198P0_19119  1869-08-11     JAMAICA CLERGY ACT. —QUESTION.   \n",
       "1035146  S3V0198P0_19120  1869-08-11     JAMAICA CLERGY ACT. —QUESTION.   \n",
       "1035147  S3V0198P0_19121  1869-08-11     JAMAICA CLERGY ACT. —QUESTION.   \n",
       "1035148  S3V0198P0_19122  1869-08-11     JAMAICA CLERGY ACT. —QUESTION.   \n",
       "1035149  S3V0198P0_19123  1869-08-11     JAMAICA CLERGY ACT. —QUESTION.   \n",
       "1035150  S3V0198P0_19124  1869-08-11     JAMAICA CLERGY ACT. —QUESTION.   \n",
       "1035151  S3V0198P0_19125  1869-08-11     PROROGATION OF THE PARLIAMENT.   \n",
       "\n",
       "                                                      text  \\\n",
       "1035142  The value of the property taken in one case wa...   \n",
       "1035143  In consequence of the burglaries two mounted p...   \n",
       "1035144  said, he wished to ask the Under Secretary of ...   \n",
       "1035145  said, in reply, that the Jamaica Clergy Act wo...   \n",
       "1035146  Under that Act more than £20, 000, raised out ...   \n",
       "1035147  By the Census of 1861 it appeared that there w...   \n",
       "1035148  Of this sum of £20, 000, all, except £370, wen...   \n",
       "1035149  Under these circumstances it had been determin...   \n",
       "1035150  No scheme had yet been submitted by the Govern...   \n",
       "1035151                                              said—   \n",
       "\n",
       "                     speaker  \n",
       "1035142            MR. BRUCE  \n",
       "1035143            MR. BRUCE  \n",
       "1035144         MR. M'ARTHUR  \n",
       "1035145          MR. MONSELL  \n",
       "1035146          MR. MONSELL  \n",
       "1035147          MR. MONSELL  \n",
       "1035148          MR. MONSELL  \n",
       "1035149          MR. MONSELL  \n",
       "1035150          MR. MONSELL  \n",
       "1035151  THE LORD CHANCELLOR  "
      ]
     },
     "execution_count": 8,
     "metadata": {},
     "output_type": "execute_result"
    }
   ],
   "source": [
    "hansard.tail(n=10)"
   ]
  },
  {
   "cell_type": "markdown",
   "metadata": {},
   "source": [
    "From this quick overview we learned that our data is stored as a panda's DataFrame and its columns contain the following:\n",
    "\n",
    " - indexes for every row\n",
    " - unique sentence IDs for every sentence\n",
    " - the dates of the debates\n",
    " - the title of the debate\n",
    " - the debate text\n",
    " - the speaker\n",
    "\n",
    "We also learned that the debates in our sample data begin in January 1860 and end in December 1890.\n",
    "\n",
    "The usefulness of the provided metadata for analysis is limited, however. In the following section we will create our own metadata about the bigrams recorded in the Hansard debates."
   ]
  },
  {
   "cell_type": "markdown",
   "metadata": {},
   "source": [
    "### Installing and Importing textacy and spaCy"
   ]
  },
  {
   "cell_type": "markdown",
   "metadata": {},
   "source": [
    "<div class=\"alert alert-block alert-info\">\n",
    "<b>Note:</b> This instruction is intended for those running Jupyter on their personal computers. textacy and spaCy are already installed on M2.\n",
    "</div>"
   ]
  },
  {
   "cell_type": "markdown",
   "metadata": {},
   "source": [
    "Neither textacy or spaCy are native to the Conda environment so they require installation before they can be imported. textacty can be easily installed from the Anaconda cloud with `conda install`."
   ]
  },
  {
   "cell_type": "code",
   "execution_count": null,
   "metadata": {},
   "outputs": [],
   "source": [
    "conda install -c conda-forge textacy"
   ]
  },
  {
   "cell_type": "markdown",
   "metadata": {},
   "source": [
    "spaCy can be installed on the command line or by running a Shell command in Jupyter. To run Shell commands in Jupyter use `!` followed by the command you wish to execute.\n",
    "\n",
    "The following code installs spaCy and downloads the English language model."
   ]
  },
  {
   "cell_type": "code",
   "execution_count": null,
   "metadata": {},
   "outputs": [],
   "source": [
    "!pip install spacy\n",
    "!spacy download en"
   ]
  },
  {
   "cell_type": "markdown",
   "metadata": {},
   "source": [
    "<div class=\"alert alert-block alert-info\">\n",
    "<b>Note:</b> Windows users should run Jupyter as administrator to install spaCy. To run Jupyter as administrator, type \"Anaconda Navigator\" in Search and right click \"run as administrator.\"\n",
    "</div>"
   ]
  },
  {
   "cell_type": "markdown",
   "metadata": {},
   "source": [
    "After installation, both textacy and spaCy can be imported."
   ]
  },
  {
   "cell_type": "markdown",
   "metadata": {},
   "source": [
    "### Parsing Text with spaCy"
   ]
  },
  {
   "cell_type": "code",
   "execution_count": 9,
   "metadata": {},
   "outputs": [],
   "source": [
    "import textacy, spacy"
   ]
  },
  {
   "cell_type": "markdown",
   "metadata": {},
   "source": [
    "The language model we downloaded during installation can be loaded with `spacy.load()`. `spacy.load()` returns a Language object with the components and data required to process text, components such as a tagger and a tokenizer.\n",
    "\n",
    "For convention's-sake we will call our Language object nlp."
   ]
  },
  {
   "cell_type": "code",
   "execution_count": 10,
   "metadata": {},
   "outputs": [],
   "source": [
    "nlp = spacy.load('en')"
   ]
  },
  {
   "cell_type": "markdown",
   "metadata": {},
   "source": [
    "In the following Notebook, \"Extracting Language Patterns with spaCy\" we will write a program that uses some of the powerful linguistic features spaCy offers. We will explore spaCy's language parser and construct a basic NLP pipeline. The following Notebook will also offer a more detailed look at how spaCy works. \n",
    "\n",
    "For our present goals, however, we will just use spaCy to parse the data. For now we just need to know that parsing the text creates spaCy `doc` objects from which we will extract bigrams."
   ]
  },
  {
   "cell_type": "markdown",
   "metadata": {},
   "source": [
    "<div class=\"alert alert-block alert-info\">\n",
    "<b>Note:</b> Given the amount of work spaCy is performing, this step may take awhile. Now is a good time to get a cup of tea.\n",
    "</div>"
   ]
  },
  {
   "cell_type": "code",
   "execution_count": 12,
   "metadata": {},
   "outputs": [],
   "source": [
    "hansard['parsed_text'] = list(nlp.pipe(hansard['text'], disable = [\"ent\"]))"
   ]
  },
  {
   "cell_type": "code",
   "execution_count": 13,
   "metadata": {
    "scrolled": true
   },
   "outputs": [
    {
     "data": {
      "text/html": [
       "<div>\n",
       "<style scoped>\n",
       "    .dataframe tbody tr th:only-of-type {\n",
       "        vertical-align: middle;\n",
       "    }\n",
       "\n",
       "    .dataframe tbody tr th {\n",
       "        vertical-align: top;\n",
       "    }\n",
       "\n",
       "    .dataframe thead th {\n",
       "        text-align: right;\n",
       "    }\n",
       "</style>\n",
       "<table border=\"1\" class=\"dataframe\">\n",
       "  <thead>\n",
       "    <tr style=\"text-align: right;\">\n",
       "      <th></th>\n",
       "      <th>sentence_id</th>\n",
       "      <th>speechdate</th>\n",
       "      <th>debate</th>\n",
       "      <th>text</th>\n",
       "      <th>speaker</th>\n",
       "      <th>parsed_text</th>\n",
       "    </tr>\n",
       "  </thead>\n",
       "  <tbody>\n",
       "    <tr>\n",
       "      <th>0</th>\n",
       "      <td>S3V0156P0_0</td>\n",
       "      <td>1860-01-24</td>\n",
       "      <td>MEETING OF THE PARLIAMENT.</td>\n",
       "      <td>which had been prorogued successively to the 2...</td>\n",
       "      <td>THE PARLIAMENT,</td>\n",
       "      <td>(which, had, been, prorogued, successively, to...</td>\n",
       "    </tr>\n",
       "    <tr>\n",
       "      <th>1</th>\n",
       "      <td>S3V0156P0_1</td>\n",
       "      <td>1860-01-24</td>\n",
       "      <td>THE QUEEN'S SPEECH.</td>\n",
       "      <td>being seated on the Throne, and the Commons be...</td>\n",
       "      <td>THE QUEEN</td>\n",
       "      <td>(being, seated, on, the, Throne, ,, and, the, ...</td>\n",
       "    </tr>\n",
       "    <tr>\n",
       "      <th>2</th>\n",
       "      <td>S3V0156P0_2</td>\n",
       "      <td>1860-01-24</td>\n",
       "      <td>ADDRESS IN ANSWER TO HER MAJESTY'S SPEECH.</td>\n",
       "      <td>in rising to move that an humble Address be pr...</td>\n",
       "      <td>EARL FITZWILLIAM,</td>\n",
       "      <td>(in, rising, to, move, that, an, humble, Addre...</td>\n",
       "    </tr>\n",
       "    <tr>\n",
       "      <th>3</th>\n",
       "      <td>S3V0156P0_3</td>\n",
       "      <td>1860-01-24</td>\n",
       "      <td>ADDRESS IN ANSWER TO HER MAJESTY'S SPEECH.</td>\n",
       "      <td>My Lords, it is with diffidence that I rise to...</td>\n",
       "      <td>EARL FITZWILLIAM,</td>\n",
       "      <td>(My, Lords, ,, it, is, with, diffidence, that,...</td>\n",
       "    </tr>\n",
       "    <tr>\n",
       "      <th>4</th>\n",
       "      <td>S3V0156P0_4</td>\n",
       "      <td>1860-01-24</td>\n",
       "      <td>ADDRESS IN ANSWER TO HER MAJESTY'S SPEECH.</td>\n",
       "      <td>We hear from Her gracious Majesty that it is w...</td>\n",
       "      <td>EARL FITZWILLIAM,</td>\n",
       "      <td>(We, hear, from, Her, gracious, Majesty, that,...</td>\n",
       "    </tr>\n",
       "    <tr>\n",
       "      <th>...</th>\n",
       "      <td>...</td>\n",
       "      <td>...</td>\n",
       "      <td>...</td>\n",
       "      <td>...</td>\n",
       "      <td>...</td>\n",
       "      <td>...</td>\n",
       "    </tr>\n",
       "    <tr>\n",
       "      <th>1035147</th>\n",
       "      <td>S3V0198P0_19121</td>\n",
       "      <td>1869-08-11</td>\n",
       "      <td>JAMAICA CLERGY ACT. —QUESTION.</td>\n",
       "      <td>By the Census of 1861 it appeared that there w...</td>\n",
       "      <td>MR. MONSELL</td>\n",
       "      <td>(By, the, Census, of, 1861, it, appeared, that...</td>\n",
       "    </tr>\n",
       "    <tr>\n",
       "      <th>1035148</th>\n",
       "      <td>S3V0198P0_19122</td>\n",
       "      <td>1869-08-11</td>\n",
       "      <td>JAMAICA CLERGY ACT. —QUESTION.</td>\n",
       "      <td>Of this sum of £20, 000, all, except £370, wen...</td>\n",
       "      <td>MR. MONSELL</td>\n",
       "      <td>(Of, this, sum, of, £, 20, ,, 000, ,, all, ,, ...</td>\n",
       "    </tr>\n",
       "    <tr>\n",
       "      <th>1035149</th>\n",
       "      <td>S3V0198P0_19123</td>\n",
       "      <td>1869-08-11</td>\n",
       "      <td>JAMAICA CLERGY ACT. —QUESTION.</td>\n",
       "      <td>Under these circumstances it had been determin...</td>\n",
       "      <td>MR. MONSELL</td>\n",
       "      <td>(Under, these, circumstances, it, had, been, d...</td>\n",
       "    </tr>\n",
       "    <tr>\n",
       "      <th>1035150</th>\n",
       "      <td>S3V0198P0_19124</td>\n",
       "      <td>1869-08-11</td>\n",
       "      <td>JAMAICA CLERGY ACT. —QUESTION.</td>\n",
       "      <td>No scheme had yet been submitted by the Govern...</td>\n",
       "      <td>MR. MONSELL</td>\n",
       "      <td>(No, scheme, had, yet, been, submitted, by, th...</td>\n",
       "    </tr>\n",
       "    <tr>\n",
       "      <th>1035151</th>\n",
       "      <td>S3V0198P0_19125</td>\n",
       "      <td>1869-08-11</td>\n",
       "      <td>PROROGATION OF THE PARLIAMENT.</td>\n",
       "      <td>said—</td>\n",
       "      <td>THE LORD CHANCELLOR</td>\n",
       "      <td>(said, —)</td>\n",
       "    </tr>\n",
       "  </tbody>\n",
       "</table>\n",
       "<p>1035152 rows × 6 columns</p>\n",
       "</div>"
      ],
      "text/plain": [
       "             sentence_id  speechdate  \\\n",
       "0            S3V0156P0_0  1860-01-24   \n",
       "1            S3V0156P0_1  1860-01-24   \n",
       "2            S3V0156P0_2  1860-01-24   \n",
       "3            S3V0156P0_3  1860-01-24   \n",
       "4            S3V0156P0_4  1860-01-24   \n",
       "...                  ...         ...   \n",
       "1035147  S3V0198P0_19121  1869-08-11   \n",
       "1035148  S3V0198P0_19122  1869-08-11   \n",
       "1035149  S3V0198P0_19123  1869-08-11   \n",
       "1035150  S3V0198P0_19124  1869-08-11   \n",
       "1035151  S3V0198P0_19125  1869-08-11   \n",
       "\n",
       "                                             debate  \\\n",
       "0                        MEETING OF THE PARLIAMENT.   \n",
       "1                               THE QUEEN'S SPEECH.   \n",
       "2        ADDRESS IN ANSWER TO HER MAJESTY'S SPEECH.   \n",
       "3        ADDRESS IN ANSWER TO HER MAJESTY'S SPEECH.   \n",
       "4        ADDRESS IN ANSWER TO HER MAJESTY'S SPEECH.   \n",
       "...                                             ...   \n",
       "1035147              JAMAICA CLERGY ACT. —QUESTION.   \n",
       "1035148              JAMAICA CLERGY ACT. —QUESTION.   \n",
       "1035149              JAMAICA CLERGY ACT. —QUESTION.   \n",
       "1035150              JAMAICA CLERGY ACT. —QUESTION.   \n",
       "1035151              PROROGATION OF THE PARLIAMENT.   \n",
       "\n",
       "                                                      text  \\\n",
       "0        which had been prorogued successively to the 2...   \n",
       "1        being seated on the Throne, and the Commons be...   \n",
       "2        in rising to move that an humble Address be pr...   \n",
       "3        My Lords, it is with diffidence that I rise to...   \n",
       "4        We hear from Her gracious Majesty that it is w...   \n",
       "...                                                    ...   \n",
       "1035147  By the Census of 1861 it appeared that there w...   \n",
       "1035148  Of this sum of £20, 000, all, except £370, wen...   \n",
       "1035149  Under these circumstances it had been determin...   \n",
       "1035150  No scheme had yet been submitted by the Govern...   \n",
       "1035151                                              said—   \n",
       "\n",
       "                     speaker  \\\n",
       "0            THE PARLIAMENT,   \n",
       "1                  THE QUEEN   \n",
       "2          EARL FITZWILLIAM,   \n",
       "3          EARL FITZWILLIAM,   \n",
       "4          EARL FITZWILLIAM,   \n",
       "...                      ...   \n",
       "1035147          MR. MONSELL   \n",
       "1035148          MR. MONSELL   \n",
       "1035149          MR. MONSELL   \n",
       "1035150          MR. MONSELL   \n",
       "1035151  THE LORD CHANCELLOR   \n",
       "\n",
       "                                               parsed_text  \n",
       "0        (which, had, been, prorogued, successively, to...  \n",
       "1        (being, seated, on, the, Throne, ,, and, the, ...  \n",
       "2        (in, rising, to, move, that, an, humble, Addre...  \n",
       "3        (My, Lords, ,, it, is, with, diffidence, that,...  \n",
       "4        (We, hear, from, Her, gracious, Majesty, that,...  \n",
       "...                                                    ...  \n",
       "1035147  (By, the, Census, of, 1861, it, appeared, that...  \n",
       "1035148  (Of, this, sum, of, £, 20, ,, 000, ,, all, ,, ...  \n",
       "1035149  (Under, these, circumstances, it, had, been, d...  \n",
       "1035150  (No, scheme, had, yet, been, submitted, by, th...  \n",
       "1035151                                          (said, —)  \n",
       "\n",
       "[1035152 rows x 6 columns]"
      ]
     },
     "execution_count": 13,
     "metadata": {},
     "output_type": "execute_result"
    }
   ],
   "source": [
    "hansard"
   ]
  },
  {
   "cell_type": "markdown",
   "metadata": {},
   "source": [
    "Our data frame now contains a new column named `parsed_text`. Each row of `parsed_text` contains a spaCy `doc` object."
   ]
  },
  {
   "cell_type": "markdown",
   "metadata": {},
   "source": [
    "### Extracting Bigrams"
   ]
  },
  {
   "cell_type": "markdown",
   "metadata": {},
   "source": [
    "We can use textacy to extract bigrams.\n",
    "\n",
    "The following code iterates through every row in `parsed_text` and extacts bigrams within spaCy `doc` objects using `textacy.extract.ngrams()`. By default, bigrams are extracted as spaCy `generator` objects and every bigram in a `doc` object belongs to a single list. For the purposes of counting and visualizing each bigram we can cast the extracted bigrams to a list (instead of keeping them as `generator` objects)."
   ]
  },
  {
   "cell_type": "code",
   "execution_count": null,
   "metadata": {},
   "outputs": [],
   "source": []
  },
  {
   "cell_type": "markdown",
   "metadata": {},
   "source": [
    "These bigrams, however, still need to undergo processing. As they stand, every bigram from a `doc` object are concatenated. To count individual bigrams, we will need to split the bigrams."
   ]
  },
  {
   "cell_type": "code",
   "execution_count": null,
   "metadata": {},
   "outputs": [],
   "source": []
  },
  {
   "cell_type": "markdown",
   "metadata": {},
   "source": [
    "We can also transform every element within a bigram to lower case so we don't count words with different cases separately."
   ]
  },
  {
   "cell_type": "code",
   "execution_count": null,
   "metadata": {},
   "outputs": [],
   "source": []
  },
  {
   "cell_type": "markdown",
   "metadata": {},
   "source": [
    "Of course, running each step separately can be time consuming and it doesn't leave us with a function we can call later if we wanted to extract bigrams from another decade.\n",
    "\n",
    "The following code defines a function, `extractBigrams`, that embeds the previous steps in a for loop."
   ]
  },
  {
   "cell_type": "code",
   "execution_count": null,
   "metadata": {},
   "outputs": [],
   "source": [
    "def extractBigrams(parsed_hansard):\n",
    "    bigrams = []\n",
    "    for row in parsed_hansard['parsed_text']:\n",
    "        extracted_ngrams = list(textacy.extract.ngrams(row,2))\n",
    "        for ngram in extracted_ngrams:\n",
    "            strings = str(ngram)\n",
    "            split_strings = strings.split(\",\")\n",
    "            for element in split_strings:\n",
    "                clean_elements = element.lower()\n",
    "                bigrams.append(str(clean_elements))\n",
    "    return bigrams\n",
    "\n",
    "bigrams = extractBigrams(hansard)"
   ]
  },
  {
   "cell_type": "code",
   "execution_count": null,
   "metadata": {},
   "outputs": [],
   "source": [
    "bigrams"
   ]
  },
  {
   "cell_type": "markdown",
   "metadata": {},
   "source": [
    "After extracting bigrams we can remove stop words, or words that are not significant for our analysis like \"the\" or \"do.\" We can also remove common terms heard in Parliament like \"speech\" or \"address."
   ]
  },
  {
   "cell_type": "code",
   "execution_count": null,
   "metadata": {},
   "outputs": [],
   "source": [
    "stopwords = ['right', 'hon', 'general', 'mr', 'shall', 'majesty', 'exchequer', 'address', 'motion', 'bill',\n",
    "             'earl', 'friend', 'chancellor', 'sense', 'object', 'suppose', 'amidst', 'noble', 'lord', 'agree',\n",
    "             'speech', 'kind', 'january', 'february', 'march', 'april', 'may', 'june', 'july', 'august', 'september',\n",
    "             'october', 'november', 'december', 'order', 'held', 'hold', 'assembly', '£', 'humble', 'about', 'above',\n",
    "             'across', 'address', 'after', 'afterwards', 'again', 'against', 'agree', 'all', 'almost', 'alone', 'along',\n",
    "             'already', 'also', 'although', 'always', 'am', 'amidst', 'among', 'amongst', 'amount', 'an', 'and', 'another',\n",
    "             'any', 'anyhow', 'anything', 'anyway', 'anywhere', 'april', 'are', 'around', 'as', 'at', 'back', 'be', 'was',\n",
    "             'becames', 'because', 'become', 'becomes', 'becoming', 'been', 'before', 'beforehand', 'behind', 'being',\n",
    "             'beside', 'besides', 'between', 'beyond', 'both', 'bottom', 'but', 'by', 'call', 'can', 'cannot', 'do',\n",
    "             'could', 'did', 'does', 'doing', 'done', 'down', 'due', 'during', 'each', 'either', 'else', 'elsewhere',\n",
    "             'empty', 'enough', 'even', 'ever', 'everyone', 'everything', 'everywhere', 'except', 'few', 'first', 'for',\n",
    "             'from', 'front', 'full', 'further', 'general', 'get', 'give', 'go', 'had', 'has', 'have', 'held', 'hence',\n",
    "             'here', 'hereby', 'herein', 'hold', 'however', 'if', 'in', 'indeed', 'into', 'is', 'it', 'its', 'itself',\n",
    "             'just', 'keep', 'kind', 'last', 'latter', 'least', 'less', 'made', 'make', 'many', 'me', 'meanwhile', 'might',\n",
    "             'mine', 'more', 'most', 'mostly', 'move', 'much', 'must', 'name,' 'neither', 'never', 'nevertheless', 'next',\n",
    "             'no', 'noble', 'nobody', 'none', 'nor', 'nothing', 'now', 'nowhere', 'of', 'off', 'often', 'on', 'one', 'once',\n",
    "             'only', 'onto', 'or', 'other', 'others', 'otherwise', 'out', 'over', 'own', 'part', 'perhaps', 'please', 'put',\n",
    "             'quite', 'rather', 'really', 'regarding', 'same', 'say', 'see', 'seem', 'seemed', 'seeming', 'seems', 'sense',\n",
    "             'several', 'shall', 'should', 'show', 'side', 'since', 'so', 'some', 'someone', 'something', 'sometime',\n",
    "             'still', 'such', 'suppose', 'take', 'than', 'that', 'the', 'then', 'there', 'thereby', 'therefore', 'these',\n",
    "             'they', 'this', 'those', 'though', 'thus', 'to', 'together', 'too', 'top', 'toward', 'towards', 'under',\n",
    "             'unless', 'until', 'up', 'upon', 'us', 'used', 'using', 'various', 'very', 'was', 'we', 'well', 'were', 'what',\n",
    "             'whatever', 'when', 'when', 'whereby', 'whether', 'which', 'while', 'who', 'why', 'will', 'with', 'within',\n",
    "             'without', 'would', 'yet']"
   ]
  },
  {
   "cell_type": "markdown",
   "metadata": {},
   "source": [
    "<div class=\"alert alert-block alert-info\">\n",
    "<b>Note:</b> A more sophisticated stop words list suitable for research should undergo careful consideration and more curation than the above.\n",
    "</div>"
   ]
  },
  {
   "cell_type": "markdown",
   "metadata": {},
   "source": [
    "We can remove these stop words by defining a function that \n",
    "\n",
    "\n",
    "the following code iterates through each bigram and splits the bigram into individual tokens. If a token does not match a stop word then it is kept. The individual tokens are then concatenated. \n",
    "\n",
    "(enter)"
   ]
  },
  {
   "cell_type": "code",
   "execution_count": null,
   "metadata": {},
   "outputs": [],
   "source": [
    "def removeStopWords(bigrams):\n",
    "    keep_bigrams = []\n",
    "    for bigram in bigrams:\n",
    "        tokens = bigram.split(\" \")\n",
    "        tokens_filtered = [word for word in tokens if not word in stopwords]\n",
    "        tokens_joined = [\"\".join(tokens_filtered)]\n",
    "        if len(tokens_filtered) == 2:\n",
    "            keep_bigrams.append(str(tokens_filtered))\n",
    "    return keep_bigrams\n",
    "\n",
    "bigrams = removeStopWords(bigrams)"
   ]
  },
  {
   "cell_type": "code",
   "execution_count": null,
   "metadata": {},
   "outputs": [],
   "source": [
    "print(*bigrams)"
   ]
  },
  {
   "cell_type": "markdown",
   "metadata": {},
   "source": [
    "We can now count the bigrams extracted from the Hansard data. While Python offers several ways to count words, one easy way is through basic addition.\n",
    "\n",
    "In the following code any bigram not already in the dictionary is added and given the count 1. As the for loop iterates, 1 is added to the count for every word already in the dictionary."
   ]
  },
  {
   "cell_type": "code",
   "execution_count": null,
   "metadata": {},
   "outputs": [],
   "source": [
    "def countWords(clean_data):\n",
    "    ngrams_dict = {}\n",
    "    for ngram in clean_data:\n",
    "        if ngram in ngrams_dict:\n",
    "            ngrams_dict[ngram] += 1\n",
    "        else:\n",
    "            ngrams_dict[ngram] = 1\n",
    "    return ngrams_dict\n",
    "            \n",
    "bigrams_dict = countWords(clean_bigrams)"
   ]
  },
  {
   "cell_type": "code",
   "execution_count": null,
   "metadata": {},
   "outputs": [],
   "source": [
    "print(*bigrams_dict)"
   ]
  },
  {
   "cell_type": "markdown",
   "metadata": {},
   "source": [
    "At this point we have produced more metadata about the Hansard debates. We know how many times each bigram (without a stop word) was recorded.\n",
    "\n",
    "However, these frequency counts alone don't communicate too much information about the corpus. One way we can better explore this metadata is through visualization. \n",
    "\n",
    "This following section will visualize the top bigrams from 1860. But before we visualize the data, for the sake of saving computer resources and processing time, we can remove bigrams we know we are not intersted in, like bigrams with low counts."
   ]
  },
  {
   "cell_type": "code",
   "execution_count": null,
   "metadata": {},
   "outputs": [],
   "source": [
    "def filterDictionary(dict):\n",
    "    filtered_dict = {}\n",
    "    for value in dict:\n",
    "        if dict[value] >= 400:\n",
    "            filtered_dict[value] = dict[value]\n",
    "    return filtered_dict\n",
    "\n",
    "top_bigrams_dict = filterDictionary(bigrams_dict)"
   ]
  },
  {
   "cell_type": "code",
   "execution_count": null,
   "metadata": {},
   "outputs": [],
   "source": [
    "top_bigrams_dict"
   ]
  },
  {
   "cell_type": "markdown",
   "metadata": {},
   "source": [
    "### Visualizing the Metadata"
   ]
  },
  {
   "cell_type": "markdown",
   "metadata": {},
   "source": [
    "Creating informative visualizations is one of the most important steps in data analysis. Visualizations might be created as part of the exploratory process, for example, when looking for trends. Or, visualizations might be used to communicate ideas to others.\n",
    "\n",
    "In this section we will visualize the top bigrams for both communication and exploration purposes. We will visualize the bigrams to share information about our new metadata in an easily digestable way, and we will also make observations based on our visualization that might springboard us into more nuanced questions about history.\n",
    "\n",
    "We will create our visualization using matplotlib. matplotlib is a MATLAb-like plotting interface designed for creating (mostly) two-dimensional visualizations. We will just visualize our metadata with a simple bar graph that depicts the first 20 bigrams with the highest word count.\n",
    "\n",
    "Before using matplotlib, however, we can prep our data so it graphs nicely. pandas and matplotlib are well integrated, so making a new pandas DataFrame from our dictionary of bigrams will prepping easier.\n",
    "\n",
    "The following code makes a pandas DataFrame from `top_bigrams_dict` with columns for bigrams and their count. "
   ]
  },
  {
   "cell_type": "code",
   "execution_count": 80,
   "metadata": {},
   "outputs": [],
   "source": [
    "top_bigrams = pd.DataFrame(top_bigrams_dict.items(),columns = ['bigram', 'count'])"
   ]
  },
  {
   "cell_type": "code",
   "execution_count": 81,
   "metadata": {},
   "outputs": [
    {
     "data": {
      "text/html": [
       "<div>\n",
       "<style scoped>\n",
       "    .dataframe tbody tr th:only-of-type {\n",
       "        vertical-align: middle;\n",
       "    }\n",
       "\n",
       "    .dataframe tbody tr th {\n",
       "        vertical-align: top;\n",
       "    }\n",
       "\n",
       "    .dataframe thead th {\n",
       "        text-align: right;\n",
       "    }\n",
       "</style>\n",
       "<table border=\"1\" class=\"dataframe\">\n",
       "  <thead>\n",
       "    <tr style=\"text-align: right;\">\n",
       "      <th></th>\n",
       "      <th>bigram</th>\n",
       "      <th>count</th>\n",
       "    </tr>\n",
       "  </thead>\n",
       "  <tbody>\n",
       "    <tr>\n",
       "      <th>0</th>\n",
       "      <td>['gracious speech']</td>\n",
       "      <td>103</td>\n",
       "    </tr>\n",
       "    <tr>\n",
       "      <th>1</th>\n",
       "      <td>['humble address']</td>\n",
       "      <td>217</td>\n",
       "    </tr>\n",
       "    <tr>\n",
       "      <th>2</th>\n",
       "      <td>['foreign countries']</td>\n",
       "      <td>522</td>\n",
       "    </tr>\n",
       "    <tr>\n",
       "      <th>3</th>\n",
       "      <td>['commercial treaty']</td>\n",
       "      <td>493</td>\n",
       "    </tr>\n",
       "    <tr>\n",
       "      <th>4</th>\n",
       "      <td>['italian people']</td>\n",
       "      <td>113</td>\n",
       "    </tr>\n",
       "    <tr>\n",
       "      <th>...</th>\n",
       "      <td>...</td>\n",
       "      <td>...</td>\n",
       "    </tr>\n",
       "    <tr>\n",
       "      <th>2094</th>\n",
       "      <td>['personal rating']</td>\n",
       "      <td>109</td>\n",
       "    </tr>\n",
       "    <tr>\n",
       "      <th>2095</th>\n",
       "      <td>['concurrent endowment']</td>\n",
       "      <td>335</td>\n",
       "    </tr>\n",
       "    <tr>\n",
       "      <th>2096</th>\n",
       "      <td>['church bill']</td>\n",
       "      <td>123</td>\n",
       "    </tr>\n",
       "    <tr>\n",
       "      <th>2097</th>\n",
       "      <td>['disestablished church']</td>\n",
       "      <td>151</td>\n",
       "    </tr>\n",
       "    <tr>\n",
       "      <th>2098</th>\n",
       "      <td>['church body']</td>\n",
       "      <td>310</td>\n",
       "    </tr>\n",
       "  </tbody>\n",
       "</table>\n",
       "<p>2099 rows × 2 columns</p>\n",
       "</div>"
      ],
      "text/plain": [
       "                         bigram  count\n",
       "0           ['gracious speech']    103\n",
       "1            ['humble address']    217\n",
       "2         ['foreign countries']    522\n",
       "3         ['commercial treaty']    493\n",
       "4            ['italian people']    113\n",
       "...                         ...    ...\n",
       "2094        ['personal rating']    109\n",
       "2095   ['concurrent endowment']    335\n",
       "2096            ['church bill']    123\n",
       "2097  ['disestablished church']    151\n",
       "2098            ['church body']    310\n",
       "\n",
       "[2099 rows x 2 columns]"
      ]
     },
     "execution_count": 81,
     "metadata": {},
     "output_type": "execute_result"
    }
   ],
   "source": [
    "top_bigrams"
   ]
  },
  {
   "cell_type": "markdown",
   "metadata": {},
   "source": [
    "Once the bigrams and their counts are in a DataFrame we can arrange them in ascending order so the bigrams with the highest word counts are on top."
   ]
  },
  {
   "cell_type": "code",
   "execution_count": 83,
   "metadata": {},
   "outputs": [],
   "source": [
    "top_bigrams.sort_values(by=['count'], inplace=True, ascending=False)"
   ]
  },
  {
   "cell_type": "code",
   "execution_count": 84,
   "metadata": {
    "scrolled": true
   },
   "outputs": [
    {
     "data": {
      "text/html": [
       "<div>\n",
       "<style scoped>\n",
       "    .dataframe tbody tr th:only-of-type {\n",
       "        vertical-align: middle;\n",
       "    }\n",
       "\n",
       "    .dataframe tbody tr th {\n",
       "        vertical-align: top;\n",
       "    }\n",
       "\n",
       "    .dataframe thead th {\n",
       "        text-align: right;\n",
       "    }\n",
       "</style>\n",
       "<table border=\"1\" class=\"dataframe\">\n",
       "  <thead>\n",
       "    <tr style=\"text-align: right;\">\n",
       "      <th></th>\n",
       "      <th>bigram</th>\n",
       "      <th>count</th>\n",
       "    </tr>\n",
       "  </thead>\n",
       "  <tbody>\n",
       "    <tr>\n",
       "      <th>322</th>\n",
       "      <td>['right hon']</td>\n",
       "      <td>44614</td>\n",
       "    </tr>\n",
       "    <tr>\n",
       "      <th>74</th>\n",
       "      <td>['noble lord']</td>\n",
       "      <td>19580</td>\n",
       "    </tr>\n",
       "    <tr>\n",
       "      <th>79</th>\n",
       "      <td>['noble earl']</td>\n",
       "      <td>9376</td>\n",
       "    </tr>\n",
       "    <tr>\n",
       "      <th>38</th>\n",
       "      <td>['noble friend']</td>\n",
       "      <td>8511</td>\n",
       "    </tr>\n",
       "    <tr>\n",
       "      <th>629</th>\n",
       "      <td>['roman catholic']</td>\n",
       "      <td>6463</td>\n",
       "    </tr>\n",
       "    <tr>\n",
       "      <th>...</th>\n",
       "      <td>...</td>\n",
       "      <td>...</td>\n",
       "    </tr>\n",
       "    <tr>\n",
       "      <th>1939</th>\n",
       "      <td>['agricultural statistics']</td>\n",
       "      <td>100</td>\n",
       "    </tr>\n",
       "    <tr>\n",
       "      <th>1069</th>\n",
       "      <td>['practical experience']</td>\n",
       "      <td>100</td>\n",
       "    </tr>\n",
       "    <tr>\n",
       "      <th>476</th>\n",
       "      <td>['practical question']</td>\n",
       "      <td>100</td>\n",
       "    </tr>\n",
       "    <tr>\n",
       "      <th>635</th>\n",
       "      <td>['certain portions']</td>\n",
       "      <td>100</td>\n",
       "    </tr>\n",
       "    <tr>\n",
       "      <th>678</th>\n",
       "      <td>['greatest respect']</td>\n",
       "      <td>100</td>\n",
       "    </tr>\n",
       "  </tbody>\n",
       "</table>\n",
       "<p>2099 rows × 2 columns</p>\n",
       "</div>"
      ],
      "text/plain": [
       "                           bigram  count\n",
       "322                 ['right hon']  44614\n",
       "74                 ['noble lord']  19580\n",
       "79                 ['noble earl']   9376\n",
       "38               ['noble friend']   8511\n",
       "629            ['roman catholic']   6463\n",
       "...                           ...    ...\n",
       "1939  ['agricultural statistics']    100\n",
       "1069     ['practical experience']    100\n",
       "476        ['practical question']    100\n",
       "635          ['certain portions']    100\n",
       "678          ['greatest respect']    100\n",
       "\n",
       "[2099 rows x 2 columns]"
      ]
     },
     "execution_count": 84,
     "metadata": {},
     "output_type": "execute_result"
    }
   ],
   "source": [
    "top_bigrams"
   ]
  },
  {
   "cell_type": "markdown",
   "metadata": {},
   "source": [
    "We can create a subset of the first 20 bigrams for our visualization."
   ]
  },
  {
   "cell_type": "code",
   "execution_count": 108,
   "metadata": {},
   "outputs": [
    {
     "data": {
      "text/html": [
       "<div>\n",
       "<style scoped>\n",
       "    .dataframe tbody tr th:only-of-type {\n",
       "        vertical-align: middle;\n",
       "    }\n",
       "\n",
       "    .dataframe tbody tr th {\n",
       "        vertical-align: top;\n",
       "    }\n",
       "\n",
       "    .dataframe thead th {\n",
       "        text-align: right;\n",
       "    }\n",
       "</style>\n",
       "<table border=\"1\" class=\"dataframe\">\n",
       "  <thead>\n",
       "    <tr style=\"text-align: right;\">\n",
       "      <th></th>\n",
       "      <th>column1</th>\n",
       "      <th>column2</th>\n",
       "    </tr>\n",
       "  </thead>\n",
       "  <tbody>\n",
       "    <tr>\n",
       "      <th>4</th>\n",
       "      <td>gracious Speech</td>\n",
       "      <td>3</td>\n",
       "    </tr>\n",
       "    <tr>\n",
       "      <th>5</th>\n",
       "      <td>humble Address</td>\n",
       "      <td>2</td>\n",
       "    </tr>\n",
       "    <tr>\n",
       "      <th>0</th>\n",
       "      <td>prorogued successively</td>\n",
       "      <td>1</td>\n",
       "    </tr>\n",
       "    <tr>\n",
       "      <th>39</th>\n",
       "      <td>political complications</td>\n",
       "      <td>1</td>\n",
       "    </tr>\n",
       "    <tr>\n",
       "      <th>29</th>\n",
       "      <td>inexperience appealed</td>\n",
       "      <td>1</td>\n",
       "    </tr>\n",
       "    <tr>\n",
       "      <th>30</th>\n",
       "      <td>unmixed satisfaction</td>\n",
       "      <td>1</td>\n",
       "    </tr>\n",
       "    <tr>\n",
       "      <th>31</th>\n",
       "      <td>high national</td>\n",
       "      <td>1</td>\n",
       "    </tr>\n",
       "    <tr>\n",
       "      <th>32</th>\n",
       "      <td>national concern</td>\n",
       "      <td>1</td>\n",
       "    </tr>\n",
       "    <tr>\n",
       "      <th>33</th>\n",
       "      <td>expanded commerce</td>\n",
       "      <td>1</td>\n",
       "    </tr>\n",
       "    <tr>\n",
       "      <th>34</th>\n",
       "      <td>sounder condition</td>\n",
       "      <td>1</td>\n",
       "    </tr>\n",
       "  </tbody>\n",
       "</table>\n",
       "</div>"
      ],
      "text/plain": [
       "                    column1  column2\n",
       "4           gracious Speech        3\n",
       "5            humble Address        2\n",
       "0    prorogued successively        1\n",
       "39  political complications        1\n",
       "29    inexperience appealed        1\n",
       "30     unmixed satisfaction        1\n",
       "31            high national        1\n",
       "32         national concern        1\n",
       "33        expanded commerce        1\n",
       "34        sounder condition        1"
      ]
     },
     "execution_count": 108,
     "metadata": {},
     "output_type": "execute_result"
    }
   ],
   "source": [
    "top_bigrams = bigramsSorted[:20].copy()"
   ]
  },
  {
   "cell_type": "code",
   "execution_count": null,
   "metadata": {},
   "outputs": [],
   "source": [
    "top_bigrams"
   ]
  },
  {
   "cell_type": "markdown",
   "metadata": {},
   "source": [
    "For the purposes of creating a clean visualization we can also remove the brackets and commas left from our data transformations. The following code creates an array of the characters we wish to remove and then replaces each character."
   ]
  },
  {
   "cell_type": "code",
   "execution_count": null,
   "metadata": {},
   "outputs": [],
   "source": [
    "stop_chr = '\\]|\\[|\\,|\\''\n",
    "\n",
    "top_bigrams['text'] = top_bigrams['text'].str.replace(stop_chr,\"\")"
   ]
  },
  {
   "cell_type": "code",
   "execution_count": null,
   "metadata": {},
   "outputs": [],
   "source": [
    "top_bigrams"
   ]
  },
  {
   "cell_type": "markdown",
   "metadata": {},
   "source": [
    "After preparation, our metadata about the top bigrams recorded in the 1860s is now ready to be visualized."
   ]
  },
  {
   "cell_type": "code",
   "execution_count": 99,
   "metadata": {},
   "outputs": [],
   "source": [
    "import matplotlib"
   ]
  },
  {
   "cell_type": "code",
   "execution_count": 115,
   "metadata": {
    "scrolled": true
   },
   "outputs": [
    {
     "data": {
      "text/plain": [
       "<matplotlib.axes._subplots.AxesSubplot at 0x291da340988>"
      ]
     },
     "execution_count": 115,
     "metadata": {},
     "output_type": "execute_result"
    },
    {
     "data": {
      "image/png": "[encoded data removed]",
      "text/plain": [
       "<Figure size 432x288 with 1 Axes>"
      ]
     },
     "metadata": {
      "needs_background": "light"
     },
     "output_type": "display_data"
    }
   ],
   "source": [
    "df.plot.barh(x = \"column1\", y = \"column2\",\n",
    "            title = \"Top Bigrams in ENTER\")"
   ]
  },
  {
   "cell_type": "markdown",
   "metadata": {},
   "source": [
    "### Discussion"
   ]
  },
  {
   "cell_type": "markdown",
   "metadata": {},
   "source": [
    "In this Notebook we asked: what is metadata? Can I create my own metadata, and to what use can I put it? \n",
    "\n",
    "Metadata, we learned, is data that communicates information about other data. We started our code excersize with metadata about the Hansard corpus that was too general to draw analytical conclusions from in their own right, metadata like column headings, dates, and debate titles. We also had a column for debate text, but the text was not in a comprehensible form for deriving more metadata. Therefore, we processed the text column and created our own metadata, the top bigrams (sans stop words) with the purpose of gaining greater insight into Parliamentary discourse in the 1860s. \n",
    "\n",
    "While we were successful in our goals, much of this metadata beckons for a more focused search through the corpus. Many results are too general to draw conlcusions about the debates. For example, (enter).\n",
    "\n",
    "Indeed, these bigrams ask for a discerning analysts to search yet again but with a more focused process. A discerning analyst could, for example, extract bigrams with just the word \"nation\" to investigate which words often directly preceeded or proceeded this word and what these words might tell us about (enter). Or, a discerning analyst could \n",
    "\n",
    "a particular subtopic instead of bigrams in general.\n",
    "\n",
    "\n",
    "or possessive gender terms? \n",
    "\n",
    "\n",
    "The next Notebook, \"Extracting Langauge Patterns with spaCy\" thus picks up where this one leaves off by (enter).\n"
   ]
  }
 ],
 "metadata": {
  "kernelspec": {
   "display_name": "Python 3",
   "language": "python",
   "name": "python3"
  },
  "language_info": {
   "codemirror_mode": {
    "name": "ipython",
    "version": 3
   },
   "file_extension": ".py",
   "mimetype": "text/x-python",
   "name": "python",
   "nbconvert_exporter": "python",
   "pygments_lexer": "ipython3",
   "version": "3.7.6"
  }
 },
 "nbformat": 4,
 "nbformat_minor": 4
}
