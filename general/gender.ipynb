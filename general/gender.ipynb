{
 "cells": [
  {
   "cell_type": "markdown",
   "metadata": {},
   "source": [
    "# Gender and Testimony - Extracting Language Patterns with spaCy"
   ]
  },
  {
   "cell_type": "markdown",
   "metadata": {},
   "source": [
    "### Before We Begin . . ."
   ]
  },
  {
   "cell_type": "markdown",
   "metadata": {},
   "source": [
    "This Notebook expects you to have reviewed [Lauren Klein's](https://github.com/laurenfklein/emory-qtm340/blob/master/notebooks/class11-nlp-spacy-complete.ipynb) \"crash course\" introduction to natural language processing (NLP). If you have never used spaCy before or are unfamiliar with basic linguistic concepts it is encouraged that you first scroll down to the section \"Installing and Importing spaCy\" (in this Notebook) for installation directions and then work through Klein's Notebook before continuing."
   ]
  },
  {
   "cell_type": "markdown",
   "metadata": {},
   "source": [
    "### The Ongoing Problem of Data-Driven Text Analysis"
   ]
  },
  {
   "cell_type": "markdown",
   "metadata": {},
   "source": [
    "The process of extracting meaningful language patterns poses underlying challenges for any data-driven textual analysis. Here, this challenge is imagined as two-fold: analysts must determine which patterns are \"meaningful\" and analysts must apply the appropriate methods and tools to extract these meaningful patterns.\n",
    "\n",
    "Determining which patterns are meaningful might not be immediately clear when working with an unfamiliar corpus, or when working with a familiar corpus that has complexities beyond what we thought we knew. Noticing new patterns or ideas is a common experience when re-reading a familiar text through a different angle.\n",
    "\n",
    "Deciding which language patterns are meaningful should therefore be a critical, iterative process. We must ask guiding questions and also evaluate the efficacy of these questions. What kinds of rabbit holes do our questions lead us down? Are there risks involved in the way we ask questions--risks such as distorting the subject matter at hand in order to confirm our own biases?\n",
    "\n",
    "Analysts must also match guiding questions with an appropriate technique while being mindful that the methods and tools used to measure a corpus also give shape to the corpus and our analysis.\n",
    "\n",
    "The purpose of this Notebook is to engage with this two-fold problem while text mining with spaCy NLP. In this exercise we will algorithmically read the 1870 Hansard debates with the purpose of analyzing word co-occurance of grammatical gendered pronoun-verb pairs. These pairs are not necessarily consecutive, like bigrams, but instead share syntactic relations in a sentence.\n",
    "\n",
    "To explore how technique and analysis go hand-in-hand, this Notebook will ask a high-level, guiding question about gender: what kinds of actions are associated with male and female pronouns in 1870? "
   ]
  },
  {
   "cell_type": "markdown",
   "metadata": {},
   "source": [
    "### Why spaCy?"
   ]
  },
  {
   "cell_type": "markdown",
   "metadata": {},
   "source": [
    "spaCy is a comprehensive, industrial-grade software library for natural language processing (NLP). It provides tools to extract language patterns. From a linguistic standpoint, spaCy outperforms popular tools like NLTK because spaCy offers advanced statistical language models from which it parses and tags words.\n",
    "\n",
    "spaCy's NLP pipeline is shown below. Provided with text, spaCy can tokenize, tag, parse, perform named entity recognition, and more. \n",
    "\n",
    "The pipeline returns a parsed `Doc` object."
   ]
  },
  {
   "cell_type": "markdown",
   "metadata": {},
   "source": [
    "<img src=\"data:image/png;base64,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\n",
    "\">"
   ]
  },
  {
   "cell_type": "markdown",
   "metadata": {},
   "source": [
    "spaCy's [linguistic features](https://spacy.io/usage/linguistic-features) include:\n",
    "\n",
    "#### 1. Syntactic dependency parsing\n",
    "\n",
    "Syntax is the ordering from which words derive meaning within a sentence. After parsing words' syntactic dependencies, analysts can reconstruct grammatical rules for the purpose of extracting parts-of-speech.\n",
    "\n",
    "#### 2. Part-of-speech tagging\n",
    "\n",
    "Parts-of-speech are lexical categories that corresponds with a word's syntactic function--categories like \"adjective\" or \"verb.\" spaCy tags parts-of-speech using a statistical model to predict which tag should most likely appear in a given context. \n",
    "\n",
    "#### 3. Rule-based morphology\n",
    "\n",
    "Morphology refers to word form and how different forms relate to other words in a sentence. Consider the verbs \"write\" and \"writing\" in the following sentences: \n",
    "\n",
    "    \"I write programs.\"\n",
    "    \"I am writing a program.\"\n",
    "\n",
    "The later is called an inflectional form. It is important to note that inflectional forms do not change a word's part-of-speech.\n",
    "\n",
    "Morphology is important to the process of lemmatization, or transforming words to their base form. Lemmatizing words before measuring them can streamline our results so words like \"rent\" and \"rented\" are not counted separately.\n",
    "\n",
    "#### 4. Tokenization\n",
    "\n",
    "Tokenization is the process of splitting texts into meaningful segments like n-grams. spaCy has tokenization support for over [59 languages](https://spacy.io/usage/models).\n",
    "\n",
    "#### 5. Entity Extraction\n",
    "\n",
    "spaCy offers entity recognition for a variety of named and numeric entities including locations, person names, and organizations. Users can also add their own classes of entities."
   ]
  },
  {
   "cell_type": "markdown",
   "metadata": {},
   "source": [
    "### Installing and Importing spaCy"
   ]
  },
  {
   "cell_type": "markdown",
   "metadata": {},
   "source": [
    "Despite how the names \"spaCy\" and \"Jupyter\" seem to suggest they were brewed together in a Python sci-fi themed lab, spaCy is not native to Jupyter's Conda environment. spaCy can be installed on the command line or by running a Shell command in Jupyter. To run Shell commands in Jupyter use `!` followed by the command you wish to execute.\n",
    "\n",
    "The following code installs spaCy and downloads the English language model."
   ]
  },
  {
   "cell_type": "code",
   "execution_count": null,
   "metadata": {},
   "outputs": [],
   "source": [
    "!pip install -U spacy"
   ]
  },
  {
   "cell_type": "code",
   "execution_count": null,
   "metadata": {},
   "outputs": [],
   "source": [
    "!python -m spacy download en"
   ]
  },
  {
   "cell_type": "markdown",
   "metadata": {},
   "source": [
    "<div class=\"alert alert-block alert-info\">\n",
    "<b>Note:</b> Windows users should run Jupyter as administrator to install spaCy. To run Jupyter as administrator, type \"Anaconda Navigator\" in Search and right click \"run as administrator.\"\n",
    "</div>"
   ]
  },
  {
   "cell_type": "markdown",
   "metadata": {},
   "source": [
    "spaCy can be imported after installation."
   ]
  },
  {
   "cell_type": "code",
   "execution_count": 1,
   "metadata": {},
   "outputs": [],
   "source": [
    "import spacy, warnings; warnings.simplefilter('ignore')"
   ]
  },
  {
   "cell_type": "markdown",
   "metadata": {},
   "source": [
    "The language model can be loaded with `spacy.load()`. `spacy.load()` returns a `Language` object with the components and data required to process text such as a tagger and a tokenizer. \n",
    "\n",
    "For convention's-sake we will call our `Language` object `nlp`."
   ]
  },
  {
   "cell_type": "code",
   "execution_count": 2,
   "metadata": {},
   "outputs": [],
   "source": [
    "nlp = spacy.load('en')"
   ]
  },
  {
   "cell_type": "markdown",
   "metadata": {},
   "source": [
    "<div class=\"alert alert-block alert-info\">\n",
    "<b>Note:</b> Running dir(nlp) will return the object's attributes.\n",
    "</div>"
   ]
  },
  {
   "cell_type": "markdown",
   "metadata": {},
   "source": [
    "Now we need the data we wish to analyze. We can use the same data from last code exercise to compare how our approach to mining changes our perspective of the Hansard data."
   ]
  },
  {
   "cell_type": "markdown",
   "metadata": {},
   "source": [
    "### Loading the Hansard data"
   ]
  },
  {
   "cell_type": "markdown",
   "metadata": {},
   "source": [
    "<div class=\"alert alert-block alert-info\">\n",
    "<b>Note:</b> The metadata for this Notebook is located on M2 at `/scratch/group/pract-text-mine/digital-history`.\n",
    "</div>"
   ]
  },
  {
   "cell_type": "markdown",
   "metadata": {},
   "source": [
    "pandas offers methods to read the Hansard data."
   ]
  },
  {
   "cell_type": "code",
   "execution_count": 5,
   "metadata": {},
   "outputs": [],
   "source": [
    "import pandas as pd\n",
    "\n",
    "hansard = pd.read_csv('hansard_1870_79.csv')"
   ]
  },
  {
   "cell_type": "code",
   "execution_count": 6,
   "metadata": {},
   "outputs": [
    {
     "data": {
      "text/html": [
       "<div>\n",
       "<style scoped>\n",
       "    .dataframe tbody tr th:only-of-type {\n",
       "        vertical-align: middle;\n",
       "    }\n",
       "\n",
       "    .dataframe tbody tr th {\n",
       "        vertical-align: top;\n",
       "    }\n",
       "\n",
       "    .dataframe thead th {\n",
       "        text-align: right;\n",
       "    }\n",
       "</style>\n",
       "<table border=\"1\" class=\"dataframe\">\n",
       "  <thead>\n",
       "    <tr style=\"text-align: right;\">\n",
       "      <th></th>\n",
       "      <th>sentence_id</th>\n",
       "      <th>speechdate</th>\n",
       "      <th>debate</th>\n",
       "      <th>text</th>\n",
       "      <th>speaker</th>\n",
       "    </tr>\n",
       "  </thead>\n",
       "  <tbody>\n",
       "    <tr>\n",
       "      <th>0</th>\n",
       "      <td>S3V0199P0_0</td>\n",
       "      <td>1870-02-08</td>\n",
       "      <td>THE QUEEN'S SPEECH.</td>\n",
       "      <td>delivered HER MAJESTY'S SPEECH to both Houses ...</td>\n",
       "      <td>THE LORD CHANCELLOR</td>\n",
       "    </tr>\n",
       "    <tr>\n",
       "      <th>1</th>\n",
       "      <td>S3V0199P0_1</td>\n",
       "      <td>1870-02-08</td>\n",
       "      <td>THE QUEEN'S SPEECH— ADDRESS IN ANSWER TO HER M...</td>\n",
       "      <td>My Lords, I rise to move that a humble Address...</td>\n",
       "      <td>THE MARQUESS OF HUNTLY</td>\n",
       "    </tr>\n",
       "    <tr>\n",
       "      <th>2</th>\n",
       "      <td>S3V0199P0_2</td>\n",
       "      <td>1870-02-08</td>\n",
       "      <td>THE QUEEN'S SPEECH— ADDRESS IN ANSWER TO HER M...</td>\n",
       "      <td>I venture to ask your Lordships' indulgence in...</td>\n",
       "      <td>THE MARQUESS OF HUNTLY</td>\n",
       "    </tr>\n",
       "    <tr>\n",
       "      <th>3</th>\n",
       "      <td>S3V0199P0_3</td>\n",
       "      <td>1870-02-08</td>\n",
       "      <td>THE QUEEN'S SPEECH— ADDRESS IN ANSWER TO HER M...</td>\n",
       "      <td>I trust that any errors I may be guilty of may...</td>\n",
       "      <td>THE MARQUESS OF HUNTLY</td>\n",
       "    </tr>\n",
       "    <tr>\n",
       "      <th>4</th>\n",
       "      <td>S3V0199P0_4</td>\n",
       "      <td>1870-02-08</td>\n",
       "      <td>THE QUEEN'S SPEECH— ADDRESS IN ANSWER TO HER M...</td>\n",
       "      <td>I am sure your Lordships will have heard with ...</td>\n",
       "      <td>THE MARQUESS OF HUNTLY</td>\n",
       "    </tr>\n",
       "    <tr>\n",
       "      <th>...</th>\n",
       "      <td>...</td>\n",
       "      <td>...</td>\n",
       "      <td>...</td>\n",
       "      <td>...</td>\n",
       "      <td>...</td>\n",
       "    </tr>\n",
       "    <tr>\n",
       "      <th>1130415</th>\n",
       "      <td>S3V0249P0_13044</td>\n",
       "      <td>1879-08-15</td>\n",
       "      <td>ROYAL COMMISSIONS—REPORTS AND EVIDENCE. —QUEST...</td>\n",
       "      <td>Gentleman may be assured that no undue partial...</td>\n",
       "      <td>MR. GOSCHEN</td>\n",
       "    </tr>\n",
       "    <tr>\n",
       "      <th>1130416</th>\n",
       "      <td>S3V0249P0_13045</td>\n",
       "      <td>1879-08-15</td>\n",
       "      <td>OFFENSIVE PRINTS. —QUESTION.</td>\n",
       "      <td>asked the Secretary of State for the Home De- ...</td>\n",
       "      <td>SIR PATRICK O'BRIEN</td>\n",
       "    </tr>\n",
       "    <tr>\n",
       "      <th>1130417</th>\n",
       "      <td>S3V0249P0_13046</td>\n",
       "      <td>1879-08-15</td>\n",
       "      <td>OFFENSIVE PRINTS. —QUESTION.</td>\n",
       "      <td>Sir, in reference to a reply which I recently ...</td>\n",
       "      <td>MR. ASSHETON CROSS</td>\n",
       "    </tr>\n",
       "    <tr>\n",
       "      <th>1130418</th>\n",
       "      <td>S3V0249P0_13047</td>\n",
       "      <td>1879-08-15</td>\n",
       "      <td>OFFENSIVE PRINTS. —QUESTION.</td>\n",
       "      <td>I do not retract anything that I said on a for...</td>\n",
       "      <td>MR. ASSHETON CROSS</td>\n",
       "    </tr>\n",
       "    <tr>\n",
       "      <th>1130419</th>\n",
       "      <td>S3V0249P0_13048</td>\n",
       "      <td>1879-08-15</td>\n",
       "      <td>PROROGATION OF THE PARLIAMENT.</td>\n",
       "      <td>said—</td>\n",
       "      <td>THE LORD CHANCELLOR</td>\n",
       "    </tr>\n",
       "  </tbody>\n",
       "</table>\n",
       "<p>1130420 rows × 5 columns</p>\n",
       "</div>"
      ],
      "text/plain": [
       "             sentence_id  speechdate  \\\n",
       "0            S3V0199P0_0  1870-02-08   \n",
       "1            S3V0199P0_1  1870-02-08   \n",
       "2            S3V0199P0_2  1870-02-08   \n",
       "3            S3V0199P0_3  1870-02-08   \n",
       "4            S3V0199P0_4  1870-02-08   \n",
       "...                  ...         ...   \n",
       "1130415  S3V0249P0_13044  1879-08-15   \n",
       "1130416  S3V0249P0_13045  1879-08-15   \n",
       "1130417  S3V0249P0_13046  1879-08-15   \n",
       "1130418  S3V0249P0_13047  1879-08-15   \n",
       "1130419  S3V0249P0_13048  1879-08-15   \n",
       "\n",
       "                                                    debate  \\\n",
       "0                                      THE QUEEN'S SPEECH.   \n",
       "1        THE QUEEN'S SPEECH— ADDRESS IN ANSWER TO HER M...   \n",
       "2        THE QUEEN'S SPEECH— ADDRESS IN ANSWER TO HER M...   \n",
       "3        THE QUEEN'S SPEECH— ADDRESS IN ANSWER TO HER M...   \n",
       "4        THE QUEEN'S SPEECH— ADDRESS IN ANSWER TO HER M...   \n",
       "...                                                    ...   \n",
       "1130415  ROYAL COMMISSIONS—REPORTS AND EVIDENCE. —QUEST...   \n",
       "1130416                       OFFENSIVE PRINTS. —QUESTION.   \n",
       "1130417                       OFFENSIVE PRINTS. —QUESTION.   \n",
       "1130418                       OFFENSIVE PRINTS. —QUESTION.   \n",
       "1130419                     PROROGATION OF THE PARLIAMENT.   \n",
       "\n",
       "                                                      text  \\\n",
       "0        delivered HER MAJESTY'S SPEECH to both Houses ...   \n",
       "1        My Lords, I rise to move that a humble Address...   \n",
       "2        I venture to ask your Lordships' indulgence in...   \n",
       "3        I trust that any errors I may be guilty of may...   \n",
       "4        I am sure your Lordships will have heard with ...   \n",
       "...                                                    ...   \n",
       "1130415  Gentleman may be assured that no undue partial...   \n",
       "1130416  asked the Secretary of State for the Home De- ...   \n",
       "1130417  Sir, in reference to a reply which I recently ...   \n",
       "1130418  I do not retract anything that I said on a for...   \n",
       "1130419                                              said—   \n",
       "\n",
       "                        speaker  \n",
       "0           THE LORD CHANCELLOR  \n",
       "1        THE MARQUESS OF HUNTLY  \n",
       "2        THE MARQUESS OF HUNTLY  \n",
       "3        THE MARQUESS OF HUNTLY  \n",
       "4        THE MARQUESS OF HUNTLY  \n",
       "...                         ...  \n",
       "1130415             MR. GOSCHEN  \n",
       "1130416     SIR PATRICK O'BRIEN  \n",
       "1130417      MR. ASSHETON CROSS  \n",
       "1130418      MR. ASSHETON CROSS  \n",
       "1130419     THE LORD CHANCELLOR  \n",
       "\n",
       "[1130420 rows x 5 columns]"
      ]
     },
     "execution_count": 6,
     "metadata": {},
     "output_type": "execute_result"
    }
   ],
   "source": [
    "hansard"
   ]
  },
  {
   "cell_type": "markdown",
   "metadata": {},
   "source": [
    "### Parsing Text with spaCy"
   ]
  },
  {
   "cell_type": "markdown",
   "metadata": {},
   "source": [
    "As demonstrated in [Klein's Notebook](https://github.com/laurenfklein/emory-qtm340/blob/master/notebooks/class11-nlp-spacy-complete.ipynb), invoking `nlp` on a string of text will return a processed `Doc` object. Within each `Doc` object is a spaCy `token` object. From these `token` objects we can access a word's lemmatized form, its part-of-speech, and other attributes.\n",
    "\n",
    "Unlike Klein's data, however, ours is in a data frame where each row is a string of text. To use `.nlp()` we must iteratate through each row of the data frame.\n",
    "\n",
    "A standard way to iterate in Python is with `.apply()`, such as in the example: `dataframe['parsed_text'] = dataframe['text'].apply(nlp)`. spaCy, however, offers highly optimized tools to improve parsing time. For example, `nlp.pipe()` is more efficient because it processes the data in a stream where it is processed in small batches instead of all at once. To improve parsing time we can also disable features that we will not use for this exercise like named entity recognition, or `ent`.\n",
    "\n",
    "Keep in mind, however, that `nlp.pipe()` returns a `generator` object that yields `Doc` objects. To interact with the data as usual we must cast the `generator` objects to a list."
   ]
  },
  {
   "cell_type": "markdown",
   "metadata": {},
   "source": [
    "<div class=\"alert alert-block alert-info\">\n",
    "<b>Note:</b> The following code returns a large data set (~30G). If you are running this Notebook on a personal computer (instead of M2) then before invoking `nlp.pipe()` consider filtering the data for just sentences with gendered pronouns or subsetting the data for just the `text` column."
   ]
  },
  {
   "cell_type": "code",
   "execution_count": 7,
   "metadata": {},
   "outputs": [],
   "source": [
    "hansard['parsed_text'] = list(nlp.pipe(hansard['text'], disable = [\"ent\"]))"
   ]
  },
  {
   "cell_type": "code",
   "execution_count": 8,
   "metadata": {},
   "outputs": [
    {
     "data": {
      "text/html": [
       "<div>\n",
       "<style scoped>\n",
       "    .dataframe tbody tr th:only-of-type {\n",
       "        vertical-align: middle;\n",
       "    }\n",
       "\n",
       "    .dataframe tbody tr th {\n",
       "        vertical-align: top;\n",
       "    }\n",
       "\n",
       "    .dataframe thead th {\n",
       "        text-align: right;\n",
       "    }\n",
       "</style>\n",
       "<table border=\"1\" class=\"dataframe\">\n",
       "  <thead>\n",
       "    <tr style=\"text-align: right;\">\n",
       "      <th></th>\n",
       "      <th>sentence_id</th>\n",
       "      <th>speechdate</th>\n",
       "      <th>debate</th>\n",
       "      <th>text</th>\n",
       "      <th>speaker</th>\n",
       "      <th>parsed_text</th>\n",
       "    </tr>\n",
       "  </thead>\n",
       "  <tbody>\n",
       "    <tr>\n",
       "      <th>0</th>\n",
       "      <td>S3V0199P0_0</td>\n",
       "      <td>1870-02-08</td>\n",
       "      <td>THE QUEEN'S SPEECH.</td>\n",
       "      <td>delivered HER MAJESTY'S SPEECH to both Houses ...</td>\n",
       "      <td>THE LORD CHANCELLOR</td>\n",
       "      <td>(delivered, HER, MAJESTY, 'S, SPEECH, to, both...</td>\n",
       "    </tr>\n",
       "    <tr>\n",
       "      <th>1</th>\n",
       "      <td>S3V0199P0_1</td>\n",
       "      <td>1870-02-08</td>\n",
       "      <td>THE QUEEN'S SPEECH— ADDRESS IN ANSWER TO HER M...</td>\n",
       "      <td>My Lords, I rise to move that a humble Address...</td>\n",
       "      <td>THE MARQUESS OF HUNTLY</td>\n",
       "      <td>(My, Lords, ,, I, rise, to, move, that, a, hum...</td>\n",
       "    </tr>\n",
       "    <tr>\n",
       "      <th>2</th>\n",
       "      <td>S3V0199P0_2</td>\n",
       "      <td>1870-02-08</td>\n",
       "      <td>THE QUEEN'S SPEECH— ADDRESS IN ANSWER TO HER M...</td>\n",
       "      <td>I venture to ask your Lordships' indulgence in...</td>\n",
       "      <td>THE MARQUESS OF HUNTLY</td>\n",
       "      <td>(I, venture, to, ask, your, Lordships, ', indu...</td>\n",
       "    </tr>\n",
       "    <tr>\n",
       "      <th>3</th>\n",
       "      <td>S3V0199P0_3</td>\n",
       "      <td>1870-02-08</td>\n",
       "      <td>THE QUEEN'S SPEECH— ADDRESS IN ANSWER TO HER M...</td>\n",
       "      <td>I trust that any errors I may be guilty of may...</td>\n",
       "      <td>THE MARQUESS OF HUNTLY</td>\n",
       "      <td>(I, trust, that, any, errors, I, may, be, guil...</td>\n",
       "    </tr>\n",
       "    <tr>\n",
       "      <th>4</th>\n",
       "      <td>S3V0199P0_4</td>\n",
       "      <td>1870-02-08</td>\n",
       "      <td>THE QUEEN'S SPEECH— ADDRESS IN ANSWER TO HER M...</td>\n",
       "      <td>I am sure your Lordships will have heard with ...</td>\n",
       "      <td>THE MARQUESS OF HUNTLY</td>\n",
       "      <td>(I, am, sure, your, Lordships, will, have, hea...</td>\n",
       "    </tr>\n",
       "    <tr>\n",
       "      <th>...</th>\n",
       "      <td>...</td>\n",
       "      <td>...</td>\n",
       "      <td>...</td>\n",
       "      <td>...</td>\n",
       "      <td>...</td>\n",
       "      <td>...</td>\n",
       "    </tr>\n",
       "    <tr>\n",
       "      <th>1130415</th>\n",
       "      <td>S3V0249P0_13044</td>\n",
       "      <td>1879-08-15</td>\n",
       "      <td>ROYAL COMMISSIONS—REPORTS AND EVIDENCE. —QUEST...</td>\n",
       "      <td>Gentleman may be assured that no undue partial...</td>\n",
       "      <td>MR. GOSCHEN</td>\n",
       "      <td>(Gentleman, may, be, assured, that, no, undue,...</td>\n",
       "    </tr>\n",
       "    <tr>\n",
       "      <th>1130416</th>\n",
       "      <td>S3V0249P0_13045</td>\n",
       "      <td>1879-08-15</td>\n",
       "      <td>OFFENSIVE PRINTS. —QUESTION.</td>\n",
       "      <td>asked the Secretary of State for the Home De- ...</td>\n",
       "      <td>SIR PATRICK O'BRIEN</td>\n",
       "      <td>(asked, the, Secretary, of, State, for, the, H...</td>\n",
       "    </tr>\n",
       "    <tr>\n",
       "      <th>1130417</th>\n",
       "      <td>S3V0249P0_13046</td>\n",
       "      <td>1879-08-15</td>\n",
       "      <td>OFFENSIVE PRINTS. —QUESTION.</td>\n",
       "      <td>Sir, in reference to a reply which I recently ...</td>\n",
       "      <td>MR. ASSHETON CROSS</td>\n",
       "      <td>(Sir, ,, in, reference, to, a, reply, which, I...</td>\n",
       "    </tr>\n",
       "    <tr>\n",
       "      <th>1130418</th>\n",
       "      <td>S3V0249P0_13047</td>\n",
       "      <td>1879-08-15</td>\n",
       "      <td>OFFENSIVE PRINTS. —QUESTION.</td>\n",
       "      <td>I do not retract anything that I said on a for...</td>\n",
       "      <td>MR. ASSHETON CROSS</td>\n",
       "      <td>(I, do, not, retract, anything, that, I, said,...</td>\n",
       "    </tr>\n",
       "    <tr>\n",
       "      <th>1130419</th>\n",
       "      <td>S3V0249P0_13048</td>\n",
       "      <td>1879-08-15</td>\n",
       "      <td>PROROGATION OF THE PARLIAMENT.</td>\n",
       "      <td>said—</td>\n",
       "      <td>THE LORD CHANCELLOR</td>\n",
       "      <td>(said, —)</td>\n",
       "    </tr>\n",
       "  </tbody>\n",
       "</table>\n",
       "<p>1130420 rows × 6 columns</p>\n",
       "</div>"
      ],
      "text/plain": [
       "             sentence_id  speechdate  \\\n",
       "0            S3V0199P0_0  1870-02-08   \n",
       "1            S3V0199P0_1  1870-02-08   \n",
       "2            S3V0199P0_2  1870-02-08   \n",
       "3            S3V0199P0_3  1870-02-08   \n",
       "4            S3V0199P0_4  1870-02-08   \n",
       "...                  ...         ...   \n",
       "1130415  S3V0249P0_13044  1879-08-15   \n",
       "1130416  S3V0249P0_13045  1879-08-15   \n",
       "1130417  S3V0249P0_13046  1879-08-15   \n",
       "1130418  S3V0249P0_13047  1879-08-15   \n",
       "1130419  S3V0249P0_13048  1879-08-15   \n",
       "\n",
       "                                                    debate  \\\n",
       "0                                      THE QUEEN'S SPEECH.   \n",
       "1        THE QUEEN'S SPEECH— ADDRESS IN ANSWER TO HER M...   \n",
       "2        THE QUEEN'S SPEECH— ADDRESS IN ANSWER TO HER M...   \n",
       "3        THE QUEEN'S SPEECH— ADDRESS IN ANSWER TO HER M...   \n",
       "4        THE QUEEN'S SPEECH— ADDRESS IN ANSWER TO HER M...   \n",
       "...                                                    ...   \n",
       "1130415  ROYAL COMMISSIONS—REPORTS AND EVIDENCE. —QUEST...   \n",
       "1130416                       OFFENSIVE PRINTS. —QUESTION.   \n",
       "1130417                       OFFENSIVE PRINTS. —QUESTION.   \n",
       "1130418                       OFFENSIVE PRINTS. —QUESTION.   \n",
       "1130419                     PROROGATION OF THE PARLIAMENT.   \n",
       "\n",
       "                                                      text  \\\n",
       "0        delivered HER MAJESTY'S SPEECH to both Houses ...   \n",
       "1        My Lords, I rise to move that a humble Address...   \n",
       "2        I venture to ask your Lordships' indulgence in...   \n",
       "3        I trust that any errors I may be guilty of may...   \n",
       "4        I am sure your Lordships will have heard with ...   \n",
       "...                                                    ...   \n",
       "1130415  Gentleman may be assured that no undue partial...   \n",
       "1130416  asked the Secretary of State for the Home De- ...   \n",
       "1130417  Sir, in reference to a reply which I recently ...   \n",
       "1130418  I do not retract anything that I said on a for...   \n",
       "1130419                                              said—   \n",
       "\n",
       "                        speaker  \\\n",
       "0           THE LORD CHANCELLOR   \n",
       "1        THE MARQUESS OF HUNTLY   \n",
       "2        THE MARQUESS OF HUNTLY   \n",
       "3        THE MARQUESS OF HUNTLY   \n",
       "4        THE MARQUESS OF HUNTLY   \n",
       "...                         ...   \n",
       "1130415             MR. GOSCHEN   \n",
       "1130416     SIR PATRICK O'BRIEN   \n",
       "1130417      MR. ASSHETON CROSS   \n",
       "1130418      MR. ASSHETON CROSS   \n",
       "1130419     THE LORD CHANCELLOR   \n",
       "\n",
       "                                               parsed_text  \n",
       "0        (delivered, HER, MAJESTY, 'S, SPEECH, to, both...  \n",
       "1        (My, Lords, ,, I, rise, to, move, that, a, hum...  \n",
       "2        (I, venture, to, ask, your, Lordships, ', indu...  \n",
       "3        (I, trust, that, any, errors, I, may, be, guil...  \n",
       "4        (I, am, sure, your, Lordships, will, have, hea...  \n",
       "...                                                    ...  \n",
       "1130415  (Gentleman, may, be, assured, that, no, undue,...  \n",
       "1130416  (asked, the, Secretary, of, State, for, the, H...  \n",
       "1130417  (Sir, ,, in, reference, to, a, reply, which, I...  \n",
       "1130418  (I, do, not, retract, anything, that, I, said,...  \n",
       "1130419                                          (said, —)  \n",
       "\n",
       "[1130420 rows x 6 columns]"
      ]
     },
     "execution_count": 8,
     "metadata": {},
     "output_type": "execute_result"
    }
   ],
   "source": [
    "hansard"
   ]
  },
  {
   "cell_type": "markdown",
   "metadata": {},
   "source": [
    "`sampled_data` is a data frame with the following columns:\n",
    "\n",
    " - `sentence_ID`: A unique identifier\n",
    " - `speechdate`: the date of the debate\n",
    " - `text`: the original debate text split into one sentence per row.\n",
    " - `parsed_text`: the parsed debate text where every tuple is spaCy `doc` object containing spacy `token` objects"
   ]
  },
  {
   "cell_type": "markdown",
   "metadata": {},
   "source": [
    "### Processing spaCy `token` Object Attributes for Part-of-Speech Extraction"
   ]
  },
  {
   "cell_type": "markdown",
   "metadata": {},
   "source": [
    "For our analysis, we are just interested in the spaCy `token` objects. The `token` objects include attributes such as:\n",
    "\n",
    " - `.text`: the original word\n",
    " - `.lemma_`: the word's lemmatized form\n",
    " - `.pos_`: the word's part-of-speech\n",
    " - `.dep_`: the word's syntactic dependency\n",
    " - `.head.text`: the text upon which the present word is dependent\n",
    "\n",
    "These attributes can be viewed by iterating through each `doc` object like the following code:"
   ]
  },
  {
   "cell_type": "code",
   "execution_count": 9,
   "metadata": {},
   "outputs": [],
   "source": [
    "def extractTokens(spacy_doc_object):\n",
    "    spacy_tokens = []\n",
    "    for doc in spacy_doc_object['parsed_text']:\n",
    "        for token in doc:\n",
    "            row = (token.text, token.lemma_, token.pos_, token.dep_, token.head.text)\n",
    "            spacy_tokens.append(row)\n",
    "    return spacy_tokens\n",
    "\n",
    "hansard_tokens = extractTokens(hansard)"
   ]
  },
  {
   "cell_type": "code",
   "execution_count": 10,
   "metadata": {},
   "outputs": [
    {
     "data": {
      "text/plain": [
       "[('delivered', 'deliver', 'VERB', 'ROOT', 'delivered'),\n",
       " ('HER', 'her', 'DET', 'poss', 'MAJESTY'),\n",
       " ('MAJESTY', 'MAJESTY', 'PROPN', 'poss', 'SPEECH'),\n",
       " (\"'S\", \"'s\", 'PART', 'case', 'MAJESTY'),\n",
       " ('SPEECH', 'speech', 'NOUN', 'dobj', 'delivered'),\n",
       " ('to', 'to', 'ADP', 'prep', 'delivered'),\n",
       " ('both', 'both', 'DET', 'det', 'Houses'),\n",
       " ('Houses', 'Houses', 'PROPN', 'pobj', 'to'),\n",
       " ('of', 'of', 'ADP', 'prep', 'Houses'),\n",
       " ('Parliament', 'Parliament', 'PROPN', 'pobj', 'of'),\n",
       " (',', ',', 'PUNCT', 'punct', 'delivered'),\n",
       " ('as', 'as', 'SCONJ', 'mark', 'follows'),\n",
       " ('follows', 'follow', 'VERB', 'advcl', 'delivered'),\n",
       " (':', ':', 'PUNCT', 'punct', 'delivered'),\n",
       " ('—', '—', 'PUNCT', 'punct', 'delivered'),\n",
       " ('My', '-PRON-', 'DET', 'poss', 'Lords'),\n",
       " ('Lords', 'Lords', 'PROPN', 'npadvmod', 'rise'),\n",
       " (',', ',', 'PUNCT', 'punct', 'rise'),\n",
       " ('I', '-PRON-', 'PRON', 'nsubj', 'rise'),\n",
       " ('rise', 'rise', 'VERB', 'ROOT', 'rise'),\n",
       " ('to', 'to', 'PART', 'aux', 'move'),\n",
       " ('move', 'move', 'VERB', 'advcl', 'rise'),\n",
       " ('that', 'that', 'SCONJ', 'mark', 'presented'),\n",
       " ('a', 'a', 'DET', 'det', 'Address'),\n",
       " ('humble', 'humble', 'ADJ', 'amod', 'Address'),\n",
       " ('Address', 'address', 'NOUN', 'nsubjpass', 'presented'),\n",
       " ('be', 'be', 'AUX', 'auxpass', 'presented'),\n",
       " ('presented', 'present', 'VERB', 'ccomp', 'move'),\n",
       " ('to', 'to', 'ADP', 'prep', 'presented'),\n",
       " ('Her', '-PRON-', 'DET', 'poss', 'Majesty')]"
      ]
     },
     "execution_count": 10,
     "metadata": {},
     "output_type": "execute_result"
    }
   ],
   "source": [
    "hansard_tokens[:30]"
   ]
  },
  {
   "cell_type": "markdown",
   "metadata": {},
   "source": [
    "<div class=\"alert alert-block alert-info\">\n",
    "<b>Note:</b> NLP's entire list of attributes can be viewed with `dir()`.\n",
    "</div>"
   ]
  },
  {
   "cell_type": "markdown",
   "metadata": {},
   "source": [
    "Sentences can be distilled into parts-of-speech that syntactically relate. These parts-of-speech can be aggregated to see language trends that are difficult or impossible to perceive as a human interpreter.\n",
    "\n",
    "The following code extracts grammatical pairs where the subject is tagged as a noun subject or passive noun subject and is also a child of a verb.\n",
    "\n",
    "The verb is lemmatized to prevent counting inflectional verbs separately from their base form."
   ]
  },
  {
   "cell_type": "code",
   "execution_count": 11,
   "metadata": {},
   "outputs": [],
   "source": [
    "from spacy.symbols import nsubj, nsubjpass, VERB\n",
    "\n",
    "def extractPairs(spacy_doc_object):\n",
    "    pairs = []\n",
    "    for doc in spacy_doc_object['parsed_text']:\n",
    "        for subject in doc:\n",
    "            if subject.dep == nsubj or subject.dep == nsubjpass and subject.head.pos == VERB:\n",
    "                extracted_pairs = subject.text, subject.head.lemma_\n",
    "                test = ' '.join(extracted_pairs)\n",
    "                pairs.append(str(test))\n",
    "    return pairs\n",
    "\n",
    "pairs = extractPairs(hansard)"
   ]
  },
  {
   "cell_type": "code",
   "execution_count": 12,
   "metadata": {},
   "outputs": [
    {
     "data": {
      "text/plain": [
       "['I rise',\n",
       " 'Address present',\n",
       " 'I venture',\n",
       " 'I undertake',\n",
       " 'I trust',\n",
       " 'errors lay',\n",
       " 'I be',\n",
       " 'Lordships look',\n",
       " 'I be',\n",
       " 'Lordships hear',\n",
       " 'I be',\n",
       " 'she suffer',\n",
       " 'which make',\n",
       " 'it impossible',\n",
       " 'her execute',\n",
       " 'relations be',\n",
       " 'It be',\n",
       " 'words refer',\n",
       " 'which lead',\n",
       " 'it be',\n",
       " 'I regret',\n",
       " 'settlement ratify',\n",
       " 'which agree',\n",
       " 'differences receive',\n",
       " 'it be',\n",
       " 'they adjust',\n",
       " 'it gratify',\n",
       " 'feeling exist',\n",
       " 'it be',\n",
       " 'countries be']"
      ]
     },
     "execution_count": 12,
     "metadata": {},
     "output_type": "execute_result"
    }
   ],
   "source": [
    "pairs[:30]"
   ]
  },
  {
   "cell_type": "markdown",
   "metadata": {},
   "source": [
    "`pairs` is a list of strings in which the first element of each string is a subject followed by a verb. \n",
    "\n",
    "We can narrow these results to just strings containing gendered pronouns for the purpose of exploring our guiding question: what kinds of actions are associated with male and female pronouns in 1870?"
   ]
  },
  {
   "cell_type": "markdown",
   "metadata": {},
   "source": [
    "### Filtering for Gendered Pronoun-Verb Pairs"
   ]
  },
  {
   "cell_type": "markdown",
   "metadata": {},
   "source": [
    "For the sake of counting and matching with words regardless of case, we can transform all words to upper case."
   ]
  },
  {
   "cell_type": "code",
   "execution_count": 13,
   "metadata": {},
   "outputs": [],
   "source": [
    "lowercase_pairs = [word.lower() for word in pairs]"
   ]
  },
  {
   "cell_type": "code",
   "execution_count": 14,
   "metadata": {},
   "outputs": [
    {
     "data": {
      "text/plain": [
       "['i rise',\n",
       " 'address present',\n",
       " 'i venture',\n",
       " 'i undertake',\n",
       " 'i trust',\n",
       " 'errors lay',\n",
       " 'i be',\n",
       " 'lordships look',\n",
       " 'i be',\n",
       " 'lordships hear',\n",
       " 'i be',\n",
       " 'she suffer',\n",
       " 'which make',\n",
       " 'it impossible',\n",
       " 'her execute',\n",
       " 'relations be',\n",
       " 'it be',\n",
       " 'words refer',\n",
       " 'which lead',\n",
       " 'it be',\n",
       " 'i regret',\n",
       " 'settlement ratify',\n",
       " 'which agree',\n",
       " 'differences receive',\n",
       " 'it be',\n",
       " 'they adjust',\n",
       " 'it gratify',\n",
       " 'feeling exist',\n",
       " 'it be',\n",
       " 'countries be']"
      ]
     },
     "execution_count": 14,
     "metadata": {},
     "output_type": "execute_result"
    }
   ],
   "source": [
    "lowercase_pairs[:30]"
   ]
  },
  {
   "cell_type": "markdown",
   "metadata": {},
   "source": [
    "<div class=\"alert alert-block alert-info\">\n",
    "<b>Note:</b> Remember to capitalize I before turning in your paper.\n",
    "</div>"
   ]
  },
  {
   "cell_type": "markdown",
   "metadata": {},
   "source": [
    "The goal of our code exercise is to analyze through comparison gendered pronoun-verb pairs. But, first we will just extract pairs with the pronoun he.\n",
    "\n",
    "We can search for he and its grammatical verbs by treating he as a regular expression.\n",
    "\n",
    "The following code defines our our regular expression ('he ') and creates a variable with each pair that matches."
   ]
  },
  {
   "cell_type": "code",
   "execution_count": 15,
   "metadata": {},
   "outputs": [],
   "source": [
    "import re\n",
    "\n",
    "def extractMalePairs(pairs):\n",
    "    regex = re.compile('he ')\n",
    "    male = [word for word in lowercase_pairs if regex.match(word)]\n",
    "    return male\n",
    "\n",
    "male = extractMalePairs(lowercase_pairs)"
   ]
  },
  {
   "cell_type": "code",
   "execution_count": 16,
   "metadata": {},
   "outputs": [
    {
     "data": {
      "text/plain": [
       "['he show',\n",
       " 'he refer',\n",
       " 'he think',\n",
       " 'he wish',\n",
       " 'he say',\n",
       " 'he identify',\n",
       " 'he venture',\n",
       " 'he have',\n",
       " 'he refuse',\n",
       " 'he refuse',\n",
       " 'he be',\n",
       " 'he reply',\n",
       " 'he do',\n",
       " 'he allow',\n",
       " 'he ask',\n",
       " 'he shoot',\n",
       " 'he be',\n",
       " 'he say',\n",
       " 'he argue',\n",
       " 'he say',\n",
       " 'he band',\n",
       " 'he address',\n",
       " 'he be',\n",
       " 'he desire',\n",
       " 'he overthrow',\n",
       " 'he overthrow',\n",
       " 'he overthrow',\n",
       " 'he be',\n",
       " 'he make',\n",
       " 'he become']"
      ]
     },
     "execution_count": 16,
     "metadata": {},
     "output_type": "execute_result"
    }
   ],
   "source": [
    "male[:30]"
   ]
  },
  {
   "cell_type": "markdown",
   "metadata": {},
   "source": [
    "Viewing just the first 30 lines of our lists has shown us that our gendered pronoun-verb pairs contain stop words like be or see. Pairs containing a stop word can be removed. \n",
    "\n",
    "We can do this by first defining our stop words:"
   ]
  },
  {
   "cell_type": "code",
   "execution_count": 17,
   "metadata": {},
   "outputs": [],
   "source": [
    "stopwords = ['right', 'hon', 'general', 'mr', 'shall', 'majesty', 'exchequer', 'address', 'motion', 'bill',\n",
    "             'earl', 'friend', 'chancellor', 'sense', 'object', 'suppose', 'amidst', 'noble', 'lord', 'agree',\n",
    "             'speech', 'kind', 'january', 'february', 'march', 'april', 'may', 'june', 'july', 'august', 'september',\n",
    "             'october', 'november', 'december', 'order', 'held', 'hold', 'assembly', '£', 'humble', 'about', 'above',\n",
    "             'across', 'address', 'after', 'afterwards', 'again', 'against', 'agree', 'all', 'almost', 'alone', 'along',\n",
    "             'already', 'also', 'although', 'always', 'am', 'amidst', 'among', 'amongst', 'amount', 'an', 'and', 'another',\n",
    "             'any', 'anyhow', 'anything', 'anyway', 'anywhere', 'april', 'are', 'around', 'as', 'at', 'back', 'be', 'was',\n",
    "             'becames', 'because', 'become', 'becomes', 'becoming', 'been', 'before', 'beforehand', 'behind', 'being',\n",
    "             'beside', 'besides', 'between', 'beyond', 'both', 'bottom', 'but', 'by', 'call', 'can', 'cannot', 'do',\n",
    "             'could', 'did', 'does', 'doing', 'done', 'down', 'due', 'during', 'each', 'either', 'else', 'elsewhere',\n",
    "             'empty', 'enough', 'even', 'ever', 'everyone', 'everything', 'everywhere', 'except', 'few', 'first', 'for',\n",
    "             'from', 'front', 'full', 'further', 'general', 'get', 'give', 'go', 'had', 'has', 'have', 'held', 'hence',\n",
    "             'here', 'hereby', 'herein', 'hold', 'however', 'if', 'in', 'indeed', 'into', 'is', 'it', 'its', 'itself',\n",
    "             'just', 'keep', 'kind', 'last', 'latter', 'least', 'less', 'made', 'make', 'many', 'me', 'meanwhile', 'might',\n",
    "             'mine', 'more', 'most', 'mostly', 'move', 'much', 'must', 'name,' 'neither', 'never', 'nevertheless', 'next',\n",
    "             'no', 'noble', 'nobody', 'none', 'nor', 'nothing', 'now', 'nowhere', 'of', 'off', 'often', 'on', 'one', 'once',\n",
    "             'only', 'onto', 'or', 'other', 'others', 'otherwise', 'out', 'over', 'own', 'part', 'perhaps', 'please', 'put',\n",
    "             'quite', 'rather', 'really', 'regarding', 'same', 'say', 'see', 'seem', 'seemed', 'seeming', 'seems', 'sense',\n",
    "             'several', 'shall', 'should', 'show', 'side', 'since', 'so', 'some', 'someone', 'something', 'sometime',\n",
    "             'still', 'such', 'suppose', 'take', 'than', 'that', 'the', 'then', 'there', 'thereby', 'therefore', 'these',\n",
    "             'they', 'this', 'those', 'though', 'thus', 'to', 'together', 'too', 'top', 'toward', 'towards', 'under',\n",
    "             'unless', 'until', 'up', 'upon', 'us', 'used', 'using', 'various', 'very', 'was', 'we', 'well', 'were', 'what',\n",
    "             'whatever', 'when', 'when', 'whereby', 'whether', 'which', 'while', 'who', 'why', 'will', 'with', 'within',\n",
    "             'without', 'would', 'yet', 'bright', 'mr.', 'hansard', 'lancashire', '[]', '£1', '000', 'russell', 'committee',\n",
    "             'reading', 'learned', 'deal', 'time', 'royal', 'gentlemen', 'gentleman', 'year', 'years', 'affairs', 'affair',\n",
    "             'academy', 'sir', 'thought', 'took', 'bring', 'brings', 'brought', 'forward', 'great', 'good', 'department',\n",
    "             'treasury', 'second', 'take', 'taken', 'privy', 'member', 'robert', 'large', 'session', 'secretary', 'notice',\n",
    "             'moment', 'think', 'believe', 'hope', 'ask', 'hear', 'beg', 'support', 'state', 'find', 'admit', 'wish',\n",
    "             'refer', 'reply', 'know', 'feel', 'propose', 'understand', 'let', 'allow', 'like', 'receive', 'consider',\n",
    "             'begin', 'tell', 'like', 'send', 'ought', 'come', 'intend', 'add', 'want', 'stand', 'suggest', 'remind',\n",
    "             'use', 'mean', 'suggest']"
   ]
  },
  {
   "cell_type": "markdown",
   "metadata": {},
   "source": [
    "After defining our stop words we can iterate through each pair and split the pair into individual tokens. Tokens that do not match stop words are kept while those matching a stop word are discarded.\n",
    "\n",
    "After filtering for stop words the individual tokens are concatenated. If the remaining string is no longer a pair (i.e. has the length of two elements) the token is discarded."
   ]
  },
  {
   "cell_type": "code",
   "execution_count": 18,
   "metadata": {},
   "outputs": [],
   "source": [
    "def removeStopWords(pairs):\n",
    "    keep_pairs = []\n",
    "    for pair in pairs:\n",
    "        tokens = pair.split(\" \")\n",
    "        tokens_filtered = [word for word in tokens if not word in stopwords]\n",
    "        tokens_joined = \"\".join(tokens_filtered)\n",
    "        if len(tokens_filtered) == 2:\n",
    "            keep_pairs.append(str(tokens_filtered))\n",
    "    return keep_pairs\n",
    "\n",
    "male_no_stopwords = removeStopWords(male)"
   ]
  },
  {
   "cell_type": "code",
   "execution_count": 19,
   "metadata": {},
   "outputs": [
    {
     "data": {
      "text/plain": [
       "[\"['he', 'identify']\",\n",
       " \"['he', 'venture']\",\n",
       " \"['he', 'refuse']\",\n",
       " \"['he', 'refuse']\",\n",
       " \"['he', 'shoot']\",\n",
       " \"['he', 'argue']\",\n",
       " \"['he', 'band']\",\n",
       " \"['he', 'desire']\",\n",
       " \"['he', 'overthrow']\",\n",
       " \"['he', 'overthrow']\",\n",
       " \"['he', 'overthrow']\",\n",
       " \"['he', 'acknowledge']\",\n",
       " \"['he', 'shoot']\",\n",
       " \"['he', 'preach']\",\n",
       " \"['he', 'protest']\",\n",
       " \"['he', 'remonstrate']\",\n",
       " \"['he', 'dismiss']\",\n",
       " \"['he', 'frankly']\",\n",
       " \"['he', 'remove']\",\n",
       " \"['he', 'proceed']\",\n",
       " \"['he', 'request']\",\n",
       " \"['he', 'adopt']\",\n",
       " \"['he', 'oblige']\",\n",
       " \"['he', 'dismiss']\",\n",
       " \"['he', 'condemn']\",\n",
       " \"['he', 'express']\",\n",
       " \"['he', 'arrive']\",\n",
       " \"['he', 'write']\",\n",
       " \"['he', 'venture']\",\n",
       " \"['he', 'preside']\"]"
      ]
     },
     "execution_count": 19,
     "metadata": {},
     "output_type": "execute_result"
    }
   ],
   "source": [
    "male_no_stopwords[:30]"
   ]
  },
  {
   "cell_type": "markdown",
   "metadata": {},
   "source": [
    "<div class=\"alert alert-block alert-info\">\n",
    "<b>Note:</b> `uppercase_pairs` contains all subject-verb pairs. Before continuing, feel free to experiment by searching for any keyword of your choice.\n",
    "</div>"
   ]
  },
  {
   "cell_type": "markdown",
   "metadata": {},
   "source": [
    "### Counting Gendered Pronoun-Verb Pairs"
   ]
  },
  {
   "cell_type": "markdown",
   "metadata": {},
   "source": [
    "After aggregating gendered pronouns that syntactically depend on a verb, we can count the frequency of each pair.\n",
    "\n",
    "The following code defines a function, `countWords()`, that creates a dictionary of every unique pair and its frequency. Any pair not already in the dictionary is added. If the pair is already part of the dictionary its count increments by 1."
   ]
  },
  {
   "cell_type": "code",
   "execution_count": 20,
   "metadata": {},
   "outputs": [],
   "source": [
    "def countWords(clean_data):\n",
    "    ngrams_dict = {}\n",
    "    for ngram in clean_data:\n",
    "        if ngram in ngrams_dict:\n",
    "            ngrams_dict[ngram] += 1\n",
    "        else:\n",
    "            ngrams_dict[ngram] = 1\n",
    "    return ngrams_dict\n",
    "            \n",
    "male_dictionary = countWords(male_no_stopwords)"
   ]
  },
  {
   "cell_type": "code",
   "execution_count": 39,
   "metadata": {
    "scrolled": true
   },
   "outputs": [
    {
     "name": "stdout",
     "output_type": "stream",
     "text": [
      "['he', 'identify'] 14\n",
      "['he', 'venture'] 2733\n",
      "['he', 'refuse'] 376\n",
      "['he', 'shoot'] 41\n",
      "['he', 'argue'] 230\n",
      "['he', 'band'] 2\n",
      "['he', 'desire'] 2594\n",
      "['he', 'overthrow'] 5\n",
      "['he', 'acknowledge'] 244\n",
      "['he', 'preach'] 20\n",
      "['he', 'protest'] 889\n",
      "['he', 'remonstrate'] 11\n",
      "['he', 'dismiss'] 113\n",
      "['he', 'frankly'] 1\n",
      "['he', 'remove'] 140\n",
      "['he', 'proceed'] 471\n",
      "['he', 'request'] 152\n",
      "['he', 'adopt'] 445\n",
      "['he', 'oblige'] 568\n",
      "['he', 'condemn'] 176\n",
      "['he', 'express'] 1539\n",
      "['he', 'arrive'] 309\n",
      "['he', 'write'] 504\n",
      "['he', 'preside'] 121\n",
      "['he', 'mistake'] 65\n",
      "['he', 'resort'] 37\n",
      "['he', 'deny'] 1384\n",
      "['he', 'remark'] 508\n",
      "['he', 'terrify'] 4\n",
      "['he', 'witness'] 72\n"
     ]
    }
   ],
   "source": [
    "for kv in list(male_dictionary)[:30]:\n",
    "    print(kv,  male_dictionary[kv])"
   ]
  },
  {
   "cell_type": "markdown",
   "metadata": {},
   "source": [
    "Dictionaries do not store their data in sequential order. This is because a dictionary is hashable, not just linear like a list. While this makes dictionaries quick to process, its organization is not conducive to analysis.\n",
    "\n",
    "Therefore, we will cast the pronoun-verb pairs and their counts to a pandas data frame."
   ]
  },
  {
   "cell_type": "code",
   "execution_count": 22,
   "metadata": {},
   "outputs": [],
   "source": [
    "male_pronoun_verb_counts = pd.DataFrame(list(male_dictionary.items()),columns = ['Pair','Count']) # do I need list"
   ]
  },
  {
   "cell_type": "code",
   "execution_count": 23,
   "metadata": {},
   "outputs": [
    {
     "data": {
      "text/html": [
       "<div>\n",
       "<style scoped>\n",
       "    .dataframe tbody tr th:only-of-type {\n",
       "        vertical-align: middle;\n",
       "    }\n",
       "\n",
       "    .dataframe tbody tr th {\n",
       "        vertical-align: top;\n",
       "    }\n",
       "\n",
       "    .dataframe thead th {\n",
       "        text-align: right;\n",
       "    }\n",
       "</style>\n",
       "<table border=\"1\" class=\"dataframe\">\n",
       "  <thead>\n",
       "    <tr style=\"text-align: right;\">\n",
       "      <th></th>\n",
       "      <th>Pair</th>\n",
       "      <th>Count</th>\n",
       "    </tr>\n",
       "  </thead>\n",
       "  <tbody>\n",
       "    <tr>\n",
       "      <th>0</th>\n",
       "      <td>['he', 'identify']</td>\n",
       "      <td>14</td>\n",
       "    </tr>\n",
       "    <tr>\n",
       "      <th>1</th>\n",
       "      <td>['he', 'venture']</td>\n",
       "      <td>2733</td>\n",
       "    </tr>\n",
       "    <tr>\n",
       "      <th>2</th>\n",
       "      <td>['he', 'refuse']</td>\n",
       "      <td>376</td>\n",
       "    </tr>\n",
       "    <tr>\n",
       "      <th>3</th>\n",
       "      <td>['he', 'shoot']</td>\n",
       "      <td>41</td>\n",
       "    </tr>\n",
       "    <tr>\n",
       "      <th>4</th>\n",
       "      <td>['he', 'argue']</td>\n",
       "      <td>230</td>\n",
       "    </tr>\n",
       "    <tr>\n",
       "      <th>...</th>\n",
       "      <td>...</td>\n",
       "      <td>...</td>\n",
       "    </tr>\n",
       "    <tr>\n",
       "      <th>2698</th>\n",
       "      <td>['he', 'equitable']</td>\n",
       "      <td>1</td>\n",
       "    </tr>\n",
       "    <tr>\n",
       "      <th>2699</th>\n",
       "      <td>['he', 'damnify']</td>\n",
       "      <td>1</td>\n",
       "    </tr>\n",
       "    <tr>\n",
       "      <th>2700</th>\n",
       "      <td>['he', 'muse']</td>\n",
       "      <td>1</td>\n",
       "    </tr>\n",
       "    <tr>\n",
       "      <th>2701</th>\n",
       "      <td>['he', 'excise']</td>\n",
       "      <td>1</td>\n",
       "    </tr>\n",
       "    <tr>\n",
       "      <th>2702</th>\n",
       "      <td>['he', 'mediate']</td>\n",
       "      <td>1</td>\n",
       "    </tr>\n",
       "  </tbody>\n",
       "</table>\n",
       "<p>2703 rows × 2 columns</p>\n",
       "</div>"
      ],
      "text/plain": [
       "                     Pair  Count\n",
       "0      ['he', 'identify']     14\n",
       "1       ['he', 'venture']   2733\n",
       "2        ['he', 'refuse']    376\n",
       "3         ['he', 'shoot']     41\n",
       "4         ['he', 'argue']    230\n",
       "...                   ...    ...\n",
       "2698  ['he', 'equitable']      1\n",
       "2699    ['he', 'damnify']      1\n",
       "2700       ['he', 'muse']      1\n",
       "2701     ['he', 'excise']      1\n",
       "2702    ['he', 'mediate']      1\n",
       "\n",
       "[2703 rows x 2 columns]"
      ]
     },
     "execution_count": 23,
     "metadata": {},
     "output_type": "execute_result"
    }
   ],
   "source": [
    "male_pronoun_verb_counts"
   ]
  },
  {
   "cell_type": "markdown",
   "metadata": {},
   "source": [
    "After creating a pandas DataFrame with our pronoun-verb pairs we can arrange the frequency counts so pairs with the highest count are first."
   ]
  },
  {
   "cell_type": "code",
   "execution_count": 24,
   "metadata": {},
   "outputs": [],
   "source": [
    "male_pronoun_verb_counts.sort_values(by=['Count'], inplace=True, ascending=False)"
   ]
  },
  {
   "cell_type": "code",
   "execution_count": 25,
   "metadata": {},
   "outputs": [
    {
     "data": {
      "text/html": [
       "<div>\n",
       "<style scoped>\n",
       "    .dataframe tbody tr th:only-of-type {\n",
       "        vertical-align: middle;\n",
       "    }\n",
       "\n",
       "    .dataframe tbody tr th {\n",
       "        vertical-align: top;\n",
       "    }\n",
       "\n",
       "    .dataframe thead th {\n",
       "        text-align: right;\n",
       "    }\n",
       "</style>\n",
       "<table border=\"1\" class=\"dataframe\">\n",
       "  <thead>\n",
       "    <tr style=\"text-align: right;\">\n",
       "      <th></th>\n",
       "      <th>Pair</th>\n",
       "      <th>Count</th>\n",
       "    </tr>\n",
       "  </thead>\n",
       "  <tbody>\n",
       "    <tr>\n",
       "      <th>106</th>\n",
       "      <td>['he', 'trust']</td>\n",
       "      <td>4212</td>\n",
       "    </tr>\n",
       "    <tr>\n",
       "      <th>1</th>\n",
       "      <td>['he', 'venture']</td>\n",
       "      <td>2733</td>\n",
       "    </tr>\n",
       "    <tr>\n",
       "      <th>6</th>\n",
       "      <td>['he', 'desire']</td>\n",
       "      <td>2594</td>\n",
       "    </tr>\n",
       "    <tr>\n",
       "      <th>134</th>\n",
       "      <td>['he', 'regret']</td>\n",
       "      <td>2503</td>\n",
       "    </tr>\n",
       "    <tr>\n",
       "      <th>56</th>\n",
       "      <td>['he', 'speak']</td>\n",
       "      <td>2373</td>\n",
       "    </tr>\n",
       "    <tr>\n",
       "      <th>...</th>\n",
       "      <td>...</td>\n",
       "      <td>...</td>\n",
       "    </tr>\n",
       "    <tr>\n",
       "      <th>1841</th>\n",
       "      <td>['he', 'captivate']</td>\n",
       "      <td>1</td>\n",
       "    </tr>\n",
       "    <tr>\n",
       "      <th>1842</th>\n",
       "      <td>['he', 'says—\"no']</td>\n",
       "      <td>1</td>\n",
       "    </tr>\n",
       "    <tr>\n",
       "      <th>1845</th>\n",
       "      <td>['he', 'buoy']</td>\n",
       "      <td>1</td>\n",
       "    </tr>\n",
       "    <tr>\n",
       "      <th>1849</th>\n",
       "      <td>['he', 'gift']</td>\n",
       "      <td>1</td>\n",
       "    </tr>\n",
       "    <tr>\n",
       "      <th>2702</th>\n",
       "      <td>['he', 'mediate']</td>\n",
       "      <td>1</td>\n",
       "    </tr>\n",
       "  </tbody>\n",
       "</table>\n",
       "<p>2703 rows × 2 columns</p>\n",
       "</div>"
      ],
      "text/plain": [
       "                     Pair  Count\n",
       "106       ['he', 'trust']   4212\n",
       "1       ['he', 'venture']   2733\n",
       "6        ['he', 'desire']   2594\n",
       "134      ['he', 'regret']   2503\n",
       "56        ['he', 'speak']   2373\n",
       "...                   ...    ...\n",
       "1841  ['he', 'captivate']      1\n",
       "1842   ['he', 'says—\"no']      1\n",
       "1845       ['he', 'buoy']      1\n",
       "1849       ['he', 'gift']      1\n",
       "2702    ['he', 'mediate']      1\n",
       "\n",
       "[2703 rows x 2 columns]"
      ]
     },
     "execution_count": 25,
     "metadata": {},
     "output_type": "execute_result"
    }
   ],
   "source": [
    "male_pronoun_verb_counts"
   ]
  },
  {
   "cell_type": "markdown",
   "metadata": {},
   "source": [
    "### Visualizing our Results for Analysis"
   ]
  },
  {
   "cell_type": "markdown",
   "metadata": {},
   "source": [
    "We are now ready to visualize our results: grammatical pronoun-verb pairs that show us which verbs are commonly associated with the pronoun he in the 1870 Parliamentary debates.\n",
    "\n",
    "The following code takes a subset of the first 25 rows of `male_pronoun_verb_counts`."
   ]
  },
  {
   "cell_type": "code",
   "execution_count": 26,
   "metadata": {},
   "outputs": [],
   "source": [
    "top_male_pronoun_verb_counts = male_pronoun_verb_counts[:25].copy()"
   ]
  },
  {
   "cell_type": "code",
   "execution_count": 27,
   "metadata": {},
   "outputs": [
    {
     "data": {
      "text/html": [
       "<div>\n",
       "<style scoped>\n",
       "    .dataframe tbody tr th:only-of-type {\n",
       "        vertical-align: middle;\n",
       "    }\n",
       "\n",
       "    .dataframe tbody tr th {\n",
       "        vertical-align: top;\n",
       "    }\n",
       "\n",
       "    .dataframe thead th {\n",
       "        text-align: right;\n",
       "    }\n",
       "</style>\n",
       "<table border=\"1\" class=\"dataframe\">\n",
       "  <thead>\n",
       "    <tr style=\"text-align: right;\">\n",
       "      <th></th>\n",
       "      <th>Pair</th>\n",
       "      <th>Count</th>\n",
       "    </tr>\n",
       "  </thead>\n",
       "  <tbody>\n",
       "    <tr>\n",
       "      <th>106</th>\n",
       "      <td>['he', 'trust']</td>\n",
       "      <td>4212</td>\n",
       "    </tr>\n",
       "    <tr>\n",
       "      <th>1</th>\n",
       "      <td>['he', 'venture']</td>\n",
       "      <td>2733</td>\n",
       "    </tr>\n",
       "    <tr>\n",
       "      <th>6</th>\n",
       "      <td>['he', 'desire']</td>\n",
       "      <td>2594</td>\n",
       "    </tr>\n",
       "    <tr>\n",
       "      <th>134</th>\n",
       "      <td>['he', 'regret']</td>\n",
       "      <td>2503</td>\n",
       "    </tr>\n",
       "    <tr>\n",
       "      <th>56</th>\n",
       "      <td>['he', 'speak']</td>\n",
       "      <td>2373</td>\n",
       "    </tr>\n",
       "    <tr>\n",
       "      <th>259</th>\n",
       "      <td>['he', 'vote']</td>\n",
       "      <td>1910</td>\n",
       "    </tr>\n",
       "    <tr>\n",
       "      <th>164</th>\n",
       "      <td>['he', 'mention']</td>\n",
       "      <td>1580</td>\n",
       "    </tr>\n",
       "    <tr>\n",
       "      <th>339</th>\n",
       "      <td>['he', 'contend']</td>\n",
       "      <td>1542</td>\n",
       "    </tr>\n",
       "    <tr>\n",
       "      <th>20</th>\n",
       "      <td>['he', 'express']</td>\n",
       "      <td>1539</td>\n",
       "    </tr>\n",
       "    <tr>\n",
       "      <th>44</th>\n",
       "      <td>['he', 'maintain']</td>\n",
       "      <td>1495</td>\n",
       "    </tr>\n",
       "    <tr>\n",
       "      <th>43</th>\n",
       "      <td>['he', 'inform']</td>\n",
       "      <td>1444</td>\n",
       "    </tr>\n",
       "    <tr>\n",
       "      <th>213</th>\n",
       "      <td>['he', 'look']</td>\n",
       "      <td>1432</td>\n",
       "    </tr>\n",
       "    <tr>\n",
       "      <th>26</th>\n",
       "      <td>['he', 'deny']</td>\n",
       "      <td>1384</td>\n",
       "    </tr>\n",
       "    <tr>\n",
       "      <th>32</th>\n",
       "      <td>['he', 'read']</td>\n",
       "      <td>1348</td>\n",
       "    </tr>\n",
       "    <tr>\n",
       "      <th>59</th>\n",
       "      <td>['he', 'point']</td>\n",
       "      <td>1326</td>\n",
       "    </tr>\n",
       "    <tr>\n",
       "      <th>112</th>\n",
       "      <td>['he', 'fear']</td>\n",
       "      <td>1322</td>\n",
       "    </tr>\n",
       "    <tr>\n",
       "      <th>114</th>\n",
       "      <td>['he', 'oppose']</td>\n",
       "      <td>1233</td>\n",
       "    </tr>\n",
       "    <tr>\n",
       "      <th>70</th>\n",
       "      <td>['he', 'help']</td>\n",
       "      <td>1220</td>\n",
       "    </tr>\n",
       "    <tr>\n",
       "      <th>206</th>\n",
       "      <td>['he', 'assure']</td>\n",
       "      <td>1186</td>\n",
       "    </tr>\n",
       "    <tr>\n",
       "      <th>82</th>\n",
       "      <td>['he', 'regard']</td>\n",
       "      <td>1177</td>\n",
       "    </tr>\n",
       "    <tr>\n",
       "      <th>98</th>\n",
       "      <td>['he', 'bind']</td>\n",
       "      <td>1176</td>\n",
       "    </tr>\n",
       "    <tr>\n",
       "      <th>71</th>\n",
       "      <td>['he', 'confess']</td>\n",
       "      <td>1174</td>\n",
       "    </tr>\n",
       "    <tr>\n",
       "      <th>132</th>\n",
       "      <td>['he', 'accept']</td>\n",
       "      <td>1131</td>\n",
       "    </tr>\n",
       "    <tr>\n",
       "      <th>51</th>\n",
       "      <td>['he', 'appeal']</td>\n",
       "      <td>1120</td>\n",
       "    </tr>\n",
       "    <tr>\n",
       "      <th>171</th>\n",
       "      <td>['he', 'concur']</td>\n",
       "      <td>1097</td>\n",
       "    </tr>\n",
       "  </tbody>\n",
       "</table>\n",
       "</div>"
      ],
      "text/plain": [
       "                   Pair  Count\n",
       "106     ['he', 'trust']   4212\n",
       "1     ['he', 'venture']   2733\n",
       "6      ['he', 'desire']   2594\n",
       "134    ['he', 'regret']   2503\n",
       "56      ['he', 'speak']   2373\n",
       "259      ['he', 'vote']   1910\n",
       "164   ['he', 'mention']   1580\n",
       "339   ['he', 'contend']   1542\n",
       "20    ['he', 'express']   1539\n",
       "44   ['he', 'maintain']   1495\n",
       "43     ['he', 'inform']   1444\n",
       "213      ['he', 'look']   1432\n",
       "26       ['he', 'deny']   1384\n",
       "32       ['he', 'read']   1348\n",
       "59      ['he', 'point']   1326\n",
       "112      ['he', 'fear']   1322\n",
       "114    ['he', 'oppose']   1233\n",
       "70       ['he', 'help']   1220\n",
       "206    ['he', 'assure']   1186\n",
       "82     ['he', 'regard']   1177\n",
       "98       ['he', 'bind']   1176\n",
       "71    ['he', 'confess']   1174\n",
       "132    ['he', 'accept']   1131\n",
       "51     ['he', 'appeal']   1120\n",
       "171    ['he', 'concur']   1097"
      ]
     },
     "execution_count": 27,
     "metadata": {},
     "output_type": "execute_result"
    }
   ],
   "source": [
    "top_male_pronoun_verb_counts"
   ]
  },
  {
   "cell_type": "markdown",
   "metadata": {},
   "source": [
    "The top 25 grammatical pairs are now ready to be visualized.\n",
    "\n",
    "The following code imports matplotlib, sets the plot's size, and renders the visualization."
   ]
  },
  {
   "cell_type": "code",
   "execution_count": 28,
   "metadata": {
    "scrolled": true
   },
   "outputs": [
    {
     "data": {
      "text/plain": [
       "<matplotlib.axes._subplots.AxesSubplot at 0x14f1ae24100>"
      ]
     },
     "execution_count": 28,
     "metadata": {},
     "output_type": "execute_result"
    },
    {
     "data": {
      "image/png": "[encoded data removed]",
      "text/plain": [
       "<Figure size 432x288 with 1 Axes>"
      ]
     },
     "metadata": {
      "needs_background": "light"
     },
     "output_type": "display_data"
    }
   ],
   "source": [
    "import matplotlib as plt\n",
    "\n",
    "plt.rcParams['figure.figsize'] = [10, 5]\n",
    "\n",
    "top_male_pronoun_verb_counts.sort_values(by=['Count'], inplace=True, ascending=True)\n",
    "\n",
    "top_male_pronoun_verb_counts.plot.barh(x = \"Pair\", y = \"Count\",\n",
    "            title = \"Top Grammatical Pronoun-Verb Pairs with He: Searching the Hansard Parliamentary Debates\")"
   ]
  },
  {
   "cell_type": "markdown",
   "metadata": {},
   "source": [
    "We can reiterate the same process outlined above to extract the pronoun she and the verbs in which it relates. The following code defines one new function to extract female pronoun-verb pairs and then calls our already defined functions to render a bar graph of top pairs."
   ]
  },
  {
   "cell_type": "code",
   "execution_count": 29,
   "metadata": {},
   "outputs": [
    {
     "data": {
      "text/plain": [
       "<matplotlib.axes._subplots.AxesSubplot at 0x14f1af64670>"
      ]
     },
     "execution_count": 29,
     "metadata": {},
     "output_type": "execute_result"
    },
    {
     "data": {
      "image/png": "[encoded data removed]",
      "text/plain": [
       "<Figure size 720x360 with 1 Axes>"
      ]
     },
     "metadata": {
      "needs_background": "light"
     },
     "output_type": "display_data"
    }
   ],
   "source": [
    "# extract grammatical pronoun-verb pairs where she is subject\n",
    "def extractFemalePairs(pairs):\n",
    "    regex = re.compile('she ')\n",
    "    female = [word for word in lowercase_pairs if regex.match(word)]\n",
    "    return female\n",
    "\n",
    "female = extractFemalePairs(lowercase_pairs)\n",
    "\n",
    "# remove stop words\n",
    "female_no_stopwords = removeStopWords(female)\n",
    "\n",
    "# create a dictionary with each unique pair and its frequency\n",
    "female_dictionary = countWords(female_no_stopwords)\n",
    "\n",
    "# create a data frame from our dictionary of grammatical pairs\n",
    "female_pronoun_verb_counts = pd.DataFrame(list(female_dictionary.items()),columns = ['Pair','Count'])\n",
    "\n",
    "# arrange in ascending order\n",
    "female_pronoun_verb_counts.sort_values(by=['Count'], inplace=True, ascending=False)\n",
    "\n",
    "# take a subset of the data\n",
    "top_female_pronoun_verb_counts = female_pronoun_verb_counts[:25].copy()\n",
    "\n",
    "# set the parameters of the visualization\n",
    "plt.rcParams['figure.figsize'] = [10, 5]\n",
    "\n",
    "# sort the pairs for visualization\n",
    "top_female_pronoun_verb_counts.sort_values(by=['Count'], inplace=True, ascending=True)\n",
    "\n",
    "# render visualization\n",
    "top_female_pronoun_verb_counts.plot.barh(x = \"Pair\", y = \"Count\",\n",
    "            title = \"Top Grammatical Pronoun-Verb Pairs with She: Searching the Hansard Parliamentary Debates\")"
   ]
  },
  {
   "cell_type": "markdown",
   "metadata": {},
   "source": [
    "### Discussion"
   ]
  },
  {
   "cell_type": "markdown",
   "metadata": {},
   "source": [
    "Perhaps the most obvious observation to be made from these plots (but one that is nonetheless important to make) is that we extracted far fewer pairs where she is subject. The top male pronoun-verb pair (without stop words) is stated over 4,000 times, whereas the top female pronoun-verb pair (without stop words) is stated over 80 times.  \n",
    "\n",
    "One reason for this drastic difference in count is that Parliamentary speakers are men, whereas women may only occasionally be heard. For this reason, the above bar graphs represent the way men describe other men and the way men describe women.\n",
    "\n",
    "Men describe other men in more dynamic terms. From these pairs, one can see a pensive, agential Parlimentary speaker. With a life of the mind, this man expresses, contents, regrets, opposes, fears, and denies. Gathering information, he reads and looks.\n",
    "\n",
    "From just the visualizations above it appears that men perceive and rationalize while women act. Women's actions, however, tend to fall within particular categories. She holds (i.e. carry, possess, obtain), she is held (i.e. enter, occupy), and she moves (i.e. sail, arrive). \n",
    "\n",
    "These visualizations depict a wholly different gendered experience, and one may also ask why one of the top female pronoun-verb pairs describes women as suffering.\n",
    "\n",
    "Indeed, our results pose more questions than answers. A more comprehensive study would necessitate reiterating through the process above while asking additional questions. Some insightful questions may include: what verbs relate to the object she? What adjectives modify the noun she? If we treated the above male pronoun-verb pairs as stop words and removed them would we be able to see Parliamentary speakers describe other \"male\" characteristics, and what would these be?"
   ]
  }
 ],
 "metadata": {
  "kernelspec": {
   "display_name": "Python 3",
   "language": "python",
   "name": "python3"
  },
  "language_info": {
   "codemirror_mode": {
    "name": "ipython",
    "version": 3
   },
   "file_extension": ".py",
   "mimetype": "text/x-python",
   "name": "python",
   "nbconvert_exporter": "python",
   "pygments_lexer": "ipython3",
   "version": "3.8.3"
  }
 },
 "nbformat": 4,
 "nbformat_minor": 4
}
