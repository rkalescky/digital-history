{
  "nbformat": 4,
  "nbformat_minor": 0,
  "metadata": {
    "kernelspec": {
      "display_name": "Python 3",
      "language": "python",
      "name": "python3"
    },
    "language_info": {
      "codemirror_mode": {
        "name": "ipython",
        "version": 3
      },
      "file_extension": ".py",
      "mimetype": "text/x-python",
      "name": "python",
      "nbconvert_exporter": "python",
      "pygments_lexer": "ipython3",
      "version": "3.6.7"
    },
    "colab": {
      "name": "groupby-time-congress-jg.ipynb",
      "provenance": [],
      "collapsed_sections": [
        "ztjTHrwDtOHG",
        "mUtTNBx4tOHM",
        "eeZrp2HAtOHg",
        "ziuB7KQftOHr",
        "d_3sg6CDtOIg"
      ]
    }
  },
  "cells": [
    {
      "cell_type": "markdown",
      "metadata": {
        "id": "-Ithk8pRtOAX"
      },
      "source": [
        "# Working With Dates in Python"
      ]
    },
    {
      "cell_type": "markdown",
      "metadata": {
        "id": "F9wUqvumtOAc"
      },
      "source": [
        "### by Jo Guldi and Steph Buongiorno, with help from half-dozen datetime and matplotlib tutorials found in various places around the Web"
      ]
    },
    {
      "cell_type": "markdown",
      "metadata": {
        "id": "RoamC7oHtOAg"
      },
      "source": [
        "    There are many reasons why a data scientist might want to understand change over time: for instance, to answer the historical question, what changed in how Congress talked over a short period of time?  Answering that question implies using word count over time. \n",
        "    \n",
        "    Python treats dates (Jan 1 2020) as a discrete kind of data.  Some basic guidance can make it much easier to work with dates.  The datetime package is extremely useful for processing data. The first exercises below will lead us towards two questions:\n",
        "    * How do we work with the datetime package to format dates?\n",
        "    * How should we represent time on a graph to make it legible?\n",
        "    \n",
        "     Next, we will measure wordcounts of Congressional speeches by month and by year.  Counting by period requires the data scientist to \"group\" data by another variable, either by using the groupby() command or by using a for loop.  This notebook will demonstrate both systems.\n",
        "     \n",
        "     Finally, this notebook glances at an important question: normalizing statistics about time.  If we're measuring data from 2008 and 2010, and Congress spoke twice as much in 2010, raw word count won't really help us to understand what changed.  It would be far more useful to take the proportion of overall speech represented by each word.  A final exercise will lead us through the operation of normalizing wordcount as a proportion, which is crucial to working with words over time."
      ]
    },
    {
      "cell_type": "code",
      "metadata": {
        "id": "9f1BTWpNtOAj"
      },
      "source": [
        "# These lines may be useful.\n",
        "# Install a conda package in the current Jupyter kernel\n",
        "#import sys\n",
        "#!conda install --yes --prefix --user {sys.prefix} datetime"
      ],
      "execution_count": null,
      "outputs": []
    },
    {
      "cell_type": "code",
      "metadata": {
        "id": "VOuU9lK7tOA7"
      },
      "source": [
        "import datetime\n",
        "import pandas as pd\n",
        "import numpy as np"
      ],
      "execution_count": null,
      "outputs": []
    },
    {
      "cell_type": "code",
      "metadata": {
        "id": "uECJZIwRtOBK",
        "outputId": "1d4e7ba0-31b1-4fc3-ca1a-2d81c7e33c2b"
      },
      "source": [
        "# First we make a dummy data set of names and birthdays\n",
        "raw_data = {'name': ['Willard Morris', 'Al Jennings', 'Omar Mullins', 'Spencer McDaniel', 'Donna Faye', 'Alexander McQueen', 'Harold Bistander', 'Henrietta Morgan'],\n",
        "'favorite_color': ['blue', 'red', 'yellow', 'green', 'pink', 'purple', 'olive', 'black'],\n",
        "'grade': [88, 92, 95, 70, 75, 70, 80, 90],\n",
        "'birth_date': ['01-02-1996', '08-05-1997', '04-28-1996', '12-16-1995', '07-01-1976', '08-03-1964', '02-22-2001', '03-28-1970']}\n",
        "df = pd.DataFrame(raw_data, index = ['Willard Morris', 'Al Jennings', 'Omar Mullins', 'Spencer McDaniel', 'Donna Faye', 'Alexander McQueen', 'Harold Bistander', 'Henrietta Morgan'])\n",
        "df"
      ],
      "execution_count": null,
      "outputs": [
        {
          "output_type": "execute_result",
          "data": {
            "text/html": [
              "<div>\n",
              "<style scoped>\n",
              "    .dataframe tbody tr th:only-of-type {\n",
              "        vertical-align: middle;\n",
              "    }\n",
              "\n",
              "    .dataframe tbody tr th {\n",
              "        vertical-align: top;\n",
              "    }\n",
              "\n",
              "    .dataframe thead th {\n",
              "        text-align: right;\n",
              "    }\n",
              "</style>\n",
              "<table border=\"1\" class=\"dataframe\">\n",
              "  <thead>\n",
              "    <tr style=\"text-align: right;\">\n",
              "      <th></th>\n",
              "      <th>name</th>\n",
              "      <th>favorite_color</th>\n",
              "      <th>grade</th>\n",
              "      <th>birth_date</th>\n",
              "    </tr>\n",
              "  </thead>\n",
              "  <tbody>\n",
              "    <tr>\n",
              "      <th>Willard Morris</th>\n",
              "      <td>Willard Morris</td>\n",
              "      <td>blue</td>\n",
              "      <td>88</td>\n",
              "      <td>01-02-1996</td>\n",
              "    </tr>\n",
              "    <tr>\n",
              "      <th>Al Jennings</th>\n",
              "      <td>Al Jennings</td>\n",
              "      <td>red</td>\n",
              "      <td>92</td>\n",
              "      <td>08-05-1997</td>\n",
              "    </tr>\n",
              "    <tr>\n",
              "      <th>Omar Mullins</th>\n",
              "      <td>Omar Mullins</td>\n",
              "      <td>yellow</td>\n",
              "      <td>95</td>\n",
              "      <td>04-28-1996</td>\n",
              "    </tr>\n",
              "    <tr>\n",
              "      <th>Spencer McDaniel</th>\n",
              "      <td>Spencer McDaniel</td>\n",
              "      <td>green</td>\n",
              "      <td>70</td>\n",
              "      <td>12-16-1995</td>\n",
              "    </tr>\n",
              "    <tr>\n",
              "      <th>Donna Faye</th>\n",
              "      <td>Donna Faye</td>\n",
              "      <td>pink</td>\n",
              "      <td>75</td>\n",
              "      <td>07-01-1976</td>\n",
              "    </tr>\n",
              "    <tr>\n",
              "      <th>Alexander McQueen</th>\n",
              "      <td>Alexander McQueen</td>\n",
              "      <td>purple</td>\n",
              "      <td>70</td>\n",
              "      <td>08-03-1964</td>\n",
              "    </tr>\n",
              "    <tr>\n",
              "      <th>Harold Bistander</th>\n",
              "      <td>Harold Bistander</td>\n",
              "      <td>olive</td>\n",
              "      <td>80</td>\n",
              "      <td>02-22-2001</td>\n",
              "    </tr>\n",
              "    <tr>\n",
              "      <th>Henrietta Morgan</th>\n",
              "      <td>Henrietta Morgan</td>\n",
              "      <td>black</td>\n",
              "      <td>90</td>\n",
              "      <td>03-28-1970</td>\n",
              "    </tr>\n",
              "  </tbody>\n",
              "</table>\n",
              "</div>"
            ],
            "text/plain": [
              "                                name favorite_color  grade  birth_date\n",
              "Willard Morris        Willard Morris           blue     88  01-02-1996\n",
              "Al Jennings              Al Jennings            red     92  08-05-1997\n",
              "Omar Mullins            Omar Mullins         yellow     95  04-28-1996\n",
              "Spencer McDaniel    Spencer McDaniel          green     70  12-16-1995\n",
              "Donna Faye                Donna Faye           pink     75  07-01-1976\n",
              "Alexander McQueen  Alexander McQueen         purple     70  08-03-1964\n",
              "Harold Bistander    Harold Bistander          olive     80  02-22-2001\n",
              "Henrietta Morgan    Henrietta Morgan          black     90  03-28-1970"
            ]
          },
          "metadata": {
            "tags": []
          },
          "execution_count": 3
        }
      ]
    },
    {
      "cell_type": "markdown",
      "metadata": {
        "id": "LOXCtfjwtOBb"
      },
      "source": [
        "The package _datetime_ offers an efficient way to extract year from string format data."
      ]
    },
    {
      "cell_type": "code",
      "metadata": {
        "id": "op72Fd_JtOBd",
        "outputId": "2a2407a6-0376-448a-de73-0b7d420065c5"
      },
      "source": [
        "df['year'] = pd.DatetimeIndex(df['birth_date']).year\n",
        "df.head()"
      ],
      "execution_count": null,
      "outputs": [
        {
          "output_type": "execute_result",
          "data": {
            "text/html": [
              "<div>\n",
              "<style scoped>\n",
              "    .dataframe tbody tr th:only-of-type {\n",
              "        vertical-align: middle;\n",
              "    }\n",
              "\n",
              "    .dataframe tbody tr th {\n",
              "        vertical-align: top;\n",
              "    }\n",
              "\n",
              "    .dataframe thead th {\n",
              "        text-align: right;\n",
              "    }\n",
              "</style>\n",
              "<table border=\"1\" class=\"dataframe\">\n",
              "  <thead>\n",
              "    <tr style=\"text-align: right;\">\n",
              "      <th></th>\n",
              "      <th>name</th>\n",
              "      <th>favorite_color</th>\n",
              "      <th>grade</th>\n",
              "      <th>birth_date</th>\n",
              "      <th>year</th>\n",
              "    </tr>\n",
              "  </thead>\n",
              "  <tbody>\n",
              "    <tr>\n",
              "      <th>Willard Morris</th>\n",
              "      <td>Willard Morris</td>\n",
              "      <td>blue</td>\n",
              "      <td>88</td>\n",
              "      <td>01-02-1996</td>\n",
              "      <td>1996</td>\n",
              "    </tr>\n",
              "    <tr>\n",
              "      <th>Al Jennings</th>\n",
              "      <td>Al Jennings</td>\n",
              "      <td>red</td>\n",
              "      <td>92</td>\n",
              "      <td>08-05-1997</td>\n",
              "      <td>1997</td>\n",
              "    </tr>\n",
              "    <tr>\n",
              "      <th>Omar Mullins</th>\n",
              "      <td>Omar Mullins</td>\n",
              "      <td>yellow</td>\n",
              "      <td>95</td>\n",
              "      <td>04-28-1996</td>\n",
              "      <td>1996</td>\n",
              "    </tr>\n",
              "    <tr>\n",
              "      <th>Spencer McDaniel</th>\n",
              "      <td>Spencer McDaniel</td>\n",
              "      <td>green</td>\n",
              "      <td>70</td>\n",
              "      <td>12-16-1995</td>\n",
              "      <td>1995</td>\n",
              "    </tr>\n",
              "    <tr>\n",
              "      <th>Donna Faye</th>\n",
              "      <td>Donna Faye</td>\n",
              "      <td>pink</td>\n",
              "      <td>75</td>\n",
              "      <td>07-01-1976</td>\n",
              "      <td>1976</td>\n",
              "    </tr>\n",
              "  </tbody>\n",
              "</table>\n",
              "</div>"
            ],
            "text/plain": [
              "                              name favorite_color  grade  birth_date  year\n",
              "Willard Morris      Willard Morris           blue     88  01-02-1996  1996\n",
              "Al Jennings            Al Jennings            red     92  08-05-1997  1997\n",
              "Omar Mullins          Omar Mullins         yellow     95  04-28-1996  1996\n",
              "Spencer McDaniel  Spencer McDaniel          green     70  12-16-1995  1995\n",
              "Donna Faye              Donna Faye           pink     75  07-01-1976  1976"
            ]
          },
          "metadata": {
            "tags": []
          },
          "execution_count": 4
        }
      ]
    },
    {
      "cell_type": "markdown",
      "metadata": {
        "id": "CDzlq4mNtOBp"
      },
      "source": [
        "Using _datetime_ , you can also extract just the month."
      ]
    },
    {
      "cell_type": "code",
      "metadata": {
        "id": "iBKL2GM4tOB2",
        "outputId": "dc4293c9-a803-4774-d31c-c4ef5db37de8"
      },
      "source": [
        "df['month'] = pd.DatetimeIndex(df['birth_date']).month\n",
        "df.head()"
      ],
      "execution_count": null,
      "outputs": [
        {
          "output_type": "execute_result",
          "data": {
            "text/html": [
              "<div>\n",
              "<style scoped>\n",
              "    .dataframe tbody tr th:only-of-type {\n",
              "        vertical-align: middle;\n",
              "    }\n",
              "\n",
              "    .dataframe tbody tr th {\n",
              "        vertical-align: top;\n",
              "    }\n",
              "\n",
              "    .dataframe thead th {\n",
              "        text-align: right;\n",
              "    }\n",
              "</style>\n",
              "<table border=\"1\" class=\"dataframe\">\n",
              "  <thead>\n",
              "    <tr style=\"text-align: right;\">\n",
              "      <th></th>\n",
              "      <th>name</th>\n",
              "      <th>favorite_color</th>\n",
              "      <th>grade</th>\n",
              "      <th>birth_date</th>\n",
              "      <th>year</th>\n",
              "      <th>month</th>\n",
              "    </tr>\n",
              "  </thead>\n",
              "  <tbody>\n",
              "    <tr>\n",
              "      <th>Willard Morris</th>\n",
              "      <td>Willard Morris</td>\n",
              "      <td>blue</td>\n",
              "      <td>88</td>\n",
              "      <td>01-02-1996</td>\n",
              "      <td>1996</td>\n",
              "      <td>1</td>\n",
              "    </tr>\n",
              "    <tr>\n",
              "      <th>Al Jennings</th>\n",
              "      <td>Al Jennings</td>\n",
              "      <td>red</td>\n",
              "      <td>92</td>\n",
              "      <td>08-05-1997</td>\n",
              "      <td>1997</td>\n",
              "      <td>8</td>\n",
              "    </tr>\n",
              "    <tr>\n",
              "      <th>Omar Mullins</th>\n",
              "      <td>Omar Mullins</td>\n",
              "      <td>yellow</td>\n",
              "      <td>95</td>\n",
              "      <td>04-28-1996</td>\n",
              "      <td>1996</td>\n",
              "      <td>4</td>\n",
              "    </tr>\n",
              "    <tr>\n",
              "      <th>Spencer McDaniel</th>\n",
              "      <td>Spencer McDaniel</td>\n",
              "      <td>green</td>\n",
              "      <td>70</td>\n",
              "      <td>12-16-1995</td>\n",
              "      <td>1995</td>\n",
              "      <td>12</td>\n",
              "    </tr>\n",
              "    <tr>\n",
              "      <th>Donna Faye</th>\n",
              "      <td>Donna Faye</td>\n",
              "      <td>pink</td>\n",
              "      <td>75</td>\n",
              "      <td>07-01-1976</td>\n",
              "      <td>1976</td>\n",
              "      <td>7</td>\n",
              "    </tr>\n",
              "  </tbody>\n",
              "</table>\n",
              "</div>"
            ],
            "text/plain": [
              "                              name favorite_color  grade  birth_date  year  \\\n",
              "Willard Morris      Willard Morris           blue     88  01-02-1996  1996   \n",
              "Al Jennings            Al Jennings            red     92  08-05-1997  1997   \n",
              "Omar Mullins          Omar Mullins         yellow     95  04-28-1996  1996   \n",
              "Spencer McDaniel  Spencer McDaniel          green     70  12-16-1995  1995   \n",
              "Donna Faye              Donna Faye           pink     75  07-01-1976  1976   \n",
              "\n",
              "                  month  \n",
              "Willard Morris        1  \n",
              "Al Jennings           8  \n",
              "Omar Mullins          4  \n",
              "Spencer McDaniel     12  \n",
              "Donna Faye            7  "
            ]
          },
          "metadata": {
            "tags": []
          },
          "execution_count": 5
        }
      ]
    },
    {
      "cell_type": "markdown",
      "metadata": {
        "id": "t5ynO0fGtOCK"
      },
      "source": [
        "We can also extract the day/month/year using the to_period function where 'D', 'M', 'Y' are inputs"
      ]
    },
    {
      "cell_type": "code",
      "metadata": {
        "id": "qEeZ2d-ntOCM",
        "outputId": "51a2a1bc-8944-44e9-f681-31331dc7a109"
      },
      "source": [
        "df['month_year'] = pd.to_datetime(df['birth_date']).dt.to_period('M')\n",
        "df.head()"
      ],
      "execution_count": null,
      "outputs": [
        {
          "output_type": "execute_result",
          "data": {
            "text/html": [
              "<div>\n",
              "<style scoped>\n",
              "    .dataframe tbody tr th:only-of-type {\n",
              "        vertical-align: middle;\n",
              "    }\n",
              "\n",
              "    .dataframe tbody tr th {\n",
              "        vertical-align: top;\n",
              "    }\n",
              "\n",
              "    .dataframe thead th {\n",
              "        text-align: right;\n",
              "    }\n",
              "</style>\n",
              "<table border=\"1\" class=\"dataframe\">\n",
              "  <thead>\n",
              "    <tr style=\"text-align: right;\">\n",
              "      <th></th>\n",
              "      <th>name</th>\n",
              "      <th>favorite_color</th>\n",
              "      <th>grade</th>\n",
              "      <th>birth_date</th>\n",
              "      <th>year</th>\n",
              "      <th>month</th>\n",
              "      <th>month_year</th>\n",
              "    </tr>\n",
              "  </thead>\n",
              "  <tbody>\n",
              "    <tr>\n",
              "      <th>Willard Morris</th>\n",
              "      <td>Willard Morris</td>\n",
              "      <td>blue</td>\n",
              "      <td>88</td>\n",
              "      <td>01-02-1996</td>\n",
              "      <td>1996</td>\n",
              "      <td>1</td>\n",
              "      <td>1996-01</td>\n",
              "    </tr>\n",
              "    <tr>\n",
              "      <th>Al Jennings</th>\n",
              "      <td>Al Jennings</td>\n",
              "      <td>red</td>\n",
              "      <td>92</td>\n",
              "      <td>08-05-1997</td>\n",
              "      <td>1997</td>\n",
              "      <td>8</td>\n",
              "      <td>1997-08</td>\n",
              "    </tr>\n",
              "    <tr>\n",
              "      <th>Omar Mullins</th>\n",
              "      <td>Omar Mullins</td>\n",
              "      <td>yellow</td>\n",
              "      <td>95</td>\n",
              "      <td>04-28-1996</td>\n",
              "      <td>1996</td>\n",
              "      <td>4</td>\n",
              "      <td>1996-04</td>\n",
              "    </tr>\n",
              "    <tr>\n",
              "      <th>Spencer McDaniel</th>\n",
              "      <td>Spencer McDaniel</td>\n",
              "      <td>green</td>\n",
              "      <td>70</td>\n",
              "      <td>12-16-1995</td>\n",
              "      <td>1995</td>\n",
              "      <td>12</td>\n",
              "      <td>1995-12</td>\n",
              "    </tr>\n",
              "    <tr>\n",
              "      <th>Donna Faye</th>\n",
              "      <td>Donna Faye</td>\n",
              "      <td>pink</td>\n",
              "      <td>75</td>\n",
              "      <td>07-01-1976</td>\n",
              "      <td>1976</td>\n",
              "      <td>7</td>\n",
              "      <td>1976-07</td>\n",
              "    </tr>\n",
              "  </tbody>\n",
              "</table>\n",
              "</div>"
            ],
            "text/plain": [
              "                              name favorite_color  grade  birth_date  year  \\\n",
              "Willard Morris      Willard Morris           blue     88  01-02-1996  1996   \n",
              "Al Jennings            Al Jennings            red     92  08-05-1997  1997   \n",
              "Omar Mullins          Omar Mullins         yellow     95  04-28-1996  1996   \n",
              "Spencer McDaniel  Spencer McDaniel          green     70  12-16-1995  1995   \n",
              "Donna Faye              Donna Faye           pink     75  07-01-1976  1976   \n",
              "\n",
              "                  month month_year  \n",
              "Willard Morris        1    1996-01  \n",
              "Al Jennings           8    1997-08  \n",
              "Omar Mullins          4    1996-04  \n",
              "Spencer McDaniel     12    1995-12  \n",
              "Donna Faye            7    1976-07  "
            ]
          },
          "metadata": {
            "tags": []
          },
          "execution_count": 6
        }
      ]
    },
    {
      "cell_type": "markdown",
      "metadata": {
        "id": "r3qG-5MLtOCU"
      },
      "source": [
        "This could be important if you have -- for instance in Reddit -- timestamps with the hour that you want to round to the day or the month."
      ]
    },
    {
      "cell_type": "markdown",
      "metadata": {
        "id": "oVvJr2-GtOCV"
      },
      "source": [
        "Extracting the decade from the year doesn't require _datetime_ -- it just requires a little math. "
      ]
    },
    {
      "cell_type": "code",
      "metadata": {
        "id": "-pwA4dSmtOCW",
        "outputId": "af94bcc9-ec54-4c20-b538-6898ea502d12"
      },
      "source": [
        "#add a column for the decade\n",
        "df['decade'] = np.floor(df['year'] / 10) * 10 # round each year to the nearest ten -- by dividing by ten and \"flooring\" to the lowest integer\n",
        "# df['decade'] = df[year]%10==0 # another way \"floor\" the date -- use the modulus (\"%\") to only admit numbers \"floored\" to the nearest ten.\n",
        "df['decade'] = df['decade'].astype(int) # treat it like an integer, not a decimal\n",
        "df"
      ],
      "execution_count": null,
      "outputs": [
        {
          "output_type": "execute_result",
          "data": {
            "text/html": [
              "<div>\n",
              "<style scoped>\n",
              "    .dataframe tbody tr th:only-of-type {\n",
              "        vertical-align: middle;\n",
              "    }\n",
              "\n",
              "    .dataframe tbody tr th {\n",
              "        vertical-align: top;\n",
              "    }\n",
              "\n",
              "    .dataframe thead th {\n",
              "        text-align: right;\n",
              "    }\n",
              "</style>\n",
              "<table border=\"1\" class=\"dataframe\">\n",
              "  <thead>\n",
              "    <tr style=\"text-align: right;\">\n",
              "      <th></th>\n",
              "      <th>name</th>\n",
              "      <th>favorite_color</th>\n",
              "      <th>grade</th>\n",
              "      <th>birth_date</th>\n",
              "      <th>year</th>\n",
              "      <th>month</th>\n",
              "      <th>month_year</th>\n",
              "      <th>decade</th>\n",
              "    </tr>\n",
              "  </thead>\n",
              "  <tbody>\n",
              "    <tr>\n",
              "      <th>Willard Morris</th>\n",
              "      <td>Willard Morris</td>\n",
              "      <td>blue</td>\n",
              "      <td>88</td>\n",
              "      <td>01-02-1996</td>\n",
              "      <td>1996</td>\n",
              "      <td>1</td>\n",
              "      <td>1996-01</td>\n",
              "      <td>1990</td>\n",
              "    </tr>\n",
              "    <tr>\n",
              "      <th>Al Jennings</th>\n",
              "      <td>Al Jennings</td>\n",
              "      <td>red</td>\n",
              "      <td>92</td>\n",
              "      <td>08-05-1997</td>\n",
              "      <td>1997</td>\n",
              "      <td>8</td>\n",
              "      <td>1997-08</td>\n",
              "      <td>1990</td>\n",
              "    </tr>\n",
              "    <tr>\n",
              "      <th>Omar Mullins</th>\n",
              "      <td>Omar Mullins</td>\n",
              "      <td>yellow</td>\n",
              "      <td>95</td>\n",
              "      <td>04-28-1996</td>\n",
              "      <td>1996</td>\n",
              "      <td>4</td>\n",
              "      <td>1996-04</td>\n",
              "      <td>1990</td>\n",
              "    </tr>\n",
              "    <tr>\n",
              "      <th>Spencer McDaniel</th>\n",
              "      <td>Spencer McDaniel</td>\n",
              "      <td>green</td>\n",
              "      <td>70</td>\n",
              "      <td>12-16-1995</td>\n",
              "      <td>1995</td>\n",
              "      <td>12</td>\n",
              "      <td>1995-12</td>\n",
              "      <td>1990</td>\n",
              "    </tr>\n",
              "    <tr>\n",
              "      <th>Donna Faye</th>\n",
              "      <td>Donna Faye</td>\n",
              "      <td>pink</td>\n",
              "      <td>75</td>\n",
              "      <td>07-01-1976</td>\n",
              "      <td>1976</td>\n",
              "      <td>7</td>\n",
              "      <td>1976-07</td>\n",
              "      <td>1970</td>\n",
              "    </tr>\n",
              "    <tr>\n",
              "      <th>Alexander McQueen</th>\n",
              "      <td>Alexander McQueen</td>\n",
              "      <td>purple</td>\n",
              "      <td>70</td>\n",
              "      <td>08-03-1964</td>\n",
              "      <td>1964</td>\n",
              "      <td>8</td>\n",
              "      <td>1964-08</td>\n",
              "      <td>1960</td>\n",
              "    </tr>\n",
              "    <tr>\n",
              "      <th>Harold Bistander</th>\n",
              "      <td>Harold Bistander</td>\n",
              "      <td>olive</td>\n",
              "      <td>80</td>\n",
              "      <td>02-22-2001</td>\n",
              "      <td>2001</td>\n",
              "      <td>2</td>\n",
              "      <td>2001-02</td>\n",
              "      <td>2000</td>\n",
              "    </tr>\n",
              "    <tr>\n",
              "      <th>Henrietta Morgan</th>\n",
              "      <td>Henrietta Morgan</td>\n",
              "      <td>black</td>\n",
              "      <td>90</td>\n",
              "      <td>03-28-1970</td>\n",
              "      <td>1970</td>\n",
              "      <td>3</td>\n",
              "      <td>1970-03</td>\n",
              "      <td>1970</td>\n",
              "    </tr>\n",
              "  </tbody>\n",
              "</table>\n",
              "</div>"
            ],
            "text/plain": [
              "                                name favorite_color  grade  birth_date  year  \\\n",
              "Willard Morris        Willard Morris           blue     88  01-02-1996  1996   \n",
              "Al Jennings              Al Jennings            red     92  08-05-1997  1997   \n",
              "Omar Mullins            Omar Mullins         yellow     95  04-28-1996  1996   \n",
              "Spencer McDaniel    Spencer McDaniel          green     70  12-16-1995  1995   \n",
              "Donna Faye                Donna Faye           pink     75  07-01-1976  1976   \n",
              "Alexander McQueen  Alexander McQueen         purple     70  08-03-1964  1964   \n",
              "Harold Bistander    Harold Bistander          olive     80  02-22-2001  2001   \n",
              "Henrietta Morgan    Henrietta Morgan          black     90  03-28-1970  1970   \n",
              "\n",
              "                   month month_year  decade  \n",
              "Willard Morris         1    1996-01    1990  \n",
              "Al Jennings            8    1997-08    1990  \n",
              "Omar Mullins           4    1996-04    1990  \n",
              "Spencer McDaniel      12    1995-12    1990  \n",
              "Donna Faye             7    1976-07    1970  \n",
              "Alexander McQueen      8    1964-08    1960  \n",
              "Harold Bistander       2    2001-02    2000  \n",
              "Henrietta Morgan       3    1970-03    1970  "
            ]
          },
          "metadata": {
            "tags": []
          },
          "execution_count": 7
        }
      ]
    },
    {
      "cell_type": "markdown",
      "metadata": {
        "id": "HrEkZcgltOCc"
      },
      "source": [
        "Kindly notice that in the code block above, there are two ways of \"flooring\" the year to the decade to which it belongs.  \"Flooring\" is different from \"rounding.\" "
      ]
    },
    {
      "cell_type": "code",
      "metadata": {
        "id": "4Jkg_j73tOCe",
        "outputId": "36b3fdb8-3833-4453-c31f-6e5dd4034b5f"
      },
      "source": [
        "np.floor(1976/10)*10"
      ],
      "execution_count": null,
      "outputs": [
        {
          "output_type": "execute_result",
          "data": {
            "text/plain": [
              "1970.0"
            ]
          },
          "metadata": {
            "tags": []
          },
          "execution_count": 8
        }
      ]
    },
    {
      "cell_type": "code",
      "metadata": {
        "id": "5G87kasKtOCk",
        "outputId": "2c436cfa-5b17-498a-eb3d-f7bd5dd2ceb2"
      },
      "source": [
        "np.round(1976/10)*10"
      ],
      "execution_count": null,
      "outputs": [
        {
          "output_type": "execute_result",
          "data": {
            "text/plain": [
              "1980.0"
            ]
          },
          "metadata": {
            "tags": []
          },
          "execution_count": 9
        }
      ]
    },
    {
      "cell_type": "markdown",
      "metadata": {
        "id": "k4dVjhUJtOCt"
      },
      "source": [
        "When we're working with dates, we have the convention of referring to 1976 as part of the 1970s, not the 1980s.  \"Flooring\" describes the math involved -- it looks down for the nearest integer floor, rather than both up and down for the nearest number.  All you really need to know is that you should be flooring rather than rounding in the case of months or decades, so that your dates make sense to an outside interpreter.  Otherwise, you might produce an analysis and show your data, only to have a quizzical response from a historian that asks you with 1976 counts as part of the 1980s, and what your evidence of change in the 1970s really means."
      ]
    },
    {
      "cell_type": "markdown",
      "metadata": {
        "id": "EsvJHyeJtOCu"
      },
      "source": [
        "The two kinds of \"flooring\" above are dividing and discarding the decimal (np.floor(1976/10)*10) and using the modulus to discard the decimal (df[year]%10==0).  The latter is shorter, and uses the % operator, which essentially just discards the decimal.  They do the same thing.  Again, all you need to know for our purposes is that you should be flooring, not rounding, when you work with dates."
      ]
    },
    {
      "cell_type": "markdown",
      "metadata": {
        "id": "IgWE4Nd8tOCv"
      },
      "source": [
        "## Visualizing with dates"
      ]
    },
    {
      "cell_type": "code",
      "metadata": {
        "id": "9q61nt0StOCx"
      },
      "source": [
        "import matplotlib\n",
        "import matplotlib.pyplot as plt"
      ],
      "execution_count": null,
      "outputs": []
    },
    {
      "cell_type": "markdown",
      "metadata": {
        "id": "MCe0AL1stOC4"
      },
      "source": [
        "Visualizing data with dates in python requires a few tricks. There are only a few major things to know:\n",
        "* Conventions of visualization dictate that time be treated on the x axis, with the years in order.\n",
        "* When you have rounded dates, you want to make sure that the axis labels correspond to the quantities to which you have rounded them.\n",
        "* Because some conventions of listing dates put the month first, if you're working with full dates rather than with years, you need to make sure that Python knows how to \"order\" the dates."
      ]
    },
    {
      "cell_type": "markdown",
      "metadata": {
        "id": "8EV3e0DJtOC6"
      },
      "source": [
        "Let's take the first one first.  _Put time on the x axis._  Here's what happens if you aren't careful."
      ]
    },
    {
      "cell_type": "code",
      "metadata": {
        "id": "MLHgIwqZtOC8",
        "outputId": "061a3f58-b3b8-4895-b132-fdab515414a7"
      },
      "source": [
        "%matplotlib inline\n",
        "plt.scatter(df.name, df.decade, color='red')\n",
        "plt.show()"
      ],
      "execution_count": null,
      "outputs": [
        {
          "output_type": "display_data",
          "data": {
            "image/png": "[encoded data removed]",
            "text/plain": [
              "<Figure size 432x288 with 1 Axes>"
            ]
          },
          "metadata": {
            "tags": [],
            "needs_background": "light"
          }
        }
      ]
    },
    {
      "cell_type": "markdown",
      "metadata": {
        "id": "ddvP9RMxtODD"
      },
      "source": [
        "You might notice that a few things are wrong here.  Matplotlib has generated labels for us -- but they're very hard to read.  But that's not the only trouble. \n",
        "\n",
        "You might observe that your tendency is to try to read this chart from left to right, like text.  In which case it looks like first there were four people born at the same time, followed by a dearth of births and a rise in births.  This interpretation is totally wrong for several reasons: first, change over time goes from the bottom up; second, this is a scatterplot of names and dates, not a graph representing quantities.  But it's easy to be fooled about how to read change over time in a graph -- if you're not paying attention to your axes. \n",
        "\n",
        "Let's rotate the axes now and see how much easier it is to read."
      ]
    },
    {
      "cell_type": "code",
      "metadata": {
        "scrolled": true,
        "id": "WBIL9is4tODE",
        "outputId": "b1090f73-8f7e-490b-e734-7a51852a6cf4"
      },
      "source": [
        "%matplotlib inline\n",
        "plt.scatter(df.decade, df.name, color='red') # notice that we've switched the order so that decade is plotted on the x axis\n",
        "plt.xticks(rotation=90) # puts the labels at a 90 angle so that they fit\n",
        "plt.ylabel(\"Birth Decade\") # don't forget to label the axes\n",
        "plt.xlabel(\"Person\")\n",
        "plt.title(\"Decade of Birth by Name\") # and label the plot!\n",
        "plt.show()"
      ],
      "execution_count": null,
      "outputs": [
        {
          "output_type": "display_data",
          "data": {
            "image/png": "[encoded data removed]",
            "text/plain": [
              "<Figure size 432x288 with 1 Axes>"
            ]
          },
          "metadata": {
            "tags": [],
            "needs_background": "light"
          }
        }
      ]
    },
    {
      "cell_type": "markdown",
      "metadata": {
        "id": "9ACxeojbtODL"
      },
      "source": [
        "That's much better.  You can read the chart from left to right, noticing that four people were born in 1990.\n",
        "\n",
        "However, there's still a problem.  Look at the labels on the x-axis.  Notice that no one is listed as having been born near 1975, even though we have a birthdate in 1976.  \n",
        "\n",
        "The problem is that the axis labels don't fit our data.  The x-axis doesn't seem to recognize that we're dealing with decades! Let's fix that so that our readers aren't confused about what the plot is showing."
      ]
    },
    {
      "cell_type": "code",
      "metadata": {
        "scrolled": true,
        "id": "UW3y1WYctODM",
        "outputId": "d163f272-494d-444e-d7f1-d1f73b452516"
      },
      "source": [
        "%matplotlib inline\n",
        "\n",
        "# tell it where to put the ticks only every 10 years\n",
        "xt = np.arange(df.decade.min(), df.decade.max()+1) # we create a dummy list of each decade\n",
        "xt = xt[xt%10==0] # we use the modulus (\"%\") to only admit numbers \"floored\" to the nearest ten.\n",
        "# xt will be fed to the visualization as a list of ticks for the x-axis.\n",
        "\n",
        "#plt.style.use('ggplot')\n",
        "plt.scatter(df.decade, df.name, color='red')\n",
        "plt.xlabel(\"Birth Decade\")\n",
        "plt.ylabel(\"Person\")\n",
        "plt.xticks(rotation=90)\n",
        "plt.xticks(xt) # this line of code tells the plot to put axes only on the list of number in xt -- that is, whole decade numbers\n",
        "plt.title(\"Decade of Birth by Name\")\n",
        "plt.show()"
      ],
      "execution_count": null,
      "outputs": [
        {
          "output_type": "display_data",
          "data": {
            "image/png": "[encoded data removed]",
            "text/plain": [
              "<Figure size 432x288 with 1 Axes>"
            ]
          },
          "metadata": {
            "tags": [],
            "needs_background": "light"
          }
        }
      ]
    },
    {
      "cell_type": "markdown",
      "metadata": {
        "id": "a5CsKEJ5tODU"
      },
      "source": [
        "By generating a list of decades in the variable xt, we can tell matplotlib to only put axis marks on the decades listed in xt.  The visualization makes a lot more sense -- a naive reader could guess that we're just plotting decades, because there aren't any extra x-axis years to suggest zero birthdays in between."
      ]
    },
    {
      "cell_type": "markdown",
      "metadata": {
        "id": "uiaUa6xxtODU"
      },
      "source": [
        "Now let's try plotting birth dates -- which have, as you'll remember, information about month, day, and year in them."
      ]
    },
    {
      "cell_type": "code",
      "metadata": {
        "id": "i8hn46uItODW",
        "outputId": "153a046e-f5c5-43a2-eb2b-e3809f6693bb"
      },
      "source": [
        "%matplotlib inline\n",
        "\n",
        "plt.scatter(df.birth_date, df.name, color='red')\n",
        "plt.xlabel(\"Birth Date\")\n",
        "plt.ylabel(\"Person\")\n",
        "plt.xticks(rotation=90)\n",
        "#plt.xticks(xt)\n",
        "plt.title(\"Birthday by Name\")\n",
        "plt.show()"
      ],
      "execution_count": null,
      "outputs": [
        {
          "output_type": "display_data",
          "data": {
            "image/png": "[encoded data removed]",
            "text/plain": [
              "<Figure size 432x288 with 1 Axes>"
            ]
          },
          "metadata": {
            "tags": [],
            "needs_background": "light"
          }
        }
      ]
    },
    {
      "cell_type": "markdown",
      "metadata": {
        "id": "gzjevASptODc"
      },
      "source": [
        "Looks great!  -- but hey, wait a minute; 1964 doesn't come after 1996... It's putting the dates in the order in which they were arranged, randomly, when we entered the data.  The plot must be treating everything in the birth_date column like it's a string.  That's not very useful; it doesn't tell us anything about time.\n",
        "\n",
        "Let's try adding a few lines of code to tell pandas to \"sort\" the values of birth_date from small to large, treating each value like a date."
      ]
    },
    {
      "cell_type": "code",
      "metadata": {
        "id": "GbSKarl0tODd",
        "outputId": "8375d916-03f8-49cb-c6e4-6f2a51b0e30b"
      },
      "source": [
        "%matplotlib inline\n",
        "\n",
        "# this time, before we plot, let's ask pandas to sort the values\n",
        "df.birth_date = pd.to_datetime(df.birth_date) # instructs pandas to treat birth_date like a date\n",
        "df = df.sort_values('birth_date', ascending=True) # re-sorts the df by date\n",
        "\n",
        "plt.scatter(df.birth_date, df.name, color='red')\n",
        "plt.xlabel(\"Birth Date\")\n",
        "plt.ylabel(\"Person\")\n",
        "plt.xticks(rotation=90)\n",
        "\n",
        "#plt.xticks(xt)\n",
        "plt.title(\"Birthday by Name\")\n",
        "plt.show()\n"
      ],
      "execution_count": null,
      "outputs": [
        {
          "output_type": "stream",
          "text": [
            "/hpc/applications/anaconda/3/lib/python3.6/site-packages/pandas/plotting/_matplotlib/converter.py:103: FutureWarning: Using an implicitly registered datetime converter for a matplotlib plotting method. The converter was registered by pandas on import. Future versions of pandas will require you to explicitly register matplotlib converters.\n",
            "\n",
            "To register the converters:\n",
            "\t>>> from pandas.plotting import register_matplotlib_converters\n",
            "\t>>> register_matplotlib_converters()\n",
            "  warnings.warn(msg, FutureWarning)\n"
          ],
          "name": "stderr"
        },
        {
          "output_type": "display_data",
          "data": {
            "image/png": "[encoded data removed]",
            "text/plain": [
              "<Figure size 432x288 with 1 Axes>"
            ]
          },
          "metadata": {
            "tags": [],
            "needs_background": "light"
          }
        }
      ]
    },
    {
      "cell_type": "markdown",
      "metadata": {
        "id": "UFzu4l8otODl"
      },
      "source": [
        "Compare this graph with the graph above of Name by Decade.  What's the difference between the two?  When might one format be more useful?"
      ]
    },
    {
      "cell_type": "markdown",
      "metadata": {
        "id": "U7wtkPaDtODn"
      },
      "source": [
        "# Measuring Change Over Time by Grouping"
      ]
    },
    {
      "cell_type": "markdown",
      "metadata": {
        "id": "92dAOOVStODr"
      },
      "source": [
        "      When working with temporal data, we often want to understand the meaning of some variable -- for instance year or decade.  Understanding often implies using that variable to count other variables, for example: how many times do words appear in each decade?  Which words change over time?\n",
        "    \n",
        "       In this exercise, we will use two strategies to understand wordcount by period: one is the groupby() command, and the other (which you have seen before) is the \"for\" loop.  The two essentially do the same thing, but they are used in Python in slightly different contexts."
      ]
    },
    {
      "cell_type": "markdown",
      "metadata": {
        "id": "WQFxtHi-tODs"
      },
      "source": [
        "# The pandas `groupby()` method"
      ]
    },
    {
      "cell_type": "markdown",
      "metadata": {
        "id": "psjrk-eBtODt"
      },
      "source": [
        "Understanding how to group data is essential for performing a number of operations on pandas DataFrames. \n",
        "\n",
        "Groupby refers to a process involving one or more of the following steps: \n",
        " - splitting the data into groups based on some criteria.\n",
        " - applying a function to each group independently.\n",
        " - combining the results into a data structure. \n",
        "\n",
        "The main takeaway is that with `groupby()` we can group categories and then apply functions to the categories instead of to the entire data set.\n",
        "\n",
        "Before showing code examples of `groupby()` let's get a quick conceptual overview of what it means to perform a function to a category as opposed to the entire data set.\n",
        "\n",
        "Consider the following image, a sample of the Hansard data. If we were to group this data by decade it would be as though we stuck each decade into a bucket to be operated upon independantly from the rest of the data."
      ]
    },
    {
      "cell_type": "markdown",
      "metadata": {
        "id": "rP2dzuQhtODu"
      },
      "source": [
        ""
      ]
    },
    {
      "cell_type": "markdown",
      "metadata": {
        "id": "mTuBGvx2tODv"
      },
      "source": [
        "<img src=\"data:image/png;base64,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\">"
      ]
    },
    {
      "cell_type": "markdown",
      "metadata": {
        "id": "flFp5C_ptODw"
      },
      "source": [
        "The following code example demonstrates this concept in action. During this example we will:\n",
        "\n",
        "1. Count the number of words in each sentence of our Hansard sample\n",
        "2. Group the data by decade\n",
        "3. Sum the total number of words per each decade based on our sentence-level word counts"
      ]
    },
    {
      "cell_type": "markdown",
      "metadata": {
        "id": "gWLHTGpVtODy"
      },
      "source": [
        "### Code example:"
      ]
    },
    {
      "cell_type": "markdown",
      "metadata": {
        "id": "tyMTTDentODz"
      },
      "source": [
        "The code below is the basic code to load debates from the Stanford database of American Congressional debates.  It takes speeches in one dataframe, and \"descriptions\" of the speeches (who spoke and when) in another dataframe, and then merges them into one database.\n",
        "\n",
        "Depending on how the Max and Min Threshold are set, you can ingest more speeches or fewer ones.  If you ingest too many speeches at once, you might crash the computer; but if you're working on an HPC machine, you can always restart the session with more memory and try the exercise again."
      ]
    },
    {
      "cell_type": "code",
      "metadata": {
        "id": "6qCg0mXrtOD1",
        "outputId": "4ecca950-9419-4b8d-96fc-aa5fbb1426f5"
      },
      "source": [
        "import pandas as pd\n",
        "import csv\n",
        "import glob\n",
        "\n",
        "all_speech_files = glob.glob('/scratch/group/oit_research_data/stanford_congress/hein-bound/speeches_*.txt')\n",
        "CONGRESS_MIN_THRESHOLD = 100\n",
        "CONGRESS_MAX_THRESHOLD = 115\n",
        "\n",
        "speech_files = []\n",
        "\n",
        "for fn in all_speech_files:\n",
        "    number = int(fn.rsplit('_', 1)[-1].split('.')[0])\n",
        "    if CONGRESS_MIN_THRESHOLD <= number <= CONGRESS_MAX_THRESHOLD:\n",
        "        speech_files.append(fn)\n",
        "        speech_files.sort()\n",
        "        display(speech_files)\n",
        "        \n",
        "def parse_one(fn):\n",
        "    print(f'Reading {fn}...')\n",
        "    return pd.read_csv(fn, sep='|', encoding=\"ISO-8859-1\", error_bad_lines=False, quoting=csv.QUOTE_NONE)\n",
        "\n",
        "speeches_df = pd.concat((parse_one(fn) for fn in speech_files))\n",
        "display(speeches_df)\n"
      ],
      "execution_count": null,
      "outputs": [
        {
          "output_type": "display_data",
          "data": {
            "text/plain": [
              "['/scratch/group/oit_research_data/stanford_congress/hein-bound/speeches_110.txt']"
            ]
          },
          "metadata": {
            "tags": []
          }
        },
        {
          "output_type": "display_data",
          "data": {
            "text/plain": [
              "['/scratch/group/oit_research_data/stanford_congress/hein-bound/speeches_101.txt',\n",
              " '/scratch/group/oit_research_data/stanford_congress/hein-bound/speeches_110.txt']"
            ]
          },
          "metadata": {
            "tags": []
          }
        },
        {
          "output_type": "display_data",
          "data": {
            "text/plain": [
              "['/scratch/group/oit_research_data/stanford_congress/hein-bound/speeches_101.txt',\n",
              " '/scratch/group/oit_research_data/stanford_congress/hein-bound/speeches_106.txt',\n",
              " '/scratch/group/oit_research_data/stanford_congress/hein-bound/speeches_110.txt']"
            ]
          },
          "metadata": {
            "tags": []
          }
        },
        {
          "output_type": "display_data",
          "data": {
            "text/plain": [
              "['/scratch/group/oit_research_data/stanford_congress/hein-bound/speeches_101.txt',\n",
              " '/scratch/group/oit_research_data/stanford_congress/hein-bound/speeches_106.txt',\n",
              " '/scratch/group/oit_research_data/stanford_congress/hein-bound/speeches_108.txt',\n",
              " '/scratch/group/oit_research_data/stanford_congress/hein-bound/speeches_110.txt']"
            ]
          },
          "metadata": {
            "tags": []
          }
        },
        {
          "output_type": "display_data",
          "data": {
            "text/plain": [
              "['/scratch/group/oit_research_data/stanford_congress/hein-bound/speeches_101.txt',\n",
              " '/scratch/group/oit_research_data/stanford_congress/hein-bound/speeches_106.txt',\n",
              " '/scratch/group/oit_research_data/stanford_congress/hein-bound/speeches_108.txt',\n",
              " '/scratch/group/oit_research_data/stanford_congress/hein-bound/speeches_110.txt',\n",
              " '/scratch/group/oit_research_data/stanford_congress/hein-bound/speeches_111.txt']"
            ]
          },
          "metadata": {
            "tags": []
          }
        },
        {
          "output_type": "display_data",
          "data": {
            "text/plain": [
              "['/scratch/group/oit_research_data/stanford_congress/hein-bound/speeches_101.txt',\n",
              " '/scratch/group/oit_research_data/stanford_congress/hein-bound/speeches_106.txt',\n",
              " '/scratch/group/oit_research_data/stanford_congress/hein-bound/speeches_108.txt',\n",
              " '/scratch/group/oit_research_data/stanford_congress/hein-bound/speeches_109.txt',\n",
              " '/scratch/group/oit_research_data/stanford_congress/hein-bound/speeches_110.txt',\n",
              " '/scratch/group/oit_research_data/stanford_congress/hein-bound/speeches_111.txt']"
            ]
          },
          "metadata": {
            "tags": []
          }
        },
        {
          "output_type": "display_data",
          "data": {
            "text/plain": [
              "['/scratch/group/oit_research_data/stanford_congress/hein-bound/speeches_101.txt',\n",
              " '/scratch/group/oit_research_data/stanford_congress/hein-bound/speeches_106.txt',\n",
              " '/scratch/group/oit_research_data/stanford_congress/hein-bound/speeches_107.txt',\n",
              " '/scratch/group/oit_research_data/stanford_congress/hein-bound/speeches_108.txt',\n",
              " '/scratch/group/oit_research_data/stanford_congress/hein-bound/speeches_109.txt',\n",
              " '/scratch/group/oit_research_data/stanford_congress/hein-bound/speeches_110.txt',\n",
              " '/scratch/group/oit_research_data/stanford_congress/hein-bound/speeches_111.txt']"
            ]
          },
          "metadata": {
            "tags": []
          }
        },
        {
          "output_type": "display_data",
          "data": {
            "text/plain": [
              "['/scratch/group/oit_research_data/stanford_congress/hein-bound/speeches_100.txt',\n",
              " '/scratch/group/oit_research_data/stanford_congress/hein-bound/speeches_101.txt',\n",
              " '/scratch/group/oit_research_data/stanford_congress/hein-bound/speeches_106.txt',\n",
              " '/scratch/group/oit_research_data/stanford_congress/hein-bound/speeches_107.txt',\n",
              " '/scratch/group/oit_research_data/stanford_congress/hein-bound/speeches_108.txt',\n",
              " '/scratch/group/oit_research_data/stanford_congress/hein-bound/speeches_109.txt',\n",
              " '/scratch/group/oit_research_data/stanford_congress/hein-bound/speeches_110.txt',\n",
              " '/scratch/group/oit_research_data/stanford_congress/hein-bound/speeches_111.txt']"
            ]
          },
          "metadata": {
            "tags": []
          }
        },
        {
          "output_type": "display_data",
          "data": {
            "text/plain": [
              "['/scratch/group/oit_research_data/stanford_congress/hein-bound/speeches_100.txt',\n",
              " '/scratch/group/oit_research_data/stanford_congress/hein-bound/speeches_101.txt',\n",
              " '/scratch/group/oit_research_data/stanford_congress/hein-bound/speeches_103.txt',\n",
              " '/scratch/group/oit_research_data/stanford_congress/hein-bound/speeches_106.txt',\n",
              " '/scratch/group/oit_research_data/stanford_congress/hein-bound/speeches_107.txt',\n",
              " '/scratch/group/oit_research_data/stanford_congress/hein-bound/speeches_108.txt',\n",
              " '/scratch/group/oit_research_data/stanford_congress/hein-bound/speeches_109.txt',\n",
              " '/scratch/group/oit_research_data/stanford_congress/hein-bound/speeches_110.txt',\n",
              " '/scratch/group/oit_research_data/stanford_congress/hein-bound/speeches_111.txt']"
            ]
          },
          "metadata": {
            "tags": []
          }
        },
        {
          "output_type": "display_data",
          "data": {
            "text/plain": [
              "['/scratch/group/oit_research_data/stanford_congress/hein-bound/speeches_100.txt',\n",
              " '/scratch/group/oit_research_data/stanford_congress/hein-bound/speeches_101.txt',\n",
              " '/scratch/group/oit_research_data/stanford_congress/hein-bound/speeches_103.txt',\n",
              " '/scratch/group/oit_research_data/stanford_congress/hein-bound/speeches_104.txt',\n",
              " '/scratch/group/oit_research_data/stanford_congress/hein-bound/speeches_106.txt',\n",
              " '/scratch/group/oit_research_data/stanford_congress/hein-bound/speeches_107.txt',\n",
              " '/scratch/group/oit_research_data/stanford_congress/hein-bound/speeches_108.txt',\n",
              " '/scratch/group/oit_research_data/stanford_congress/hein-bound/speeches_109.txt',\n",
              " '/scratch/group/oit_research_data/stanford_congress/hein-bound/speeches_110.txt',\n",
              " '/scratch/group/oit_research_data/stanford_congress/hein-bound/speeches_111.txt']"
            ]
          },
          "metadata": {
            "tags": []
          }
        },
        {
          "output_type": "display_data",
          "data": {
            "text/plain": [
              "['/scratch/group/oit_research_data/stanford_congress/hein-bound/speeches_100.txt',\n",
              " '/scratch/group/oit_research_data/stanford_congress/hein-bound/speeches_101.txt',\n",
              " '/scratch/group/oit_research_data/stanford_congress/hein-bound/speeches_103.txt',\n",
              " '/scratch/group/oit_research_data/stanford_congress/hein-bound/speeches_104.txt',\n",
              " '/scratch/group/oit_research_data/stanford_congress/hein-bound/speeches_105.txt',\n",
              " '/scratch/group/oit_research_data/stanford_congress/hein-bound/speeches_106.txt',\n",
              " '/scratch/group/oit_research_data/stanford_congress/hein-bound/speeches_107.txt',\n",
              " '/scratch/group/oit_research_data/stanford_congress/hein-bound/speeches_108.txt',\n",
              " '/scratch/group/oit_research_data/stanford_congress/hein-bound/speeches_109.txt',\n",
              " '/scratch/group/oit_research_data/stanford_congress/hein-bound/speeches_110.txt',\n",
              " '/scratch/group/oit_research_data/stanford_congress/hein-bound/speeches_111.txt']"
            ]
          },
          "metadata": {
            "tags": []
          }
        },
        {
          "output_type": "display_data",
          "data": {
            "text/plain": [
              "['/scratch/group/oit_research_data/stanford_congress/hein-bound/speeches_100.txt',\n",
              " '/scratch/group/oit_research_data/stanford_congress/hein-bound/speeches_101.txt',\n",
              " '/scratch/group/oit_research_data/stanford_congress/hein-bound/speeches_102.txt',\n",
              " '/scratch/group/oit_research_data/stanford_congress/hein-bound/speeches_103.txt',\n",
              " '/scratch/group/oit_research_data/stanford_congress/hein-bound/speeches_104.txt',\n",
              " '/scratch/group/oit_research_data/stanford_congress/hein-bound/speeches_105.txt',\n",
              " '/scratch/group/oit_research_data/stanford_congress/hein-bound/speeches_106.txt',\n",
              " '/scratch/group/oit_research_data/stanford_congress/hein-bound/speeches_107.txt',\n",
              " '/scratch/group/oit_research_data/stanford_congress/hein-bound/speeches_108.txt',\n",
              " '/scratch/group/oit_research_data/stanford_congress/hein-bound/speeches_109.txt',\n",
              " '/scratch/group/oit_research_data/stanford_congress/hein-bound/speeches_110.txt',\n",
              " '/scratch/group/oit_research_data/stanford_congress/hein-bound/speeches_111.txt']"
            ]
          },
          "metadata": {
            "tags": []
          }
        },
        {
          "output_type": "stream",
          "text": [
            "Reading /scratch/group/oit_research_data/stanford_congress/hein-bound/speeches_100.txt...\n"
          ],
          "name": "stdout"
        },
        {
          "output_type": "stream",
          "text": [
            "b'Skipping line 31528: expected 2 fields, saw 3\\nSkipping line 37946: expected 2 fields, saw 3\\nSkipping line 188164: expected 2 fields, saw 3\\nSkipping line 232184: expected 2 fields, saw 3\\n'\n",
            "b'Skipping line 274343: expected 2 fields, saw 5\\n'\n"
          ],
          "name": "stderr"
        },
        {
          "output_type": "stream",
          "text": [
            "Reading /scratch/group/oit_research_data/stanford_congress/hein-bound/speeches_101.txt...\n"
          ],
          "name": "stdout"
        },
        {
          "output_type": "stream",
          "text": [
            "b'Skipping line 3868: expected 2 fields, saw 3\\nSkipping line 4170: expected 2 fields, saw 3\\nSkipping line 24283: expected 2 fields, saw 3\\nSkipping line 35613: expected 2 fields, saw 3\\nSkipping line 35704: expected 2 fields, saw 3\\nSkipping line 57443: expected 2 fields, saw 3\\nSkipping line 95845: expected 2 fields, saw 3\\nSkipping line 147639: expected 2 fields, saw 3\\nSkipping line 203930: expected 2 fields, saw 3\\nSkipping line 205059: expected 2 fields, saw 3\\n'\n"
          ],
          "name": "stderr"
        },
        {
          "output_type": "stream",
          "text": [
            "Reading /scratch/group/oit_research_data/stanford_congress/hein-bound/speeches_102.txt...\n"
          ],
          "name": "stdout"
        },
        {
          "output_type": "stream",
          "text": [
            "b'Skipping line 24820: expected 2 fields, saw 3\\nSkipping line 26339: expected 2 fields, saw 3\\nSkipping line 73177: expected 2 fields, saw 3\\nSkipping line 76342: expected 2 fields, saw 3\\nSkipping line 128313: expected 2 fields, saw 3\\nSkipping line 128705: expected 2 fields, saw 3\\nSkipping line 139864: expected 2 fields, saw 3\\nSkipping line 151770: expected 2 fields, saw 3\\nSkipping line 158265: expected 2 fields, saw 3\\nSkipping line 179429: expected 2 fields, saw 4\\nSkipping line 179956: expected 2 fields, saw 3\\nSkipping line 180140: expected 2 fields, saw 3\\nSkipping line 180498: expected 2 fields, saw 3\\nSkipping line 180706: expected 2 fields, saw 3\\nSkipping line 181071: expected 2 fields, saw 3\\nSkipping line 181077: expected 2 fields, saw 3\\nSkipping line 181570: expected 2 fields, saw 3\\nSkipping line 182753: expected 2 fields, saw 3\\nSkipping line 196608: expected 2 fields, saw 3\\nSkipping line 202342: expected 2 fields, saw 3\\nSkipping line 218154: expected 2 fields, saw 3\\nSkipping line 228959: expected 2 fields, saw 3\\nSkipping line 231779: expected 2 fields, saw 3\\nSkipping line 238176: expected 2 fields, saw 3\\n'\n"
          ],
          "name": "stderr"
        },
        {
          "output_type": "stream",
          "text": [
            "Reading /scratch/group/oit_research_data/stanford_congress/hein-bound/speeches_103.txt...\n"
          ],
          "name": "stdout"
        },
        {
          "output_type": "stream",
          "text": [
            "b'Skipping line 9074: expected 2 fields, saw 3\\nSkipping line 9527: expected 2 fields, saw 3\\nSkipping line 14411: expected 2 fields, saw 3\\nSkipping line 14448: expected 2 fields, saw 4\\nSkipping line 14489: expected 2 fields, saw 5\\nSkipping line 14597: expected 2 fields, saw 3\\nSkipping line 14613: expected 2 fields, saw 3\\nSkipping line 14707: expected 2 fields, saw 3\\nSkipping line 14761: expected 2 fields, saw 4\\nSkipping line 14776: expected 2 fields, saw 3\\nSkipping line 14790: expected 2 fields, saw 3\\nSkipping line 14832: expected 2 fields, saw 3\\nSkipping line 14908: expected 2 fields, saw 3\\nSkipping line 14968: expected 2 fields, saw 3\\nSkipping line 15014: expected 2 fields, saw 3\\nSkipping line 33022: expected 2 fields, saw 3\\nSkipping line 34717: expected 2 fields, saw 4\\nSkipping line 52845: expected 2 fields, saw 3\\nSkipping line 74571: expected 2 fields, saw 5\\nSkipping line 81916: expected 2 fields, saw 3\\nSkipping line 96604: expected 2 fields, saw 3\\nSkipping line 115847: expected 2 fields, saw 3\\nSkipping line 120120: expected 2 fields, saw 3\\nSkipping line 121348: expected 2 fields, saw 3\\nSkipping line 122566: expected 2 fields, saw 3\\nSkipping line 123936: expected 2 fields, saw 4\\nSkipping line 123939: expected 2 fields, saw 3\\nSkipping line 123941: expected 2 fields, saw 3\\nSkipping line 123953: expected 2 fields, saw 3\\nSkipping line 123958: expected 2 fields, saw 3\\nSkipping line 129771: expected 2 fields, saw 3\\nSkipping line 138246: expected 2 fields, saw 3\\nSkipping line 146986: expected 2 fields, saw 3\\nSkipping line 152584: expected 2 fields, saw 4\\nSkipping line 154930: expected 2 fields, saw 5\\nSkipping line 169430: expected 2 fields, saw 3\\nSkipping line 182278: expected 2 fields, saw 3\\nSkipping line 182901: expected 2 fields, saw 3\\nSkipping line 183361: expected 2 fields, saw 3\\nSkipping line 185403: expected 2 fields, saw 3\\nSkipping line 185861: expected 2 fields, saw 3\\nSkipping line 186612: expected 2 fields, saw 3\\nSkipping line 188037: expected 2 fields, saw 3\\nSkipping line 198077: expected 2 fields, saw 3\\nSkipping line 219792: expected 2 fields, saw 3\\nSkipping line 220181: expected 2 fields, saw 4\\nSkipping line 228919: expected 2 fields, saw 3\\nSkipping line 231735: expected 2 fields, saw 3\\nSkipping line 233657: expected 2 fields, saw 3\\nSkipping line 234080: expected 2 fields, saw 3\\nSkipping line 234469: expected 2 fields, saw 3\\n'\n"
          ],
          "name": "stderr"
        },
        {
          "output_type": "stream",
          "text": [
            "Reading /scratch/group/oit_research_data/stanford_congress/hein-bound/speeches_104.txt...\n"
          ],
          "name": "stdout"
        },
        {
          "output_type": "stream",
          "text": [
            "b'Skipping line 897: expected 2 fields, saw 3\\nSkipping line 974: expected 2 fields, saw 5\\nSkipping line 6487: expected 2 fields, saw 3\\nSkipping line 8299: expected 2 fields, saw 3\\nSkipping line 10159: expected 2 fields, saw 3\\nSkipping line 11440: expected 2 fields, saw 3\\nSkipping line 22453: expected 2 fields, saw 3\\nSkipping line 32193: expected 2 fields, saw 3\\nSkipping line 33909: expected 2 fields, saw 3\\nSkipping line 38214: expected 2 fields, saw 3\\nSkipping line 60085: expected 2 fields, saw 3\\nSkipping line 60561: expected 2 fields, saw 3\\nSkipping line 60770: expected 2 fields, saw 3\\nSkipping line 69949: expected 2 fields, saw 3\\nSkipping line 80628: expected 2 fields, saw 3\\nSkipping line 92552: expected 2 fields, saw 3\\nSkipping line 100552: expected 2 fields, saw 3\\nSkipping line 110683: expected 2 fields, saw 3\\nSkipping line 114532: expected 2 fields, saw 3\\nSkipping line 115534: expected 2 fields, saw 3\\nSkipping line 142076: expected 2 fields, saw 3\\nSkipping line 146227: expected 2 fields, saw 3\\nSkipping line 148998: expected 2 fields, saw 3\\nSkipping line 153870: expected 2 fields, saw 3\\nSkipping line 160421: expected 2 fields, saw 3\\nSkipping line 166120: expected 2 fields, saw 3\\nSkipping line 166193: expected 2 fields, saw 3\\nSkipping line 171720: expected 2 fields, saw 3\\nSkipping line 177121: expected 2 fields, saw 4\\nSkipping line 183308: expected 2 fields, saw 3\\nSkipping line 185954: expected 2 fields, saw 3\\nSkipping line 198525: expected 2 fields, saw 3\\nSkipping line 261211: expected 2 fields, saw 3\\n'\n"
          ],
          "name": "stderr"
        },
        {
          "output_type": "stream",
          "text": [
            "Reading /scratch/group/oit_research_data/stanford_congress/hein-bound/speeches_105.txt...\n"
          ],
          "name": "stdout"
        },
        {
          "output_type": "stream",
          "text": [
            "b'Skipping line 11900: expected 2 fields, saw 3\\nSkipping line 19254: expected 2 fields, saw 3\\nSkipping line 19485: expected 2 fields, saw 3\\nSkipping line 20125: expected 2 fields, saw 3\\nSkipping line 21268: expected 2 fields, saw 3\\nSkipping line 22339: expected 2 fields, saw 3\\nSkipping line 22469: expected 2 fields, saw 3\\nSkipping line 22696: expected 2 fields, saw 3\\nSkipping line 25549: expected 2 fields, saw 3\\nSkipping line 25966: expected 2 fields, saw 3\\nSkipping line 26524: expected 2 fields, saw 3\\nSkipping line 27100: expected 2 fields, saw 3\\nSkipping line 27718: expected 2 fields, saw 3\\nSkipping line 28618: expected 2 fields, saw 3\\nSkipping line 29339: expected 2 fields, saw 3\\nSkipping line 29352: expected 2 fields, saw 3\\nSkipping line 29453: expected 2 fields, saw 3\\nSkipping line 29982: expected 2 fields, saw 3\\nSkipping line 30021: expected 2 fields, saw 3\\nSkipping line 30399: expected 2 fields, saw 4\\nSkipping line 30574: expected 2 fields, saw 3\\nSkipping line 31504: expected 2 fields, saw 3\\nSkipping line 76226: expected 2 fields, saw 3\\nSkipping line 90898: expected 2 fields, saw 3\\nSkipping line 118937: expected 2 fields, saw 3\\nSkipping line 118941: expected 2 fields, saw 4\\nSkipping line 118982: expected 2 fields, saw 4\\nSkipping line 118983: expected 2 fields, saw 3\\nSkipping line 118985: expected 2 fields, saw 3\\nSkipping line 118991: expected 2 fields, saw 26\\nSkipping line 118996: expected 2 fields, saw 3\\nSkipping line 119015: expected 2 fields, saw 3\\nSkipping line 119016: expected 2 fields, saw 3\\nSkipping line 119058: expected 2 fields, saw 3\\nSkipping line 119059: expected 2 fields, saw 3\\nSkipping line 119089: expected 2 fields, saw 3\\nSkipping line 119090: expected 2 fields, saw 4\\nSkipping line 119098: expected 2 fields, saw 3\\nSkipping line 119105: expected 2 fields, saw 3\\nSkipping line 119160: expected 2 fields, saw 3\\nSkipping line 119185: expected 2 fields, saw 3\\nSkipping line 119188: expected 2 fields, saw 3\\nSkipping line 119196: expected 2 fields, saw 3\\nSkipping line 119204: expected 2 fields, saw 3\\nSkipping line 119207: expected 2 fields, saw 3\\nSkipping line 119268: expected 2 fields, saw 3\\nSkipping line 119386: expected 2 fields, saw 3\\nSkipping line 119526: expected 2 fields, saw 3\\nSkipping line 119528: expected 2 fields, saw 3\\nSkipping line 119705: expected 2 fields, saw 3\\nSkipping line 119820: expected 2 fields, saw 3\\nSkipping line 119866: expected 2 fields, saw 3\\nSkipping line 119972: expected 2 fields, saw 3\\nSkipping line 120009: expected 2 fields, saw 3\\nSkipping line 120143: expected 2 fields, saw 3\\nSkipping line 120177: expected 2 fields, saw 3\\nSkipping line 120334: expected 2 fields, saw 3\\nSkipping line 120350: expected 2 fields, saw 3\\nSkipping line 120567: expected 2 fields, saw 3\\nSkipping line 120633: expected 2 fields, saw 4\\nSkipping line 120658: expected 2 fields, saw 3\\nSkipping line 120794: expected 2 fields, saw 3\\nSkipping line 120909: expected 2 fields, saw 3\\nSkipping line 121021: expected 2 fields, saw 3\\nSkipping line 121120: expected 2 fields, saw 3\\nSkipping line 121134: expected 2 fields, saw 3\\nSkipping line 121169: expected 2 fields, saw 3\\nSkipping line 121285: expected 2 fields, saw 3\\nSkipping line 121347: expected 2 fields, saw 3\\nSkipping line 121352: expected 2 fields, saw 3\\nSkipping line 121368: expected 2 fields, saw 3\\nSkipping line 121372: expected 2 fields, saw 3\\nSkipping line 121378: expected 2 fields, saw 10\\nSkipping line 121380: expected 2 fields, saw 3\\nSkipping line 121381: expected 2 fields, saw 7\\nSkipping line 121383: expected 2 fields, saw 3\\nSkipping line 121393: expected 2 fields, saw 3\\nSkipping line 121411: expected 2 fields, saw 3\\nSkipping line 121431: expected 2 fields, saw 3\\nSkipping line 121440: expected 2 fields, saw 5\\nSkipping line 121442: expected 2 fields, saw 3\\nSkipping line 121445: expected 2 fields, saw 3\\nSkipping line 121458: expected 2 fields, saw 3\\nSkipping line 121463: expected 2 fields, saw 4\\nSkipping line 121474: expected 2 fields, saw 3\\nSkipping line 121605: expected 2 fields, saw 3\\nSkipping line 121608: expected 2 fields, saw 3\\nSkipping line 121674: expected 2 fields, saw 3\\nSkipping line 121686: expected 2 fields, saw 3\\nSkipping line 121700: expected 2 fields, saw 3\\nSkipping line 121731: expected 2 fields, saw 3\\nSkipping line 121782: expected 2 fields, saw 3\\nSkipping line 121798: expected 2 fields, saw 3\\nSkipping line 121813: expected 2 fields, saw 3\\nSkipping line 121873: expected 2 fields, saw 4\\nSkipping line 121874: expected 2 fields, saw 3\\nSkipping line 121926: expected 2 fields, saw 3\\nSkipping line 122005: expected 2 fields, saw 5\\nSkipping line 122069: expected 2 fields, saw 3\\nSkipping line 122100: expected 2 fields, saw 4\\nSkipping line 122146: expected 2 fields, saw 3\\nSkipping line 122148: expected 2 fields, saw 4\\nSkipping line 122225: expected 2 fields, saw 3\\nSkipping line 122231: expected 2 fields, saw 3\\nSkipping line 122248: expected 2 fields, saw 3\\nSkipping line 122258: expected 2 fields, saw 3\\nSkipping line 122273: expected 2 fields, saw 4\\nSkipping line 122277: expected 2 fields, saw 3\\nSkipping line 122292: expected 2 fields, saw 3\\nSkipping line 122298: expected 2 fields, saw 10\\nSkipping line 122328: expected 2 fields, saw 3\\nSkipping line 122331: expected 2 fields, saw 3\\nSkipping line 122333: expected 2 fields, saw 4\\nSkipping line 122380: expected 2 fields, saw 3\\nSkipping line 122383: expected 2 fields, saw 3\\nSkipping line 122425: expected 2 fields, saw 3\\nSkipping line 122433: expected 2 fields, saw 3\\nSkipping line 122445: expected 2 fields, saw 11\\nSkipping line 122451: expected 2 fields, saw 3\\nSkipping line 122456: expected 2 fields, saw 4\\nSkipping line 122480: expected 2 fields, saw 4\\nSkipping line 122483: expected 2 fields, saw 4\\nSkipping line 122571: expected 2 fields, saw 3\\nSkipping line 122587: expected 2 fields, saw 3\\nSkipping line 122588: expected 2 fields, saw 5\\nSkipping line 122593: expected 2 fields, saw 3\\nSkipping line 122611: expected 2 fields, saw 4\\nSkipping line 122613: expected 2 fields, saw 3\\nSkipping line 122628: expected 2 fields, saw 3\\nSkipping line 122661: expected 2 fields, saw 3\\nSkipping line 122664: expected 2 fields, saw 4\\nSkipping line 122666: expected 2 fields, saw 3\\nSkipping line 122672: expected 2 fields, saw 3\\nSkipping line 122676: expected 2 fields, saw 3\\nSkipping line 122706: expected 2 fields, saw 3\\nSkipping line 122718: expected 2 fields, saw 3\\nSkipping line 122723: expected 2 fields, saw 3\\nSkipping line 122724: expected 2 fields, saw 3\\nSkipping line 122741: expected 2 fields, saw 3\\nSkipping line 122744: expected 2 fields, saw 3\\nSkipping line 122747: expected 2 fields, saw 6\\nSkipping line 122757: expected 2 fields, saw 3\\nSkipping line 122784: expected 2 fields, saw 4\\nSkipping line 122820: expected 2 fields, saw 4\\nSkipping line 122821: expected 2 fields, saw 5\\nSkipping line 122829: expected 2 fields, saw 4\\nSkipping line 122864: expected 2 fields, saw 3\\nSkipping line 122865: expected 2 fields, saw 4\\nSkipping line 122871: expected 2 fields, saw 3\\nSkipping line 122872: expected 2 fields, saw 4\\nSkipping line 122912: expected 2 fields, saw 6\\nSkipping line 122915: expected 2 fields, saw 6\\nSkipping line 122918: expected 2 fields, saw 5\\nSkipping line 122926: expected 2 fields, saw 3\\nSkipping line 122937: expected 2 fields, saw 3\\nSkipping line 122938: expected 2 fields, saw 3\\nSkipping line 122939: expected 2 fields, saw 3\\nSkipping line 123009: expected 2 fields, saw 3\\nSkipping line 123027: expected 2 fields, saw 15\\nSkipping line 123045: expected 2 fields, saw 3\\nSkipping line 123088: expected 2 fields, saw 3\\nSkipping line 123095: expected 2 fields, saw 3\\nSkipping line 123190: expected 2 fields, saw 5\\nSkipping line 123204: expected 2 fields, saw 3\\nSkipping line 123277: expected 2 fields, saw 3\\nSkipping line 123287: expected 2 fields, saw 3\\nSkipping line 123291: expected 2 fields, saw 3\\nSkipping line 123304: expected 2 fields, saw 3\\nSkipping line 123323: expected 2 fields, saw 3\\nSkipping line 123324: expected 2 fields, saw 4\\nSkipping line 123417: expected 2 fields, saw 3\\nSkipping line 123418: expected 2 fields, saw 3\\nSkipping line 123438: expected 2 fields, saw 3\\nSkipping line 123473: expected 2 fields, saw 3\\nSkipping line 123482: expected 2 fields, saw 3\\nSkipping line 123544: expected 2 fields, saw 3\\nSkipping line 123557: expected 2 fields, saw 4\\nSkipping line 123574: expected 2 fields, saw 3\\nSkipping line 123582: expected 2 fields, saw 8\\nSkipping line 123588: expected 2 fields, saw 3\\nSkipping line 123593: expected 2 fields, saw 3\\nSkipping line 123594: expected 2 fields, saw 3\\nSkipping line 123597: expected 2 fields, saw 3\\nSkipping line 123605: expected 2 fields, saw 3\\nSkipping line 123654: expected 2 fields, saw 3\\nSkipping line 123661: expected 2 fields, saw 3\\nSkipping line 123698: expected 2 fields, saw 4\\nSkipping line 123756: expected 2 fields, saw 4\\nSkipping line 123760: expected 2 fields, saw 3\\nSkipping line 123766: expected 2 fields, saw 3\\nSkipping line 123805: expected 2 fields, saw 5\\nSkipping line 123831: expected 2 fields, saw 3\\nSkipping line 123863: expected 2 fields, saw 3\\nSkipping line 123870: expected 2 fields, saw 3\\nSkipping line 123872: expected 2 fields, saw 3\\nSkipping line 123920: expected 2 fields, saw 3\\nSkipping line 124054: expected 2 fields, saw 4\\nSkipping line 124062: expected 2 fields, saw 3\\nSkipping line 124064: expected 2 fields, saw 4\\nSkipping line 124136: expected 2 fields, saw 3\\nSkipping line 124140: expected 2 fields, saw 3\\nSkipping line 124162: expected 2 fields, saw 10\\nSkipping line 124205: expected 2 fields, saw 4\\nSkipping line 124228: expected 2 fields, saw 4\\nSkipping line 124241: expected 2 fields, saw 5\\nSkipping line 124350: expected 2 fields, saw 3\\nSkipping line 124361: expected 2 fields, saw 3\\nSkipping line 124362: expected 2 fields, saw 5\\nSkipping line 124395: expected 2 fields, saw 5\\nSkipping line 124404: expected 2 fields, saw 4\\nSkipping line 124420: expected 2 fields, saw 3\\nSkipping line 124445: expected 2 fields, saw 3\\nSkipping line 124450: expected 2 fields, saw 3\\nSkipping line 124498: expected 2 fields, saw 3\\nSkipping line 124521: expected 2 fields, saw 5\\nSkipping line 124525: expected 2 fields, saw 3\\nSkipping line 124589: expected 2 fields, saw 3\\nSkipping line 124703: expected 2 fields, saw 3\\nSkipping line 124708: expected 2 fields, saw 3\\nSkipping line 124712: expected 2 fields, saw 4\\nSkipping line 124746: expected 2 fields, saw 3\\nSkipping line 124766: expected 2 fields, saw 3\\nSkipping line 124784: expected 2 fields, saw 3\\nSkipping line 124789: expected 2 fields, saw 3\\nSkipping line 124809: expected 2 fields, saw 4\\nSkipping line 124816: expected 2 fields, saw 3\\nSkipping line 124846: expected 2 fields, saw 3\\nSkipping line 124919: expected 2 fields, saw 3\\nSkipping line 124928: expected 2 fields, saw 3\\nSkipping line 125001: expected 2 fields, saw 3\\nSkipping line 125011: expected 2 fields, saw 3\\nSkipping line 125031: expected 2 fields, saw 3\\nSkipping line 125037: expected 2 fields, saw 4\\nSkipping line 125056: expected 2 fields, saw 3\\nSkipping line 125058: expected 2 fields, saw 3\\nSkipping line 125062: expected 2 fields, saw 3\\nSkipping line 125065: expected 2 fields, saw 3\\nSkipping line 125068: expected 2 fields, saw 3\\nSkipping line 125083: expected 2 fields, saw 3\\nSkipping line 125088: expected 2 fields, saw 3\\nSkipping line 125089: expected 2 fields, saw 3\\nSkipping line 125199: expected 2 fields, saw 3\\nSkipping line 125214: expected 2 fields, saw 3\\nSkipping line 125239: expected 2 fields, saw 3\\nSkipping line 125246: expected 2 fields, saw 3\\nSkipping line 125252: expected 2 fields, saw 3\\nSkipping line 125261: expected 2 fields, saw 3\\nSkipping line 125277: expected 2 fields, saw 3\\nSkipping line 125292: expected 2 fields, saw 3\\nSkipping line 125300: expected 2 fields, saw 4\\nSkipping line 125547: expected 2 fields, saw 3\\nSkipping line 125583: expected 2 fields, saw 3\\nSkipping line 125607: expected 2 fields, saw 3\\nSkipping line 125644: expected 2 fields, saw 3\\nSkipping line 125702: expected 2 fields, saw 3\\nSkipping line 125707: expected 2 fields, saw 3\\nSkipping line 135852: expected 2 fields, saw 3\\nSkipping line 193435: expected 2 fields, saw 3\\nSkipping line 193910: expected 2 fields, saw 3\\nSkipping line 194228: expected 2 fields, saw 3\\nSkipping line 194627: expected 2 fields, saw 3\\nSkipping line 194713: expected 2 fields, saw 3\\nSkipping line 195069: expected 2 fields, saw 3\\nSkipping line 195093: expected 2 fields, saw 3\\nSkipping line 195216: expected 2 fields, saw 3\\nSkipping line 195691: expected 2 fields, saw 3\\nSkipping line 195830: expected 2 fields, saw 3\\nSkipping line 195894: expected 2 fields, saw 3\\nSkipping line 196294: expected 2 fields, saw 3\\nSkipping line 196308: expected 2 fields, saw 3\\nSkipping line 196747: expected 2 fields, saw 3\\nSkipping line 196875: expected 2 fields, saw 3\\nSkipping line 196946: expected 2 fields, saw 3\\nSkipping line 196994: expected 2 fields, saw 3\\nSkipping line 197452: expected 2 fields, saw 3\\n'\n"
          ],
          "name": "stderr"
        },
        {
          "output_type": "stream",
          "text": [
            "Reading /scratch/group/oit_research_data/stanford_congress/hein-bound/speeches_106.txt...\n"
          ],
          "name": "stdout"
        },
        {
          "output_type": "stream",
          "text": [
            "b'Skipping line 57289: expected 2 fields, saw 3\\nSkipping line 60260: expected 2 fields, saw 3\\nSkipping line 128248: expected 2 fields, saw 3\\n'\n"
          ],
          "name": "stderr"
        },
        {
          "output_type": "stream",
          "text": [
            "Reading /scratch/group/oit_research_data/stanford_congress/hein-bound/speeches_107.txt...\n",
            "Reading /scratch/group/oit_research_data/stanford_congress/hein-bound/speeches_108.txt...\n"
          ],
          "name": "stdout"
        },
        {
          "output_type": "stream",
          "text": [
            "b'Skipping line 88571: expected 2 fields, saw 3\\n'\n"
          ],
          "name": "stderr"
        },
        {
          "output_type": "stream",
          "text": [
            "Reading /scratch/group/oit_research_data/stanford_congress/hein-bound/speeches_109.txt...\n",
            "Reading /scratch/group/oit_research_data/stanford_congress/hein-bound/speeches_110.txt...\n"
          ],
          "name": "stdout"
        },
        {
          "output_type": "stream",
          "text": [
            "b'Skipping line 10301: expected 2 fields, saw 3\\nSkipping line 119600: expected 2 fields, saw 3\\nSkipping line 154253: expected 2 fields, saw 3\\nSkipping line 164746: expected 2 fields, saw 3\\nSkipping line 167621: expected 2 fields, saw 3\\nSkipping line 170016: expected 2 fields, saw 3\\n'\n"
          ],
          "name": "stderr"
        },
        {
          "output_type": "stream",
          "text": [
            "Reading /scratch/group/oit_research_data/stanford_congress/hein-bound/speeches_111.txt...\n"
          ],
          "name": "stdout"
        },
        {
          "output_type": "stream",
          "text": [
            "b'Skipping line 55163: expected 2 fields, saw 3\\n'\n"
          ],
          "name": "stderr"
        },
        {
          "output_type": "display_data",
          "data": {
            "text/html": [
              "<div>\n",
              "<style scoped>\n",
              "    .dataframe tbody tr th:only-of-type {\n",
              "        vertical-align: middle;\n",
              "    }\n",
              "\n",
              "    .dataframe tbody tr th {\n",
              "        vertical-align: top;\n",
              "    }\n",
              "\n",
              "    .dataframe thead th {\n",
              "        text-align: right;\n",
              "    }\n",
              "</style>\n",
              "<table border=\"1\" class=\"dataframe\">\n",
              "  <thead>\n",
              "    <tr style=\"text-align: right;\">\n",
              "      <th></th>\n",
              "      <th>speech_id</th>\n",
              "      <th>speech</th>\n",
              "    </tr>\n",
              "  </thead>\n",
              "  <tbody>\n",
              "    <tr>\n",
              "      <th>0</th>\n",
              "      <td>1000000001</td>\n",
              "      <td>Representativeselect to the 100th Congress. th...</td>\n",
              "    </tr>\n",
              "    <tr>\n",
              "      <th>1</th>\n",
              "      <td>1000000002</td>\n",
              "      <td>The Chair would also like to state that Repres...</td>\n",
              "    </tr>\n",
              "    <tr>\n",
              "      <th>2</th>\n",
              "      <td>1000000003</td>\n",
              "      <td>The quor closes that 426 Represe have answered...</td>\n",
              "    </tr>\n",
              "    <tr>\n",
              "      <th>3</th>\n",
              "      <td>1000000004</td>\n",
              "      <td>The Clerk credentials regular in for received ...</td>\n",
              "    </tr>\n",
              "    <tr>\n",
              "      <th>4</th>\n",
              "      <td>1000000005</td>\n",
              "      <td>The next order of business is the election of ...</td>\n",
              "    </tr>\n",
              "    <tr>\n",
              "      <th>...</th>\n",
              "      <td>...</td>\n",
              "      <td>...</td>\n",
              "    </tr>\n",
              "    <tr>\n",
              "      <th>179262</th>\n",
              "      <td>1110179264</td>\n",
              "      <td>Madam Speaker. on rollcall Nos. 662 and 661. I...</td>\n",
              "    </tr>\n",
              "    <tr>\n",
              "      <th>179263</th>\n",
              "      <td>1110179265</td>\n",
              "      <td>Madam Speaker. as I leave Congress as the peop...</td>\n",
              "    </tr>\n",
              "    <tr>\n",
              "      <th>179264</th>\n",
              "      <td>1110179266</td>\n",
              "      <td>Madam Speaker. on rolicall No. 658. I was unav...</td>\n",
              "    </tr>\n",
              "    <tr>\n",
              "      <th>179265</th>\n",
              "      <td>1110179267</td>\n",
              "      <td>Madam Speaker. on rollcall No. 658 my flight w...</td>\n",
              "    </tr>\n",
              "    <tr>\n",
              "      <th>179266</th>\n",
              "      <td>1110179268</td>\n",
              "      <td>Madam Speaker. I wold like to submit the follo...</td>\n",
              "    </tr>\n",
              "  </tbody>\n",
              "</table>\n",
              "<p>2643101 rows × 2 columns</p>\n",
              "</div>"
            ],
            "text/plain": [
              "         speech_id                                             speech\n",
              "0       1000000001  Representativeselect to the 100th Congress. th...\n",
              "1       1000000002  The Chair would also like to state that Repres...\n",
              "2       1000000003  The quor closes that 426 Represe have answered...\n",
              "3       1000000004  The Clerk credentials regular in for received ...\n",
              "4       1000000005  The next order of business is the election of ...\n",
              "...            ...                                                ...\n",
              "179262  1110179264  Madam Speaker. on rollcall Nos. 662 and 661. I...\n",
              "179263  1110179265  Madam Speaker. as I leave Congress as the peop...\n",
              "179264  1110179266  Madam Speaker. on rolicall No. 658. I was unav...\n",
              "179265  1110179267  Madam Speaker. on rollcall No. 658 my flight w...\n",
              "179266  1110179268  Madam Speaker. I wold like to submit the follo...\n",
              "\n",
              "[2643101 rows x 2 columns]"
            ]
          },
          "metadata": {
            "tags": []
          }
        }
      ]
    },
    {
      "cell_type": "code",
      "metadata": {
        "id": "Pu9s948ztOD9",
        "outputId": "8510bb67-17ea-48f2-a438-c052d0a43e02"
      },
      "source": [
        "all_description_files = glob.glob('/scratch/group/oit_research_data/stanford_congress/hein-bound/descr_*.txt')\n",
        "                                  \n",
        "description_files = []\n",
        "\n",
        "for fn in all_description_files:\n",
        "    number = int(fn.rsplit('_', 1)[-1].split('.')[0])\n",
        "    if CONGRESS_MIN_THRESHOLD <= number <= CONGRESS_MAX_THRESHOLD:\n",
        "        speech_files.append(fn)\n",
        "        speech_files.sort()\n",
        "        display(speech_files)\n",
        "        \n",
        "description_df = pd.concat((parse_one(fn) for fn in speech_files))\n",
        "display(description_df)"
      ],
      "execution_count": null,
      "outputs": [
        {
          "output_type": "display_data",
          "data": {
            "text/plain": [
              "['/scratch/group/oit_research_data/stanford_congress/hein-bound/descr_111.txt',\n",
              " '/scratch/group/oit_research_data/stanford_congress/hein-bound/speeches_100.txt',\n",
              " '/scratch/group/oit_research_data/stanford_congress/hein-bound/speeches_101.txt',\n",
              " '/scratch/group/oit_research_data/stanford_congress/hein-bound/speeches_102.txt',\n",
              " '/scratch/group/oit_research_data/stanford_congress/hein-bound/speeches_103.txt',\n",
              " '/scratch/group/oit_research_data/stanford_congress/hein-bound/speeches_104.txt',\n",
              " '/scratch/group/oit_research_data/stanford_congress/hein-bound/speeches_105.txt',\n",
              " '/scratch/group/oit_research_data/stanford_congress/hein-bound/speeches_106.txt',\n",
              " '/scratch/group/oit_research_data/stanford_congress/hein-bound/speeches_107.txt',\n",
              " '/scratch/group/oit_research_data/stanford_congress/hein-bound/speeches_108.txt',\n",
              " '/scratch/group/oit_research_data/stanford_congress/hein-bound/speeches_109.txt',\n",
              " '/scratch/group/oit_research_data/stanford_congress/hein-bound/speeches_110.txt',\n",
              " '/scratch/group/oit_research_data/stanford_congress/hein-bound/speeches_111.txt']"
            ]
          },
          "metadata": {
            "tags": []
          }
        },
        {
          "output_type": "display_data",
          "data": {
            "text/plain": [
              "['/scratch/group/oit_research_data/stanford_congress/hein-bound/descr_109.txt',\n",
              " '/scratch/group/oit_research_data/stanford_congress/hein-bound/descr_111.txt',\n",
              " '/scratch/group/oit_research_data/stanford_congress/hein-bound/speeches_100.txt',\n",
              " '/scratch/group/oit_research_data/stanford_congress/hein-bound/speeches_101.txt',\n",
              " '/scratch/group/oit_research_data/stanford_congress/hein-bound/speeches_102.txt',\n",
              " '/scratch/group/oit_research_data/stanford_congress/hein-bound/speeches_103.txt',\n",
              " '/scratch/group/oit_research_data/stanford_congress/hein-bound/speeches_104.txt',\n",
              " '/scratch/group/oit_research_data/stanford_congress/hein-bound/speeches_105.txt',\n",
              " '/scratch/group/oit_research_data/stanford_congress/hein-bound/speeches_106.txt',\n",
              " '/scratch/group/oit_research_data/stanford_congress/hein-bound/speeches_107.txt',\n",
              " '/scratch/group/oit_research_data/stanford_congress/hein-bound/speeches_108.txt',\n",
              " '/scratch/group/oit_research_data/stanford_congress/hein-bound/speeches_109.txt',\n",
              " '/scratch/group/oit_research_data/stanford_congress/hein-bound/speeches_110.txt',\n",
              " '/scratch/group/oit_research_data/stanford_congress/hein-bound/speeches_111.txt']"
            ]
          },
          "metadata": {
            "tags": []
          }
        },
        {
          "output_type": "display_data",
          "data": {
            "text/plain": [
              "['/scratch/group/oit_research_data/stanford_congress/hein-bound/descr_107.txt',\n",
              " '/scratch/group/oit_research_data/stanford_congress/hein-bound/descr_109.txt',\n",
              " '/scratch/group/oit_research_data/stanford_congress/hein-bound/descr_111.txt',\n",
              " '/scratch/group/oit_research_data/stanford_congress/hein-bound/speeches_100.txt',\n",
              " '/scratch/group/oit_research_data/stanford_congress/hein-bound/speeches_101.txt',\n",
              " '/scratch/group/oit_research_data/stanford_congress/hein-bound/speeches_102.txt',\n",
              " '/scratch/group/oit_research_data/stanford_congress/hein-bound/speeches_103.txt',\n",
              " '/scratch/group/oit_research_data/stanford_congress/hein-bound/speeches_104.txt',\n",
              " '/scratch/group/oit_research_data/stanford_congress/hein-bound/speeches_105.txt',\n",
              " '/scratch/group/oit_research_data/stanford_congress/hein-bound/speeches_106.txt',\n",
              " '/scratch/group/oit_research_data/stanford_congress/hein-bound/speeches_107.txt',\n",
              " '/scratch/group/oit_research_data/stanford_congress/hein-bound/speeches_108.txt',\n",
              " '/scratch/group/oit_research_data/stanford_congress/hein-bound/speeches_109.txt',\n",
              " '/scratch/group/oit_research_data/stanford_congress/hein-bound/speeches_110.txt',\n",
              " '/scratch/group/oit_research_data/stanford_congress/hein-bound/speeches_111.txt']"
            ]
          },
          "metadata": {
            "tags": []
          }
        },
        {
          "output_type": "display_data",
          "data": {
            "text/plain": [
              "['/scratch/group/oit_research_data/stanford_congress/hein-bound/descr_100.txt',\n",
              " '/scratch/group/oit_research_data/stanford_congress/hein-bound/descr_107.txt',\n",
              " '/scratch/group/oit_research_data/stanford_congress/hein-bound/descr_109.txt',\n",
              " '/scratch/group/oit_research_data/stanford_congress/hein-bound/descr_111.txt',\n",
              " '/scratch/group/oit_research_data/stanford_congress/hein-bound/speeches_100.txt',\n",
              " '/scratch/group/oit_research_data/stanford_congress/hein-bound/speeches_101.txt',\n",
              " '/scratch/group/oit_research_data/stanford_congress/hein-bound/speeches_102.txt',\n",
              " '/scratch/group/oit_research_data/stanford_congress/hein-bound/speeches_103.txt',\n",
              " '/scratch/group/oit_research_data/stanford_congress/hein-bound/speeches_104.txt',\n",
              " '/scratch/group/oit_research_data/stanford_congress/hein-bound/speeches_105.txt',\n",
              " '/scratch/group/oit_research_data/stanford_congress/hein-bound/speeches_106.txt',\n",
              " '/scratch/group/oit_research_data/stanford_congress/hein-bound/speeches_107.txt',\n",
              " '/scratch/group/oit_research_data/stanford_congress/hein-bound/speeches_108.txt',\n",
              " '/scratch/group/oit_research_data/stanford_congress/hein-bound/speeches_109.txt',\n",
              " '/scratch/group/oit_research_data/stanford_congress/hein-bound/speeches_110.txt',\n",
              " '/scratch/group/oit_research_data/stanford_congress/hein-bound/speeches_111.txt']"
            ]
          },
          "metadata": {
            "tags": []
          }
        },
        {
          "output_type": "display_data",
          "data": {
            "text/plain": [
              "['/scratch/group/oit_research_data/stanford_congress/hein-bound/descr_100.txt',\n",
              " '/scratch/group/oit_research_data/stanford_congress/hein-bound/descr_107.txt',\n",
              " '/scratch/group/oit_research_data/stanford_congress/hein-bound/descr_109.txt',\n",
              " '/scratch/group/oit_research_data/stanford_congress/hein-bound/descr_110.txt',\n",
              " '/scratch/group/oit_research_data/stanford_congress/hein-bound/descr_111.txt',\n",
              " '/scratch/group/oit_research_data/stanford_congress/hein-bound/speeches_100.txt',\n",
              " '/scratch/group/oit_research_data/stanford_congress/hein-bound/speeches_101.txt',\n",
              " '/scratch/group/oit_research_data/stanford_congress/hein-bound/speeches_102.txt',\n",
              " '/scratch/group/oit_research_data/stanford_congress/hein-bound/speeches_103.txt',\n",
              " '/scratch/group/oit_research_data/stanford_congress/hein-bound/speeches_104.txt',\n",
              " '/scratch/group/oit_research_data/stanford_congress/hein-bound/speeches_105.txt',\n",
              " '/scratch/group/oit_research_data/stanford_congress/hein-bound/speeches_106.txt',\n",
              " '/scratch/group/oit_research_data/stanford_congress/hein-bound/speeches_107.txt',\n",
              " '/scratch/group/oit_research_data/stanford_congress/hein-bound/speeches_108.txt',\n",
              " '/scratch/group/oit_research_data/stanford_congress/hein-bound/speeches_109.txt',\n",
              " '/scratch/group/oit_research_data/stanford_congress/hein-bound/speeches_110.txt',\n",
              " '/scratch/group/oit_research_data/stanford_congress/hein-bound/speeches_111.txt']"
            ]
          },
          "metadata": {
            "tags": []
          }
        },
        {
          "output_type": "display_data",
          "data": {
            "text/plain": [
              "['/scratch/group/oit_research_data/stanford_congress/hein-bound/descr_100.txt',\n",
              " '/scratch/group/oit_research_data/stanford_congress/hein-bound/descr_101.txt',\n",
              " '/scratch/group/oit_research_data/stanford_congress/hein-bound/descr_107.txt',\n",
              " '/scratch/group/oit_research_data/stanford_congress/hein-bound/descr_109.txt',\n",
              " '/scratch/group/oit_research_data/stanford_congress/hein-bound/descr_110.txt',\n",
              " '/scratch/group/oit_research_data/stanford_congress/hein-bound/descr_111.txt',\n",
              " '/scratch/group/oit_research_data/stanford_congress/hein-bound/speeches_100.txt',\n",
              " '/scratch/group/oit_research_data/stanford_congress/hein-bound/speeches_101.txt',\n",
              " '/scratch/group/oit_research_data/stanford_congress/hein-bound/speeches_102.txt',\n",
              " '/scratch/group/oit_research_data/stanford_congress/hein-bound/speeches_103.txt',\n",
              " '/scratch/group/oit_research_data/stanford_congress/hein-bound/speeches_104.txt',\n",
              " '/scratch/group/oit_research_data/stanford_congress/hein-bound/speeches_105.txt',\n",
              " '/scratch/group/oit_research_data/stanford_congress/hein-bound/speeches_106.txt',\n",
              " '/scratch/group/oit_research_data/stanford_congress/hein-bound/speeches_107.txt',\n",
              " '/scratch/group/oit_research_data/stanford_congress/hein-bound/speeches_108.txt',\n",
              " '/scratch/group/oit_research_data/stanford_congress/hein-bound/speeches_109.txt',\n",
              " '/scratch/group/oit_research_data/stanford_congress/hein-bound/speeches_110.txt',\n",
              " '/scratch/group/oit_research_data/stanford_congress/hein-bound/speeches_111.txt']"
            ]
          },
          "metadata": {
            "tags": []
          }
        },
        {
          "output_type": "display_data",
          "data": {
            "text/plain": [
              "['/scratch/group/oit_research_data/stanford_congress/hein-bound/descr_100.txt',\n",
              " '/scratch/group/oit_research_data/stanford_congress/hein-bound/descr_101.txt',\n",
              " '/scratch/group/oit_research_data/stanford_congress/hein-bound/descr_106.txt',\n",
              " '/scratch/group/oit_research_data/stanford_congress/hein-bound/descr_107.txt',\n",
              " '/scratch/group/oit_research_data/stanford_congress/hein-bound/descr_109.txt',\n",
              " '/scratch/group/oit_research_data/stanford_congress/hein-bound/descr_110.txt',\n",
              " '/scratch/group/oit_research_data/stanford_congress/hein-bound/descr_111.txt',\n",
              " '/scratch/group/oit_research_data/stanford_congress/hein-bound/speeches_100.txt',\n",
              " '/scratch/group/oit_research_data/stanford_congress/hein-bound/speeches_101.txt',\n",
              " '/scratch/group/oit_research_data/stanford_congress/hein-bound/speeches_102.txt',\n",
              " '/scratch/group/oit_research_data/stanford_congress/hein-bound/speeches_103.txt',\n",
              " '/scratch/group/oit_research_data/stanford_congress/hein-bound/speeches_104.txt',\n",
              " '/scratch/group/oit_research_data/stanford_congress/hein-bound/speeches_105.txt',\n",
              " '/scratch/group/oit_research_data/stanford_congress/hein-bound/speeches_106.txt',\n",
              " '/scratch/group/oit_research_data/stanford_congress/hein-bound/speeches_107.txt',\n",
              " '/scratch/group/oit_research_data/stanford_congress/hein-bound/speeches_108.txt',\n",
              " '/scratch/group/oit_research_data/stanford_congress/hein-bound/speeches_109.txt',\n",
              " '/scratch/group/oit_research_data/stanford_congress/hein-bound/speeches_110.txt',\n",
              " '/scratch/group/oit_research_data/stanford_congress/hein-bound/speeches_111.txt']"
            ]
          },
          "metadata": {
            "tags": []
          }
        },
        {
          "output_type": "display_data",
          "data": {
            "text/plain": [
              "['/scratch/group/oit_research_data/stanford_congress/hein-bound/descr_100.txt',\n",
              " '/scratch/group/oit_research_data/stanford_congress/hein-bound/descr_101.txt',\n",
              " '/scratch/group/oit_research_data/stanford_congress/hein-bound/descr_106.txt',\n",
              " '/scratch/group/oit_research_data/stanford_congress/hein-bound/descr_107.txt',\n",
              " '/scratch/group/oit_research_data/stanford_congress/hein-bound/descr_108.txt',\n",
              " '/scratch/group/oit_research_data/stanford_congress/hein-bound/descr_109.txt',\n",
              " '/scratch/group/oit_research_data/stanford_congress/hein-bound/descr_110.txt',\n",
              " '/scratch/group/oit_research_data/stanford_congress/hein-bound/descr_111.txt',\n",
              " '/scratch/group/oit_research_data/stanford_congress/hein-bound/speeches_100.txt',\n",
              " '/scratch/group/oit_research_data/stanford_congress/hein-bound/speeches_101.txt',\n",
              " '/scratch/group/oit_research_data/stanford_congress/hein-bound/speeches_102.txt',\n",
              " '/scratch/group/oit_research_data/stanford_congress/hein-bound/speeches_103.txt',\n",
              " '/scratch/group/oit_research_data/stanford_congress/hein-bound/speeches_104.txt',\n",
              " '/scratch/group/oit_research_data/stanford_congress/hein-bound/speeches_105.txt',\n",
              " '/scratch/group/oit_research_data/stanford_congress/hein-bound/speeches_106.txt',\n",
              " '/scratch/group/oit_research_data/stanford_congress/hein-bound/speeches_107.txt',\n",
              " '/scratch/group/oit_research_data/stanford_congress/hein-bound/speeches_108.txt',\n",
              " '/scratch/group/oit_research_data/stanford_congress/hein-bound/speeches_109.txt',\n",
              " '/scratch/group/oit_research_data/stanford_congress/hein-bound/speeches_110.txt',\n",
              " '/scratch/group/oit_research_data/stanford_congress/hein-bound/speeches_111.txt']"
            ]
          },
          "metadata": {
            "tags": []
          }
        },
        {
          "output_type": "display_data",
          "data": {
            "text/plain": [
              "['/scratch/group/oit_research_data/stanford_congress/hein-bound/descr_100.txt',\n",
              " '/scratch/group/oit_research_data/stanford_congress/hein-bound/descr_101.txt',\n",
              " '/scratch/group/oit_research_data/stanford_congress/hein-bound/descr_105.txt',\n",
              " '/scratch/group/oit_research_data/stanford_congress/hein-bound/descr_106.txt',\n",
              " '/scratch/group/oit_research_data/stanford_congress/hein-bound/descr_107.txt',\n",
              " '/scratch/group/oit_research_data/stanford_congress/hein-bound/descr_108.txt',\n",
              " '/scratch/group/oit_research_data/stanford_congress/hein-bound/descr_109.txt',\n",
              " '/scratch/group/oit_research_data/stanford_congress/hein-bound/descr_110.txt',\n",
              " '/scratch/group/oit_research_data/stanford_congress/hein-bound/descr_111.txt',\n",
              " '/scratch/group/oit_research_data/stanford_congress/hein-bound/speeches_100.txt',\n",
              " '/scratch/group/oit_research_data/stanford_congress/hein-bound/speeches_101.txt',\n",
              " '/scratch/group/oit_research_data/stanford_congress/hein-bound/speeches_102.txt',\n",
              " '/scratch/group/oit_research_data/stanford_congress/hein-bound/speeches_103.txt',\n",
              " '/scratch/group/oit_research_data/stanford_congress/hein-bound/speeches_104.txt',\n",
              " '/scratch/group/oit_research_data/stanford_congress/hein-bound/speeches_105.txt',\n",
              " '/scratch/group/oit_research_data/stanford_congress/hein-bound/speeches_106.txt',\n",
              " '/scratch/group/oit_research_data/stanford_congress/hein-bound/speeches_107.txt',\n",
              " '/scratch/group/oit_research_data/stanford_congress/hein-bound/speeches_108.txt',\n",
              " '/scratch/group/oit_research_data/stanford_congress/hein-bound/speeches_109.txt',\n",
              " '/scratch/group/oit_research_data/stanford_congress/hein-bound/speeches_110.txt',\n",
              " '/scratch/group/oit_research_data/stanford_congress/hein-bound/speeches_111.txt']"
            ]
          },
          "metadata": {
            "tags": []
          }
        },
        {
          "output_type": "display_data",
          "data": {
            "text/plain": [
              "['/scratch/group/oit_research_data/stanford_congress/hein-bound/descr_100.txt',\n",
              " '/scratch/group/oit_research_data/stanford_congress/hein-bound/descr_101.txt',\n",
              " '/scratch/group/oit_research_data/stanford_congress/hein-bound/descr_102.txt',\n",
              " '/scratch/group/oit_research_data/stanford_congress/hein-bound/descr_105.txt',\n",
              " '/scratch/group/oit_research_data/stanford_congress/hein-bound/descr_106.txt',\n",
              " '/scratch/group/oit_research_data/stanford_congress/hein-bound/descr_107.txt',\n",
              " '/scratch/group/oit_research_data/stanford_congress/hein-bound/descr_108.txt',\n",
              " '/scratch/group/oit_research_data/stanford_congress/hein-bound/descr_109.txt',\n",
              " '/scratch/group/oit_research_data/stanford_congress/hein-bound/descr_110.txt',\n",
              " '/scratch/group/oit_research_data/stanford_congress/hein-bound/descr_111.txt',\n",
              " '/scratch/group/oit_research_data/stanford_congress/hein-bound/speeches_100.txt',\n",
              " '/scratch/group/oit_research_data/stanford_congress/hein-bound/speeches_101.txt',\n",
              " '/scratch/group/oit_research_data/stanford_congress/hein-bound/speeches_102.txt',\n",
              " '/scratch/group/oit_research_data/stanford_congress/hein-bound/speeches_103.txt',\n",
              " '/scratch/group/oit_research_data/stanford_congress/hein-bound/speeches_104.txt',\n",
              " '/scratch/group/oit_research_data/stanford_congress/hein-bound/speeches_105.txt',\n",
              " '/scratch/group/oit_research_data/stanford_congress/hein-bound/speeches_106.txt',\n",
              " '/scratch/group/oit_research_data/stanford_congress/hein-bound/speeches_107.txt',\n",
              " '/scratch/group/oit_research_data/stanford_congress/hein-bound/speeches_108.txt',\n",
              " '/scratch/group/oit_research_data/stanford_congress/hein-bound/speeches_109.txt',\n",
              " '/scratch/group/oit_research_data/stanford_congress/hein-bound/speeches_110.txt',\n",
              " '/scratch/group/oit_research_data/stanford_congress/hein-bound/speeches_111.txt']"
            ]
          },
          "metadata": {
            "tags": []
          }
        },
        {
          "output_type": "display_data",
          "data": {
            "text/plain": [
              "['/scratch/group/oit_research_data/stanford_congress/hein-bound/descr_100.txt',\n",
              " '/scratch/group/oit_research_data/stanford_congress/hein-bound/descr_101.txt',\n",
              " '/scratch/group/oit_research_data/stanford_congress/hein-bound/descr_102.txt',\n",
              " '/scratch/group/oit_research_data/stanford_congress/hein-bound/descr_103.txt',\n",
              " '/scratch/group/oit_research_data/stanford_congress/hein-bound/descr_105.txt',\n",
              " '/scratch/group/oit_research_data/stanford_congress/hein-bound/descr_106.txt',\n",
              " '/scratch/group/oit_research_data/stanford_congress/hein-bound/descr_107.txt',\n",
              " '/scratch/group/oit_research_data/stanford_congress/hein-bound/descr_108.txt',\n",
              " '/scratch/group/oit_research_data/stanford_congress/hein-bound/descr_109.txt',\n",
              " '/scratch/group/oit_research_data/stanford_congress/hein-bound/descr_110.txt',\n",
              " '/scratch/group/oit_research_data/stanford_congress/hein-bound/descr_111.txt',\n",
              " '/scratch/group/oit_research_data/stanford_congress/hein-bound/speeches_100.txt',\n",
              " '/scratch/group/oit_research_data/stanford_congress/hein-bound/speeches_101.txt',\n",
              " '/scratch/group/oit_research_data/stanford_congress/hein-bound/speeches_102.txt',\n",
              " '/scratch/group/oit_research_data/stanford_congress/hein-bound/speeches_103.txt',\n",
              " '/scratch/group/oit_research_data/stanford_congress/hein-bound/speeches_104.txt',\n",
              " '/scratch/group/oit_research_data/stanford_congress/hein-bound/speeches_105.txt',\n",
              " '/scratch/group/oit_research_data/stanford_congress/hein-bound/speeches_106.txt',\n",
              " '/scratch/group/oit_research_data/stanford_congress/hein-bound/speeches_107.txt',\n",
              " '/scratch/group/oit_research_data/stanford_congress/hein-bound/speeches_108.txt',\n",
              " '/scratch/group/oit_research_data/stanford_congress/hein-bound/speeches_109.txt',\n",
              " '/scratch/group/oit_research_data/stanford_congress/hein-bound/speeches_110.txt',\n",
              " '/scratch/group/oit_research_data/stanford_congress/hein-bound/speeches_111.txt']"
            ]
          },
          "metadata": {
            "tags": []
          }
        },
        {
          "output_type": "display_data",
          "data": {
            "text/plain": [
              "['/scratch/group/oit_research_data/stanford_congress/hein-bound/descr_100.txt',\n",
              " '/scratch/group/oit_research_data/stanford_congress/hein-bound/descr_101.txt',\n",
              " '/scratch/group/oit_research_data/stanford_congress/hein-bound/descr_102.txt',\n",
              " '/scratch/group/oit_research_data/stanford_congress/hein-bound/descr_103.txt',\n",
              " '/scratch/group/oit_research_data/stanford_congress/hein-bound/descr_104.txt',\n",
              " '/scratch/group/oit_research_data/stanford_congress/hein-bound/descr_105.txt',\n",
              " '/scratch/group/oit_research_data/stanford_congress/hein-bound/descr_106.txt',\n",
              " '/scratch/group/oit_research_data/stanford_congress/hein-bound/descr_107.txt',\n",
              " '/scratch/group/oit_research_data/stanford_congress/hein-bound/descr_108.txt',\n",
              " '/scratch/group/oit_research_data/stanford_congress/hein-bound/descr_109.txt',\n",
              " '/scratch/group/oit_research_data/stanford_congress/hein-bound/descr_110.txt',\n",
              " '/scratch/group/oit_research_data/stanford_congress/hein-bound/descr_111.txt',\n",
              " '/scratch/group/oit_research_data/stanford_congress/hein-bound/speeches_100.txt',\n",
              " '/scratch/group/oit_research_data/stanford_congress/hein-bound/speeches_101.txt',\n",
              " '/scratch/group/oit_research_data/stanford_congress/hein-bound/speeches_102.txt',\n",
              " '/scratch/group/oit_research_data/stanford_congress/hein-bound/speeches_103.txt',\n",
              " '/scratch/group/oit_research_data/stanford_congress/hein-bound/speeches_104.txt',\n",
              " '/scratch/group/oit_research_data/stanford_congress/hein-bound/speeches_105.txt',\n",
              " '/scratch/group/oit_research_data/stanford_congress/hein-bound/speeches_106.txt',\n",
              " '/scratch/group/oit_research_data/stanford_congress/hein-bound/speeches_107.txt',\n",
              " '/scratch/group/oit_research_data/stanford_congress/hein-bound/speeches_108.txt',\n",
              " '/scratch/group/oit_research_data/stanford_congress/hein-bound/speeches_109.txt',\n",
              " '/scratch/group/oit_research_data/stanford_congress/hein-bound/speeches_110.txt',\n",
              " '/scratch/group/oit_research_data/stanford_congress/hein-bound/speeches_111.txt']"
            ]
          },
          "metadata": {
            "tags": []
          }
        },
        {
          "output_type": "stream",
          "text": [
            "Reading /scratch/group/oit_research_data/stanford_congress/hein-bound/descr_100.txt...\n",
            "Reading /scratch/group/oit_research_data/stanford_congress/hein-bound/descr_101.txt...\n",
            "Reading /scratch/group/oit_research_data/stanford_congress/hein-bound/descr_102.txt...\n",
            "Reading /scratch/group/oit_research_data/stanford_congress/hein-bound/descr_103.txt...\n",
            "Reading /scratch/group/oit_research_data/stanford_congress/hein-bound/descr_104.txt...\n",
            "Reading /scratch/group/oit_research_data/stanford_congress/hein-bound/descr_105.txt...\n",
            "Reading /scratch/group/oit_research_data/stanford_congress/hein-bound/descr_106.txt...\n",
            "Reading /scratch/group/oit_research_data/stanford_congress/hein-bound/descr_107.txt...\n",
            "Reading /scratch/group/oit_research_data/stanford_congress/hein-bound/descr_108.txt...\n",
            "Reading /scratch/group/oit_research_data/stanford_congress/hein-bound/descr_109.txt...\n",
            "Reading /scratch/group/oit_research_data/stanford_congress/hein-bound/descr_110.txt...\n",
            "Reading /scratch/group/oit_research_data/stanford_congress/hein-bound/descr_111.txt...\n",
            "Reading /scratch/group/oit_research_data/stanford_congress/hein-bound/speeches_100.txt...\n"
          ],
          "name": "stdout"
        },
        {
          "output_type": "stream",
          "text": [
            "b'Skipping line 31528: expected 2 fields, saw 3\\nSkipping line 37946: expected 2 fields, saw 3\\nSkipping line 188164: expected 2 fields, saw 3\\nSkipping line 232184: expected 2 fields, saw 3\\n'\n",
            "b'Skipping line 274343: expected 2 fields, saw 5\\n'\n"
          ],
          "name": "stderr"
        },
        {
          "output_type": "stream",
          "text": [
            "Reading /scratch/group/oit_research_data/stanford_congress/hein-bound/speeches_101.txt...\n"
          ],
          "name": "stdout"
        },
        {
          "output_type": "stream",
          "text": [
            "b'Skipping line 3868: expected 2 fields, saw 3\\nSkipping line 4170: expected 2 fields, saw 3\\nSkipping line 24283: expected 2 fields, saw 3\\nSkipping line 35613: expected 2 fields, saw 3\\nSkipping line 35704: expected 2 fields, saw 3\\nSkipping line 57443: expected 2 fields, saw 3\\nSkipping line 95845: expected 2 fields, saw 3\\nSkipping line 147639: expected 2 fields, saw 3\\nSkipping line 203930: expected 2 fields, saw 3\\nSkipping line 205059: expected 2 fields, saw 3\\n'\n"
          ],
          "name": "stderr"
        },
        {
          "output_type": "stream",
          "text": [
            "Reading /scratch/group/oit_research_data/stanford_congress/hein-bound/speeches_102.txt...\n"
          ],
          "name": "stdout"
        },
        {
          "output_type": "stream",
          "text": [
            "b'Skipping line 24820: expected 2 fields, saw 3\\nSkipping line 26339: expected 2 fields, saw 3\\nSkipping line 73177: expected 2 fields, saw 3\\nSkipping line 76342: expected 2 fields, saw 3\\nSkipping line 128313: expected 2 fields, saw 3\\nSkipping line 128705: expected 2 fields, saw 3\\nSkipping line 139864: expected 2 fields, saw 3\\nSkipping line 151770: expected 2 fields, saw 3\\nSkipping line 158265: expected 2 fields, saw 3\\nSkipping line 179429: expected 2 fields, saw 4\\nSkipping line 179956: expected 2 fields, saw 3\\nSkipping line 180140: expected 2 fields, saw 3\\nSkipping line 180498: expected 2 fields, saw 3\\nSkipping line 180706: expected 2 fields, saw 3\\nSkipping line 181071: expected 2 fields, saw 3\\nSkipping line 181077: expected 2 fields, saw 3\\nSkipping line 181570: expected 2 fields, saw 3\\nSkipping line 182753: expected 2 fields, saw 3\\nSkipping line 196608: expected 2 fields, saw 3\\nSkipping line 202342: expected 2 fields, saw 3\\nSkipping line 218154: expected 2 fields, saw 3\\nSkipping line 228959: expected 2 fields, saw 3\\nSkipping line 231779: expected 2 fields, saw 3\\nSkipping line 238176: expected 2 fields, saw 3\\n'\n"
          ],
          "name": "stderr"
        },
        {
          "output_type": "stream",
          "text": [
            "Reading /scratch/group/oit_research_data/stanford_congress/hein-bound/speeches_103.txt...\n"
          ],
          "name": "stdout"
        },
        {
          "output_type": "stream",
          "text": [
            "b'Skipping line 9074: expected 2 fields, saw 3\\nSkipping line 9527: expected 2 fields, saw 3\\nSkipping line 14411: expected 2 fields, saw 3\\nSkipping line 14448: expected 2 fields, saw 4\\nSkipping line 14489: expected 2 fields, saw 5\\nSkipping line 14597: expected 2 fields, saw 3\\nSkipping line 14613: expected 2 fields, saw 3\\nSkipping line 14707: expected 2 fields, saw 3\\nSkipping line 14761: expected 2 fields, saw 4\\nSkipping line 14776: expected 2 fields, saw 3\\nSkipping line 14790: expected 2 fields, saw 3\\nSkipping line 14832: expected 2 fields, saw 3\\nSkipping line 14908: expected 2 fields, saw 3\\nSkipping line 14968: expected 2 fields, saw 3\\nSkipping line 15014: expected 2 fields, saw 3\\nSkipping line 33022: expected 2 fields, saw 3\\nSkipping line 34717: expected 2 fields, saw 4\\nSkipping line 52845: expected 2 fields, saw 3\\nSkipping line 74571: expected 2 fields, saw 5\\nSkipping line 81916: expected 2 fields, saw 3\\nSkipping line 96604: expected 2 fields, saw 3\\nSkipping line 115847: expected 2 fields, saw 3\\nSkipping line 120120: expected 2 fields, saw 3\\nSkipping line 121348: expected 2 fields, saw 3\\nSkipping line 122566: expected 2 fields, saw 3\\nSkipping line 123936: expected 2 fields, saw 4\\nSkipping line 123939: expected 2 fields, saw 3\\nSkipping line 123941: expected 2 fields, saw 3\\nSkipping line 123953: expected 2 fields, saw 3\\nSkipping line 123958: expected 2 fields, saw 3\\nSkipping line 129771: expected 2 fields, saw 3\\nSkipping line 138246: expected 2 fields, saw 3\\nSkipping line 146986: expected 2 fields, saw 3\\nSkipping line 152584: expected 2 fields, saw 4\\nSkipping line 154930: expected 2 fields, saw 5\\nSkipping line 169430: expected 2 fields, saw 3\\nSkipping line 182278: expected 2 fields, saw 3\\nSkipping line 182901: expected 2 fields, saw 3\\nSkipping line 183361: expected 2 fields, saw 3\\nSkipping line 185403: expected 2 fields, saw 3\\nSkipping line 185861: expected 2 fields, saw 3\\nSkipping line 186612: expected 2 fields, saw 3\\nSkipping line 188037: expected 2 fields, saw 3\\nSkipping line 198077: expected 2 fields, saw 3\\nSkipping line 219792: expected 2 fields, saw 3\\nSkipping line 220181: expected 2 fields, saw 4\\nSkipping line 228919: expected 2 fields, saw 3\\nSkipping line 231735: expected 2 fields, saw 3\\nSkipping line 233657: expected 2 fields, saw 3\\nSkipping line 234080: expected 2 fields, saw 3\\nSkipping line 234469: expected 2 fields, saw 3\\n'\n"
          ],
          "name": "stderr"
        },
        {
          "output_type": "stream",
          "text": [
            "Reading /scratch/group/oit_research_data/stanford_congress/hein-bound/speeches_104.txt...\n"
          ],
          "name": "stdout"
        },
        {
          "output_type": "stream",
          "text": [
            "b'Skipping line 897: expected 2 fields, saw 3\\nSkipping line 974: expected 2 fields, saw 5\\nSkipping line 6487: expected 2 fields, saw 3\\nSkipping line 8299: expected 2 fields, saw 3\\nSkipping line 10159: expected 2 fields, saw 3\\nSkipping line 11440: expected 2 fields, saw 3\\nSkipping line 22453: expected 2 fields, saw 3\\nSkipping line 32193: expected 2 fields, saw 3\\nSkipping line 33909: expected 2 fields, saw 3\\nSkipping line 38214: expected 2 fields, saw 3\\nSkipping line 60085: expected 2 fields, saw 3\\nSkipping line 60561: expected 2 fields, saw 3\\nSkipping line 60770: expected 2 fields, saw 3\\nSkipping line 69949: expected 2 fields, saw 3\\nSkipping line 80628: expected 2 fields, saw 3\\nSkipping line 92552: expected 2 fields, saw 3\\nSkipping line 100552: expected 2 fields, saw 3\\nSkipping line 110683: expected 2 fields, saw 3\\nSkipping line 114532: expected 2 fields, saw 3\\nSkipping line 115534: expected 2 fields, saw 3\\nSkipping line 142076: expected 2 fields, saw 3\\nSkipping line 146227: expected 2 fields, saw 3\\nSkipping line 148998: expected 2 fields, saw 3\\nSkipping line 153870: expected 2 fields, saw 3\\nSkipping line 160421: expected 2 fields, saw 3\\nSkipping line 166120: expected 2 fields, saw 3\\nSkipping line 166193: expected 2 fields, saw 3\\nSkipping line 171720: expected 2 fields, saw 3\\nSkipping line 177121: expected 2 fields, saw 4\\nSkipping line 183308: expected 2 fields, saw 3\\nSkipping line 185954: expected 2 fields, saw 3\\nSkipping line 198525: expected 2 fields, saw 3\\nSkipping line 261211: expected 2 fields, saw 3\\n'\n"
          ],
          "name": "stderr"
        },
        {
          "output_type": "stream",
          "text": [
            "Reading /scratch/group/oit_research_data/stanford_congress/hein-bound/speeches_105.txt...\n"
          ],
          "name": "stdout"
        },
        {
          "output_type": "stream",
          "text": [
            "b'Skipping line 11900: expected 2 fields, saw 3\\nSkipping line 19254: expected 2 fields, saw 3\\nSkipping line 19485: expected 2 fields, saw 3\\nSkipping line 20125: expected 2 fields, saw 3\\nSkipping line 21268: expected 2 fields, saw 3\\nSkipping line 22339: expected 2 fields, saw 3\\nSkipping line 22469: expected 2 fields, saw 3\\nSkipping line 22696: expected 2 fields, saw 3\\nSkipping line 25549: expected 2 fields, saw 3\\nSkipping line 25966: expected 2 fields, saw 3\\nSkipping line 26524: expected 2 fields, saw 3\\nSkipping line 27100: expected 2 fields, saw 3\\nSkipping line 27718: expected 2 fields, saw 3\\nSkipping line 28618: expected 2 fields, saw 3\\nSkipping line 29339: expected 2 fields, saw 3\\nSkipping line 29352: expected 2 fields, saw 3\\nSkipping line 29453: expected 2 fields, saw 3\\nSkipping line 29982: expected 2 fields, saw 3\\nSkipping line 30021: expected 2 fields, saw 3\\nSkipping line 30399: expected 2 fields, saw 4\\nSkipping line 30574: expected 2 fields, saw 3\\nSkipping line 31504: expected 2 fields, saw 3\\nSkipping line 76226: expected 2 fields, saw 3\\nSkipping line 90898: expected 2 fields, saw 3\\nSkipping line 118937: expected 2 fields, saw 3\\nSkipping line 118941: expected 2 fields, saw 4\\nSkipping line 118982: expected 2 fields, saw 4\\nSkipping line 118983: expected 2 fields, saw 3\\nSkipping line 118985: expected 2 fields, saw 3\\nSkipping line 118991: expected 2 fields, saw 26\\nSkipping line 118996: expected 2 fields, saw 3\\nSkipping line 119015: expected 2 fields, saw 3\\nSkipping line 119016: expected 2 fields, saw 3\\nSkipping line 119058: expected 2 fields, saw 3\\nSkipping line 119059: expected 2 fields, saw 3\\nSkipping line 119089: expected 2 fields, saw 3\\nSkipping line 119090: expected 2 fields, saw 4\\nSkipping line 119098: expected 2 fields, saw 3\\nSkipping line 119105: expected 2 fields, saw 3\\nSkipping line 119160: expected 2 fields, saw 3\\nSkipping line 119185: expected 2 fields, saw 3\\nSkipping line 119188: expected 2 fields, saw 3\\nSkipping line 119196: expected 2 fields, saw 3\\nSkipping line 119204: expected 2 fields, saw 3\\nSkipping line 119207: expected 2 fields, saw 3\\nSkipping line 119268: expected 2 fields, saw 3\\nSkipping line 119386: expected 2 fields, saw 3\\nSkipping line 119526: expected 2 fields, saw 3\\nSkipping line 119528: expected 2 fields, saw 3\\nSkipping line 119705: expected 2 fields, saw 3\\nSkipping line 119820: expected 2 fields, saw 3\\nSkipping line 119866: expected 2 fields, saw 3\\nSkipping line 119972: expected 2 fields, saw 3\\nSkipping line 120009: expected 2 fields, saw 3\\nSkipping line 120143: expected 2 fields, saw 3\\nSkipping line 120177: expected 2 fields, saw 3\\nSkipping line 120334: expected 2 fields, saw 3\\nSkipping line 120350: expected 2 fields, saw 3\\nSkipping line 120567: expected 2 fields, saw 3\\nSkipping line 120633: expected 2 fields, saw 4\\nSkipping line 120658: expected 2 fields, saw 3\\nSkipping line 120794: expected 2 fields, saw 3\\nSkipping line 120909: expected 2 fields, saw 3\\nSkipping line 121021: expected 2 fields, saw 3\\nSkipping line 121120: expected 2 fields, saw 3\\nSkipping line 121134: expected 2 fields, saw 3\\nSkipping line 121169: expected 2 fields, saw 3\\nSkipping line 121285: expected 2 fields, saw 3\\nSkipping line 121347: expected 2 fields, saw 3\\nSkipping line 121352: expected 2 fields, saw 3\\nSkipping line 121368: expected 2 fields, saw 3\\nSkipping line 121372: expected 2 fields, saw 3\\nSkipping line 121378: expected 2 fields, saw 10\\nSkipping line 121380: expected 2 fields, saw 3\\nSkipping line 121381: expected 2 fields, saw 7\\nSkipping line 121383: expected 2 fields, saw 3\\nSkipping line 121393: expected 2 fields, saw 3\\nSkipping line 121411: expected 2 fields, saw 3\\nSkipping line 121431: expected 2 fields, saw 3\\nSkipping line 121440: expected 2 fields, saw 5\\nSkipping line 121442: expected 2 fields, saw 3\\nSkipping line 121445: expected 2 fields, saw 3\\nSkipping line 121458: expected 2 fields, saw 3\\nSkipping line 121463: expected 2 fields, saw 4\\nSkipping line 121474: expected 2 fields, saw 3\\nSkipping line 121605: expected 2 fields, saw 3\\nSkipping line 121608: expected 2 fields, saw 3\\nSkipping line 121674: expected 2 fields, saw 3\\nSkipping line 121686: expected 2 fields, saw 3\\nSkipping line 121700: expected 2 fields, saw 3\\nSkipping line 121731: expected 2 fields, saw 3\\nSkipping line 121782: expected 2 fields, saw 3\\nSkipping line 121798: expected 2 fields, saw 3\\nSkipping line 121813: expected 2 fields, saw 3\\nSkipping line 121873: expected 2 fields, saw 4\\nSkipping line 121874: expected 2 fields, saw 3\\nSkipping line 121926: expected 2 fields, saw 3\\nSkipping line 122005: expected 2 fields, saw 5\\nSkipping line 122069: expected 2 fields, saw 3\\nSkipping line 122100: expected 2 fields, saw 4\\nSkipping line 122146: expected 2 fields, saw 3\\nSkipping line 122148: expected 2 fields, saw 4\\nSkipping line 122225: expected 2 fields, saw 3\\nSkipping line 122231: expected 2 fields, saw 3\\nSkipping line 122248: expected 2 fields, saw 3\\nSkipping line 122258: expected 2 fields, saw 3\\nSkipping line 122273: expected 2 fields, saw 4\\nSkipping line 122277: expected 2 fields, saw 3\\nSkipping line 122292: expected 2 fields, saw 3\\nSkipping line 122298: expected 2 fields, saw 10\\nSkipping line 122328: expected 2 fields, saw 3\\nSkipping line 122331: expected 2 fields, saw 3\\nSkipping line 122333: expected 2 fields, saw 4\\nSkipping line 122380: expected 2 fields, saw 3\\nSkipping line 122383: expected 2 fields, saw 3\\nSkipping line 122425: expected 2 fields, saw 3\\nSkipping line 122433: expected 2 fields, saw 3\\nSkipping line 122445: expected 2 fields, saw 11\\nSkipping line 122451: expected 2 fields, saw 3\\nSkipping line 122456: expected 2 fields, saw 4\\nSkipping line 122480: expected 2 fields, saw 4\\nSkipping line 122483: expected 2 fields, saw 4\\nSkipping line 122571: expected 2 fields, saw 3\\nSkipping line 122587: expected 2 fields, saw 3\\nSkipping line 122588: expected 2 fields, saw 5\\nSkipping line 122593: expected 2 fields, saw 3\\nSkipping line 122611: expected 2 fields, saw 4\\nSkipping line 122613: expected 2 fields, saw 3\\nSkipping line 122628: expected 2 fields, saw 3\\nSkipping line 122661: expected 2 fields, saw 3\\nSkipping line 122664: expected 2 fields, saw 4\\nSkipping line 122666: expected 2 fields, saw 3\\nSkipping line 122672: expected 2 fields, saw 3\\nSkipping line 122676: expected 2 fields, saw 3\\nSkipping line 122706: expected 2 fields, saw 3\\nSkipping line 122718: expected 2 fields, saw 3\\nSkipping line 122723: expected 2 fields, saw 3\\nSkipping line 122724: expected 2 fields, saw 3\\nSkipping line 122741: expected 2 fields, saw 3\\nSkipping line 122744: expected 2 fields, saw 3\\nSkipping line 122747: expected 2 fields, saw 6\\nSkipping line 122757: expected 2 fields, saw 3\\nSkipping line 122784: expected 2 fields, saw 4\\nSkipping line 122820: expected 2 fields, saw 4\\nSkipping line 122821: expected 2 fields, saw 5\\nSkipping line 122829: expected 2 fields, saw 4\\nSkipping line 122864: expected 2 fields, saw 3\\nSkipping line 122865: expected 2 fields, saw 4\\nSkipping line 122871: expected 2 fields, saw 3\\nSkipping line 122872: expected 2 fields, saw 4\\nSkipping line 122912: expected 2 fields, saw 6\\nSkipping line 122915: expected 2 fields, saw 6\\nSkipping line 122918: expected 2 fields, saw 5\\nSkipping line 122926: expected 2 fields, saw 3\\nSkipping line 122937: expected 2 fields, saw 3\\nSkipping line 122938: expected 2 fields, saw 3\\nSkipping line 122939: expected 2 fields, saw 3\\nSkipping line 123009: expected 2 fields, saw 3\\nSkipping line 123027: expected 2 fields, saw 15\\nSkipping line 123045: expected 2 fields, saw 3\\nSkipping line 123088: expected 2 fields, saw 3\\nSkipping line 123095: expected 2 fields, saw 3\\nSkipping line 123190: expected 2 fields, saw 5\\nSkipping line 123204: expected 2 fields, saw 3\\nSkipping line 123277: expected 2 fields, saw 3\\nSkipping line 123287: expected 2 fields, saw 3\\nSkipping line 123291: expected 2 fields, saw 3\\nSkipping line 123304: expected 2 fields, saw 3\\nSkipping line 123323: expected 2 fields, saw 3\\nSkipping line 123324: expected 2 fields, saw 4\\nSkipping line 123417: expected 2 fields, saw 3\\nSkipping line 123418: expected 2 fields, saw 3\\nSkipping line 123438: expected 2 fields, saw 3\\nSkipping line 123473: expected 2 fields, saw 3\\nSkipping line 123482: expected 2 fields, saw 3\\nSkipping line 123544: expected 2 fields, saw 3\\nSkipping line 123557: expected 2 fields, saw 4\\nSkipping line 123574: expected 2 fields, saw 3\\nSkipping line 123582: expected 2 fields, saw 8\\nSkipping line 123588: expected 2 fields, saw 3\\nSkipping line 123593: expected 2 fields, saw 3\\nSkipping line 123594: expected 2 fields, saw 3\\nSkipping line 123597: expected 2 fields, saw 3\\nSkipping line 123605: expected 2 fields, saw 3\\nSkipping line 123654: expected 2 fields, saw 3\\nSkipping line 123661: expected 2 fields, saw 3\\nSkipping line 123698: expected 2 fields, saw 4\\nSkipping line 123756: expected 2 fields, saw 4\\nSkipping line 123760: expected 2 fields, saw 3\\nSkipping line 123766: expected 2 fields, saw 3\\nSkipping line 123805: expected 2 fields, saw 5\\nSkipping line 123831: expected 2 fields, saw 3\\nSkipping line 123863: expected 2 fields, saw 3\\nSkipping line 123870: expected 2 fields, saw 3\\nSkipping line 123872: expected 2 fields, saw 3\\nSkipping line 123920: expected 2 fields, saw 3\\nSkipping line 124054: expected 2 fields, saw 4\\nSkipping line 124062: expected 2 fields, saw 3\\nSkipping line 124064: expected 2 fields, saw 4\\nSkipping line 124136: expected 2 fields, saw 3\\nSkipping line 124140: expected 2 fields, saw 3\\nSkipping line 124162: expected 2 fields, saw 10\\nSkipping line 124205: expected 2 fields, saw 4\\nSkipping line 124228: expected 2 fields, saw 4\\nSkipping line 124241: expected 2 fields, saw 5\\nSkipping line 124350: expected 2 fields, saw 3\\nSkipping line 124361: expected 2 fields, saw 3\\nSkipping line 124362: expected 2 fields, saw 5\\nSkipping line 124395: expected 2 fields, saw 5\\nSkipping line 124404: expected 2 fields, saw 4\\nSkipping line 124420: expected 2 fields, saw 3\\nSkipping line 124445: expected 2 fields, saw 3\\nSkipping line 124450: expected 2 fields, saw 3\\nSkipping line 124498: expected 2 fields, saw 3\\nSkipping line 124521: expected 2 fields, saw 5\\nSkipping line 124525: expected 2 fields, saw 3\\nSkipping line 124589: expected 2 fields, saw 3\\nSkipping line 124703: expected 2 fields, saw 3\\nSkipping line 124708: expected 2 fields, saw 3\\nSkipping line 124712: expected 2 fields, saw 4\\nSkipping line 124746: expected 2 fields, saw 3\\nSkipping line 124766: expected 2 fields, saw 3\\nSkipping line 124784: expected 2 fields, saw 3\\nSkipping line 124789: expected 2 fields, saw 3\\nSkipping line 124809: expected 2 fields, saw 4\\nSkipping line 124816: expected 2 fields, saw 3\\nSkipping line 124846: expected 2 fields, saw 3\\nSkipping line 124919: expected 2 fields, saw 3\\nSkipping line 124928: expected 2 fields, saw 3\\nSkipping line 125001: expected 2 fields, saw 3\\nSkipping line 125011: expected 2 fields, saw 3\\nSkipping line 125031: expected 2 fields, saw 3\\nSkipping line 125037: expected 2 fields, saw 4\\nSkipping line 125056: expected 2 fields, saw 3\\nSkipping line 125058: expected 2 fields, saw 3\\nSkipping line 125062: expected 2 fields, saw 3\\nSkipping line 125065: expected 2 fields, saw 3\\nSkipping line 125068: expected 2 fields, saw 3\\nSkipping line 125083: expected 2 fields, saw 3\\nSkipping line 125088: expected 2 fields, saw 3\\nSkipping line 125089: expected 2 fields, saw 3\\nSkipping line 125199: expected 2 fields, saw 3\\nSkipping line 125214: expected 2 fields, saw 3\\nSkipping line 125239: expected 2 fields, saw 3\\nSkipping line 125246: expected 2 fields, saw 3\\nSkipping line 125252: expected 2 fields, saw 3\\nSkipping line 125261: expected 2 fields, saw 3\\nSkipping line 125277: expected 2 fields, saw 3\\nSkipping line 125292: expected 2 fields, saw 3\\nSkipping line 125300: expected 2 fields, saw 4\\nSkipping line 125547: expected 2 fields, saw 3\\nSkipping line 125583: expected 2 fields, saw 3\\nSkipping line 125607: expected 2 fields, saw 3\\nSkipping line 125644: expected 2 fields, saw 3\\nSkipping line 125702: expected 2 fields, saw 3\\nSkipping line 125707: expected 2 fields, saw 3\\nSkipping line 135852: expected 2 fields, saw 3\\nSkipping line 193435: expected 2 fields, saw 3\\nSkipping line 193910: expected 2 fields, saw 3\\nSkipping line 194228: expected 2 fields, saw 3\\nSkipping line 194627: expected 2 fields, saw 3\\nSkipping line 194713: expected 2 fields, saw 3\\nSkipping line 195069: expected 2 fields, saw 3\\nSkipping line 195093: expected 2 fields, saw 3\\nSkipping line 195216: expected 2 fields, saw 3\\nSkipping line 195691: expected 2 fields, saw 3\\nSkipping line 195830: expected 2 fields, saw 3\\nSkipping line 195894: expected 2 fields, saw 3\\nSkipping line 196294: expected 2 fields, saw 3\\nSkipping line 196308: expected 2 fields, saw 3\\nSkipping line 196747: expected 2 fields, saw 3\\nSkipping line 196875: expected 2 fields, saw 3\\nSkipping line 196946: expected 2 fields, saw 3\\nSkipping line 196994: expected 2 fields, saw 3\\nSkipping line 197452: expected 2 fields, saw 3\\n'\n"
          ],
          "name": "stderr"
        },
        {
          "output_type": "stream",
          "text": [
            "Reading /scratch/group/oit_research_data/stanford_congress/hein-bound/speeches_106.txt...\n"
          ],
          "name": "stdout"
        },
        {
          "output_type": "stream",
          "text": [
            "b'Skipping line 57289: expected 2 fields, saw 3\\nSkipping line 60260: expected 2 fields, saw 3\\nSkipping line 128248: expected 2 fields, saw 3\\n'\n"
          ],
          "name": "stderr"
        },
        {
          "output_type": "stream",
          "text": [
            "Reading /scratch/group/oit_research_data/stanford_congress/hein-bound/speeches_107.txt...\n",
            "Reading /scratch/group/oit_research_data/stanford_congress/hein-bound/speeches_108.txt...\n"
          ],
          "name": "stdout"
        },
        {
          "output_type": "stream",
          "text": [
            "b'Skipping line 88571: expected 2 fields, saw 3\\n'\n"
          ],
          "name": "stderr"
        },
        {
          "output_type": "stream",
          "text": [
            "Reading /scratch/group/oit_research_data/stanford_congress/hein-bound/speeches_109.txt...\n",
            "Reading /scratch/group/oit_research_data/stanford_congress/hein-bound/speeches_110.txt...\n"
          ],
          "name": "stdout"
        },
        {
          "output_type": "stream",
          "text": [
            "b'Skipping line 10301: expected 2 fields, saw 3\\nSkipping line 119600: expected 2 fields, saw 3\\nSkipping line 154253: expected 2 fields, saw 3\\nSkipping line 164746: expected 2 fields, saw 3\\nSkipping line 167621: expected 2 fields, saw 3\\nSkipping line 170016: expected 2 fields, saw 3\\n'\n"
          ],
          "name": "stderr"
        },
        {
          "output_type": "stream",
          "text": [
            "Reading /scratch/group/oit_research_data/stanford_congress/hein-bound/speeches_111.txt...\n"
          ],
          "name": "stdout"
        },
        {
          "output_type": "stream",
          "text": [
            "b'Skipping line 55163: expected 2 fields, saw 3\\n'\n",
            "/hpc/applications/anaconda/3/lib/python3.6/site-packages/ipykernel_launcher.py:12: FutureWarning: Sorting because non-concatenation axis is not aligned. A future version\n",
            "of pandas will change to not sort by default.\n",
            "\n",
            "To accept the future behavior, pass 'sort=False'.\n",
            "\n",
            "To retain the current behavior and silence the warning, pass 'sort=True'.\n",
            "\n",
            "  if sys.path[0] == '':\n"
          ],
          "name": "stderr"
        },
        {
          "output_type": "display_data",
          "data": {
            "text/html": [
              "<div>\n",
              "<style scoped>\n",
              "    .dataframe tbody tr th:only-of-type {\n",
              "        vertical-align: middle;\n",
              "    }\n",
              "\n",
              "    .dataframe tbody tr th {\n",
              "        vertical-align: top;\n",
              "    }\n",
              "\n",
              "    .dataframe thead th {\n",
              "        text-align: right;\n",
              "    }\n",
              "</style>\n",
              "<table border=\"1\" class=\"dataframe\">\n",
              "  <thead>\n",
              "    <tr style=\"text-align: right;\">\n",
              "      <th></th>\n",
              "      <th>chamber</th>\n",
              "      <th>char_count</th>\n",
              "      <th>date</th>\n",
              "      <th>file</th>\n",
              "      <th>first_name</th>\n",
              "      <th>gender</th>\n",
              "      <th>last_name</th>\n",
              "      <th>line_end</th>\n",
              "      <th>line_start</th>\n",
              "      <th>number_within_file</th>\n",
              "      <th>speaker</th>\n",
              "      <th>speech</th>\n",
              "      <th>speech_id</th>\n",
              "      <th>state</th>\n",
              "      <th>word_count</th>\n",
              "    </tr>\n",
              "  </thead>\n",
              "  <tbody>\n",
              "    <tr>\n",
              "      <th>0</th>\n",
              "      <td>H</td>\n",
              "      <td>851.0</td>\n",
              "      <td>19870106.0</td>\n",
              "      <td>01061987.txt</td>\n",
              "      <td>Unknown</td>\n",
              "      <td>Special</td>\n",
              "      <td>Unknown</td>\n",
              "      <td>82.0</td>\n",
              "      <td>57.0</td>\n",
              "      <td>1.0</td>\n",
              "      <td>The CLERK</td>\n",
              "      <td>NaN</td>\n",
              "      <td>1000000001</td>\n",
              "      <td>Unknown</td>\n",
              "      <td>136.0</td>\n",
              "    </tr>\n",
              "    <tr>\n",
              "      <th>1</th>\n",
              "      <td>H</td>\n",
              "      <td>142.0</td>\n",
              "      <td>19870106.0</td>\n",
              "      <td>01061987.txt</td>\n",
              "      <td>Unknown</td>\n",
              "      <td>Special</td>\n",
              "      <td>Unknown</td>\n",
              "      <td>88.0</td>\n",
              "      <td>84.0</td>\n",
              "      <td>2.0</td>\n",
              "      <td>The CLERK</td>\n",
              "      <td>NaN</td>\n",
              "      <td>1000000002</td>\n",
              "      <td>Unknown</td>\n",
              "      <td>26.0</td>\n",
              "    </tr>\n",
              "    <tr>\n",
              "      <th>2</th>\n",
              "      <td>H</td>\n",
              "      <td>73.0</td>\n",
              "      <td>19870106.0</td>\n",
              "      <td>01061987.txt</td>\n",
              "      <td>Unknown</td>\n",
              "      <td>Special</td>\n",
              "      <td>Unknown</td>\n",
              "      <td>539.0</td>\n",
              "      <td>536.0</td>\n",
              "      <td>3.0</td>\n",
              "      <td>The CLERK</td>\n",
              "      <td>NaN</td>\n",
              "      <td>1000000003</td>\n",
              "      <td>Unknown</td>\n",
              "      <td>13.0</td>\n",
              "    </tr>\n",
              "    <tr>\n",
              "      <th>3</th>\n",
              "      <td>H</td>\n",
              "      <td>253.0</td>\n",
              "      <td>19870106.0</td>\n",
              "      <td>01061987.txt</td>\n",
              "      <td>Unknown</td>\n",
              "      <td>Special</td>\n",
              "      <td>Unknown</td>\n",
              "      <td>552.0</td>\n",
              "      <td>541.0</td>\n",
              "      <td>4.0</td>\n",
              "      <td>The CLERK</td>\n",
              "      <td>NaN</td>\n",
              "      <td>1000000004</td>\n",
              "      <td>Unknown</td>\n",
              "      <td>43.0</td>\n",
              "    </tr>\n",
              "    <tr>\n",
              "      <th>4</th>\n",
              "      <td>H</td>\n",
              "      <td>376.0</td>\n",
              "      <td>19870106.0</td>\n",
              "      <td>01061987.txt</td>\n",
              "      <td>Unknown</td>\n",
              "      <td>Special</td>\n",
              "      <td>Unknown</td>\n",
              "      <td>580.0</td>\n",
              "      <td>554.0</td>\n",
              "      <td>5.0</td>\n",
              "      <td>The CLERK</td>\n",
              "      <td>NaN</td>\n",
              "      <td>1000000005</td>\n",
              "      <td>Unknown</td>\n",
              "      <td>65.0</td>\n",
              "    </tr>\n",
              "    <tr>\n",
              "      <th>...</th>\n",
              "      <td>...</td>\n",
              "      <td>...</td>\n",
              "      <td>...</td>\n",
              "      <td>...</td>\n",
              "      <td>...</td>\n",
              "      <td>...</td>\n",
              "      <td>...</td>\n",
              "      <td>...</td>\n",
              "      <td>...</td>\n",
              "      <td>...</td>\n",
              "      <td>...</td>\n",
              "      <td>...</td>\n",
              "      <td>...</td>\n",
              "      <td>...</td>\n",
              "      <td>...</td>\n",
              "    </tr>\n",
              "    <tr>\n",
              "      <th>179262</th>\n",
              "      <td>NaN</td>\n",
              "      <td>NaN</td>\n",
              "      <td>NaN</td>\n",
              "      <td>NaN</td>\n",
              "      <td>NaN</td>\n",
              "      <td>NaN</td>\n",
              "      <td>NaN</td>\n",
              "      <td>NaN</td>\n",
              "      <td>NaN</td>\n",
              "      <td>NaN</td>\n",
              "      <td>NaN</td>\n",
              "      <td>Madam Speaker. on rollcall Nos. 662 and 661. I...</td>\n",
              "      <td>1110179264</td>\n",
              "      <td>NaN</td>\n",
              "      <td>NaN</td>\n",
              "    </tr>\n",
              "    <tr>\n",
              "      <th>179263</th>\n",
              "      <td>NaN</td>\n",
              "      <td>NaN</td>\n",
              "      <td>NaN</td>\n",
              "      <td>NaN</td>\n",
              "      <td>NaN</td>\n",
              "      <td>NaN</td>\n",
              "      <td>NaN</td>\n",
              "      <td>NaN</td>\n",
              "      <td>NaN</td>\n",
              "      <td>NaN</td>\n",
              "      <td>NaN</td>\n",
              "      <td>Madam Speaker. as I leave Congress as the peop...</td>\n",
              "      <td>1110179265</td>\n",
              "      <td>NaN</td>\n",
              "      <td>NaN</td>\n",
              "    </tr>\n",
              "    <tr>\n",
              "      <th>179264</th>\n",
              "      <td>NaN</td>\n",
              "      <td>NaN</td>\n",
              "      <td>NaN</td>\n",
              "      <td>NaN</td>\n",
              "      <td>NaN</td>\n",
              "      <td>NaN</td>\n",
              "      <td>NaN</td>\n",
              "      <td>NaN</td>\n",
              "      <td>NaN</td>\n",
              "      <td>NaN</td>\n",
              "      <td>NaN</td>\n",
              "      <td>Madam Speaker. on rolicall No. 658. I was unav...</td>\n",
              "      <td>1110179266</td>\n",
              "      <td>NaN</td>\n",
              "      <td>NaN</td>\n",
              "    </tr>\n",
              "    <tr>\n",
              "      <th>179265</th>\n",
              "      <td>NaN</td>\n",
              "      <td>NaN</td>\n",
              "      <td>NaN</td>\n",
              "      <td>NaN</td>\n",
              "      <td>NaN</td>\n",
              "      <td>NaN</td>\n",
              "      <td>NaN</td>\n",
              "      <td>NaN</td>\n",
              "      <td>NaN</td>\n",
              "      <td>NaN</td>\n",
              "      <td>NaN</td>\n",
              "      <td>Madam Speaker. on rollcall No. 658 my flight w...</td>\n",
              "      <td>1110179267</td>\n",
              "      <td>NaN</td>\n",
              "      <td>NaN</td>\n",
              "    </tr>\n",
              "    <tr>\n",
              "      <th>179266</th>\n",
              "      <td>NaN</td>\n",
              "      <td>NaN</td>\n",
              "      <td>NaN</td>\n",
              "      <td>NaN</td>\n",
              "      <td>NaN</td>\n",
              "      <td>NaN</td>\n",
              "      <td>NaN</td>\n",
              "      <td>NaN</td>\n",
              "      <td>NaN</td>\n",
              "      <td>NaN</td>\n",
              "      <td>NaN</td>\n",
              "      <td>Madam Speaker. I wold like to submit the follo...</td>\n",
              "      <td>1110179268</td>\n",
              "      <td>NaN</td>\n",
              "      <td>NaN</td>\n",
              "    </tr>\n",
              "  </tbody>\n",
              "</table>\n",
              "<p>5286611 rows × 15 columns</p>\n",
              "</div>"
            ],
            "text/plain": [
              "       chamber  char_count        date          file first_name   gender  \\\n",
              "0            H       851.0  19870106.0  01061987.txt    Unknown  Special   \n",
              "1            H       142.0  19870106.0  01061987.txt    Unknown  Special   \n",
              "2            H        73.0  19870106.0  01061987.txt    Unknown  Special   \n",
              "3            H       253.0  19870106.0  01061987.txt    Unknown  Special   \n",
              "4            H       376.0  19870106.0  01061987.txt    Unknown  Special   \n",
              "...        ...         ...         ...           ...        ...      ...   \n",
              "179262     NaN         NaN         NaN           NaN        NaN      NaN   \n",
              "179263     NaN         NaN         NaN           NaN        NaN      NaN   \n",
              "179264     NaN         NaN         NaN           NaN        NaN      NaN   \n",
              "179265     NaN         NaN         NaN           NaN        NaN      NaN   \n",
              "179266     NaN         NaN         NaN           NaN        NaN      NaN   \n",
              "\n",
              "       last_name  line_end  line_start  number_within_file    speaker  \\\n",
              "0        Unknown      82.0        57.0                 1.0  The CLERK   \n",
              "1        Unknown      88.0        84.0                 2.0  The CLERK   \n",
              "2        Unknown     539.0       536.0                 3.0  The CLERK   \n",
              "3        Unknown     552.0       541.0                 4.0  The CLERK   \n",
              "4        Unknown     580.0       554.0                 5.0  The CLERK   \n",
              "...          ...       ...         ...                 ...        ...   \n",
              "179262       NaN       NaN         NaN                 NaN        NaN   \n",
              "179263       NaN       NaN         NaN                 NaN        NaN   \n",
              "179264       NaN       NaN         NaN                 NaN        NaN   \n",
              "179265       NaN       NaN         NaN                 NaN        NaN   \n",
              "179266       NaN       NaN         NaN                 NaN        NaN   \n",
              "\n",
              "                                                   speech   speech_id  \\\n",
              "0                                                     NaN  1000000001   \n",
              "1                                                     NaN  1000000002   \n",
              "2                                                     NaN  1000000003   \n",
              "3                                                     NaN  1000000004   \n",
              "4                                                     NaN  1000000005   \n",
              "...                                                   ...         ...   \n",
              "179262  Madam Speaker. on rollcall Nos. 662 and 661. I...  1110179264   \n",
              "179263  Madam Speaker. as I leave Congress as the peop...  1110179265   \n",
              "179264  Madam Speaker. on rolicall No. 658. I was unav...  1110179266   \n",
              "179265  Madam Speaker. on rollcall No. 658 my flight w...  1110179267   \n",
              "179266  Madam Speaker. I wold like to submit the follo...  1110179268   \n",
              "\n",
              "          state  word_count  \n",
              "0       Unknown       136.0  \n",
              "1       Unknown        26.0  \n",
              "2       Unknown        13.0  \n",
              "3       Unknown        43.0  \n",
              "4       Unknown        65.0  \n",
              "...         ...         ...  \n",
              "179262      NaN         NaN  \n",
              "179263      NaN         NaN  \n",
              "179264      NaN         NaN  \n",
              "179265      NaN         NaN  \n",
              "179266      NaN         NaN  \n",
              "\n",
              "[5286611 rows x 15 columns]"
            ]
          },
          "metadata": {
            "tags": []
          }
        }
      ]
    },
    {
      "cell_type": "code",
      "metadata": {
        "id": "UNmvLeURtOEE"
      },
      "source": [
        "del description_df['speech']  # remove the 'speech' column in descriptions because those look like special cases non-speeches"
      ],
      "execution_count": null,
      "outputs": []
    },
    {
      "cell_type": "code",
      "metadata": {
        "id": "I9Iu7Lg3tOEM",
        "outputId": "e67cd40e-339b-4eff-e883-3d595ad558cb"
      },
      "source": [
        "all_data = pd.merge(speeches_df, description_df, on = 'speech_id').fillna(0)\n",
        "all_data.head()"
      ],
      "execution_count": null,
      "outputs": [
        {
          "output_type": "execute_result",
          "data": {
            "text/html": [
              "<div>\n",
              "<style scoped>\n",
              "    .dataframe tbody tr th:only-of-type {\n",
              "        vertical-align: middle;\n",
              "    }\n",
              "\n",
              "    .dataframe tbody tr th {\n",
              "        vertical-align: top;\n",
              "    }\n",
              "\n",
              "    .dataframe thead th {\n",
              "        text-align: right;\n",
              "    }\n",
              "</style>\n",
              "<table border=\"1\" class=\"dataframe\">\n",
              "  <thead>\n",
              "    <tr style=\"text-align: right;\">\n",
              "      <th></th>\n",
              "      <th>speech_id</th>\n",
              "      <th>speech</th>\n",
              "      <th>chamber</th>\n",
              "      <th>char_count</th>\n",
              "      <th>date</th>\n",
              "      <th>file</th>\n",
              "      <th>first_name</th>\n",
              "      <th>gender</th>\n",
              "      <th>last_name</th>\n",
              "      <th>line_end</th>\n",
              "      <th>line_start</th>\n",
              "      <th>number_within_file</th>\n",
              "      <th>speaker</th>\n",
              "      <th>state</th>\n",
              "      <th>word_count</th>\n",
              "    </tr>\n",
              "  </thead>\n",
              "  <tbody>\n",
              "    <tr>\n",
              "      <th>0</th>\n",
              "      <td>1000000001</td>\n",
              "      <td>Representativeselect to the 100th Congress. th...</td>\n",
              "      <td>H</td>\n",
              "      <td>851.0</td>\n",
              "      <td>19870106.0</td>\n",
              "      <td>01061987.txt</td>\n",
              "      <td>Unknown</td>\n",
              "      <td>Special</td>\n",
              "      <td>Unknown</td>\n",
              "      <td>82.0</td>\n",
              "      <td>57.0</td>\n",
              "      <td>1.0</td>\n",
              "      <td>The CLERK</td>\n",
              "      <td>Unknown</td>\n",
              "      <td>136.0</td>\n",
              "    </tr>\n",
              "    <tr>\n",
              "      <th>1</th>\n",
              "      <td>1000000001</td>\n",
              "      <td>Representativeselect to the 100th Congress. th...</td>\n",
              "      <td>0</td>\n",
              "      <td>0.0</td>\n",
              "      <td>0.0</td>\n",
              "      <td>0</td>\n",
              "      <td>0</td>\n",
              "      <td>0</td>\n",
              "      <td>0</td>\n",
              "      <td>0.0</td>\n",
              "      <td>0.0</td>\n",
              "      <td>0.0</td>\n",
              "      <td>0</td>\n",
              "      <td>0</td>\n",
              "      <td>0.0</td>\n",
              "    </tr>\n",
              "    <tr>\n",
              "      <th>2</th>\n",
              "      <td>1000000002</td>\n",
              "      <td>The Chair would also like to state that Repres...</td>\n",
              "      <td>H</td>\n",
              "      <td>142.0</td>\n",
              "      <td>19870106.0</td>\n",
              "      <td>01061987.txt</td>\n",
              "      <td>Unknown</td>\n",
              "      <td>Special</td>\n",
              "      <td>Unknown</td>\n",
              "      <td>88.0</td>\n",
              "      <td>84.0</td>\n",
              "      <td>2.0</td>\n",
              "      <td>The CLERK</td>\n",
              "      <td>Unknown</td>\n",
              "      <td>26.0</td>\n",
              "    </tr>\n",
              "    <tr>\n",
              "      <th>3</th>\n",
              "      <td>1000000002</td>\n",
              "      <td>The Chair would also like to state that Repres...</td>\n",
              "      <td>0</td>\n",
              "      <td>0.0</td>\n",
              "      <td>0.0</td>\n",
              "      <td>0</td>\n",
              "      <td>0</td>\n",
              "      <td>0</td>\n",
              "      <td>0</td>\n",
              "      <td>0.0</td>\n",
              "      <td>0.0</td>\n",
              "      <td>0.0</td>\n",
              "      <td>0</td>\n",
              "      <td>0</td>\n",
              "      <td>0.0</td>\n",
              "    </tr>\n",
              "    <tr>\n",
              "      <th>4</th>\n",
              "      <td>1000000003</td>\n",
              "      <td>The quor closes that 426 Represe have answered...</td>\n",
              "      <td>H</td>\n",
              "      <td>73.0</td>\n",
              "      <td>19870106.0</td>\n",
              "      <td>01061987.txt</td>\n",
              "      <td>Unknown</td>\n",
              "      <td>Special</td>\n",
              "      <td>Unknown</td>\n",
              "      <td>539.0</td>\n",
              "      <td>536.0</td>\n",
              "      <td>3.0</td>\n",
              "      <td>The CLERK</td>\n",
              "      <td>Unknown</td>\n",
              "      <td>13.0</td>\n",
              "    </tr>\n",
              "  </tbody>\n",
              "</table>\n",
              "</div>"
            ],
            "text/plain": [
              "    speech_id                                             speech chamber  \\\n",
              "0  1000000001  Representativeselect to the 100th Congress. th...       H   \n",
              "1  1000000001  Representativeselect to the 100th Congress. th...       0   \n",
              "2  1000000002  The Chair would also like to state that Repres...       H   \n",
              "3  1000000002  The Chair would also like to state that Repres...       0   \n",
              "4  1000000003  The quor closes that 426 Represe have answered...       H   \n",
              "\n",
              "   char_count        date          file first_name   gender last_name  \\\n",
              "0       851.0  19870106.0  01061987.txt    Unknown  Special   Unknown   \n",
              "1         0.0         0.0             0          0        0         0   \n",
              "2       142.0  19870106.0  01061987.txt    Unknown  Special   Unknown   \n",
              "3         0.0         0.0             0          0        0         0   \n",
              "4        73.0  19870106.0  01061987.txt    Unknown  Special   Unknown   \n",
              "\n",
              "   line_end  line_start  number_within_file    speaker    state  word_count  \n",
              "0      82.0        57.0                 1.0  The CLERK  Unknown       136.0  \n",
              "1       0.0         0.0                 0.0          0        0         0.0  \n",
              "2      88.0        84.0                 2.0  The CLERK  Unknown        26.0  \n",
              "3       0.0         0.0                 0.0          0        0         0.0  \n",
              "4     539.0       536.0                 3.0  The CLERK  Unknown        13.0  "
            ]
          },
          "metadata": {
            "tags": []
          },
          "execution_count": 19
        }
      ]
    },
    {
      "cell_type": "markdown",
      "metadata": {
        "id": "QurC0W9ItOEg"
      },
      "source": [
        "The lines above merge the \"speeches\" and \"descriptions\" files so that we now have one database of speeches with the date on which they were spoken.\n",
        "\n",
        "Now that we have the data in place, let's ask the data: when does it stop or start?"
      ]
    },
    {
      "cell_type": "code",
      "metadata": {
        "id": "1EaNizWotOE8",
        "outputId": "00d69951-6af3-4d91-985f-384782febbf5"
      },
      "source": [
        "max(all_data['date'])"
      ],
      "execution_count": null,
      "outputs": [
        {
          "output_type": "execute_result",
          "data": {
            "text/plain": [
              "20101222.0"
            ]
          },
          "metadata": {
            "tags": []
          },
          "execution_count": 20
        }
      ]
    },
    {
      "cell_type": "markdown",
      "metadata": {
        "id": "co61BL4ytOFL"
      },
      "source": [
        "The last date is listed above -- year first, then month, then day."
      ]
    },
    {
      "cell_type": "code",
      "metadata": {
        "id": "8mbaeScctOFL",
        "outputId": "c51285d3-dfb8-44a4-fda3-4285d1e2b4bc"
      },
      "source": [
        "min(all_data['date'])"
      ],
      "execution_count": null,
      "outputs": [
        {
          "output_type": "execute_result",
          "data": {
            "text/plain": [
              "0.0"
            ]
          },
          "metadata": {
            "tags": []
          },
          "execution_count": 21
        }
      ]
    },
    {
      "cell_type": "markdown",
      "metadata": {
        "id": "6J574XDItOFR"
      },
      "source": [
        "Whoops, that's not right.  I bet there are some zeros in the date data for speeches that haven't been assigned a date.  Let's get rid of that data before it messes up our other counts!"
      ]
    },
    {
      "cell_type": "code",
      "metadata": {
        "id": "le9fd_UWtOFR"
      },
      "source": [
        "all_data = all_data[all_data.date != 0] # drop zeros in date"
      ],
      "execution_count": null,
      "outputs": []
    },
    {
      "cell_type": "code",
      "metadata": {
        "id": "bciLWd8KtOFa",
        "outputId": "8809cc9e-8865-407f-9bfb-6ebb703af645"
      },
      "source": [
        "min(all_data['date']) # better!"
      ],
      "execution_count": null,
      "outputs": [
        {
          "output_type": "execute_result",
          "data": {
            "text/plain": [
              "19870106.0"
            ]
          },
          "metadata": {
            "tags": []
          },
          "execution_count": 23
        }
      ]
    },
    {
      "cell_type": "markdown",
      "metadata": {
        "id": "_0tjI44QtOFj"
      },
      "source": [
        "Use datetime to render the date column as recognizable dates"
      ]
    },
    {
      "cell_type": "code",
      "metadata": {
        "id": "fpXzPjCitOFj",
        "outputId": "5ce165cb-488c-421a-8c55-18ff5cc7dc56"
      },
      "source": [
        "all_data['date']=pd.to_datetime(all_data['date'],format='%Y%m%d')\n",
        "all_data.head()"
      ],
      "execution_count": null,
      "outputs": [
        {
          "output_type": "execute_result",
          "data": {
            "text/html": [
              "<div>\n",
              "<style scoped>\n",
              "    .dataframe tbody tr th:only-of-type {\n",
              "        vertical-align: middle;\n",
              "    }\n",
              "\n",
              "    .dataframe tbody tr th {\n",
              "        vertical-align: top;\n",
              "    }\n",
              "\n",
              "    .dataframe thead th {\n",
              "        text-align: right;\n",
              "    }\n",
              "</style>\n",
              "<table border=\"1\" class=\"dataframe\">\n",
              "  <thead>\n",
              "    <tr style=\"text-align: right;\">\n",
              "      <th></th>\n",
              "      <th>speech_id</th>\n",
              "      <th>speech</th>\n",
              "      <th>chamber</th>\n",
              "      <th>char_count</th>\n",
              "      <th>date</th>\n",
              "      <th>file</th>\n",
              "      <th>first_name</th>\n",
              "      <th>gender</th>\n",
              "      <th>last_name</th>\n",
              "      <th>line_end</th>\n",
              "      <th>line_start</th>\n",
              "      <th>number_within_file</th>\n",
              "      <th>speaker</th>\n",
              "      <th>state</th>\n",
              "      <th>word_count</th>\n",
              "    </tr>\n",
              "  </thead>\n",
              "  <tbody>\n",
              "    <tr>\n",
              "      <th>0</th>\n",
              "      <td>1000000001</td>\n",
              "      <td>Representativeselect to the 100th Congress. th...</td>\n",
              "      <td>H</td>\n",
              "      <td>851.0</td>\n",
              "      <td>1987-01-06</td>\n",
              "      <td>01061987.txt</td>\n",
              "      <td>Unknown</td>\n",
              "      <td>Special</td>\n",
              "      <td>Unknown</td>\n",
              "      <td>82.0</td>\n",
              "      <td>57.0</td>\n",
              "      <td>1.0</td>\n",
              "      <td>The CLERK</td>\n",
              "      <td>Unknown</td>\n",
              "      <td>136.0</td>\n",
              "    </tr>\n",
              "    <tr>\n",
              "      <th>2</th>\n",
              "      <td>1000000002</td>\n",
              "      <td>The Chair would also like to state that Repres...</td>\n",
              "      <td>H</td>\n",
              "      <td>142.0</td>\n",
              "      <td>1987-01-06</td>\n",
              "      <td>01061987.txt</td>\n",
              "      <td>Unknown</td>\n",
              "      <td>Special</td>\n",
              "      <td>Unknown</td>\n",
              "      <td>88.0</td>\n",
              "      <td>84.0</td>\n",
              "      <td>2.0</td>\n",
              "      <td>The CLERK</td>\n",
              "      <td>Unknown</td>\n",
              "      <td>26.0</td>\n",
              "    </tr>\n",
              "    <tr>\n",
              "      <th>4</th>\n",
              "      <td>1000000003</td>\n",
              "      <td>The quor closes that 426 Represe have answered...</td>\n",
              "      <td>H</td>\n",
              "      <td>73.0</td>\n",
              "      <td>1987-01-06</td>\n",
              "      <td>01061987.txt</td>\n",
              "      <td>Unknown</td>\n",
              "      <td>Special</td>\n",
              "      <td>Unknown</td>\n",
              "      <td>539.0</td>\n",
              "      <td>536.0</td>\n",
              "      <td>3.0</td>\n",
              "      <td>The CLERK</td>\n",
              "      <td>Unknown</td>\n",
              "      <td>13.0</td>\n",
              "    </tr>\n",
              "    <tr>\n",
              "      <th>6</th>\n",
              "      <td>1000000004</td>\n",
              "      <td>The Clerk credentials regular in for received ...</td>\n",
              "      <td>H</td>\n",
              "      <td>253.0</td>\n",
              "      <td>1987-01-06</td>\n",
              "      <td>01061987.txt</td>\n",
              "      <td>Unknown</td>\n",
              "      <td>Special</td>\n",
              "      <td>Unknown</td>\n",
              "      <td>552.0</td>\n",
              "      <td>541.0</td>\n",
              "      <td>4.0</td>\n",
              "      <td>The CLERK</td>\n",
              "      <td>Unknown</td>\n",
              "      <td>43.0</td>\n",
              "    </tr>\n",
              "    <tr>\n",
              "      <th>8</th>\n",
              "      <td>1000000005</td>\n",
              "      <td>The next order of business is the election of ...</td>\n",
              "      <td>H</td>\n",
              "      <td>376.0</td>\n",
              "      <td>1987-01-06</td>\n",
              "      <td>01061987.txt</td>\n",
              "      <td>Unknown</td>\n",
              "      <td>Special</td>\n",
              "      <td>Unknown</td>\n",
              "      <td>580.0</td>\n",
              "      <td>554.0</td>\n",
              "      <td>5.0</td>\n",
              "      <td>The CLERK</td>\n",
              "      <td>Unknown</td>\n",
              "      <td>65.0</td>\n",
              "    </tr>\n",
              "  </tbody>\n",
              "</table>\n",
              "</div>"
            ],
            "text/plain": [
              "    speech_id                                             speech chamber  \\\n",
              "0  1000000001  Representativeselect to the 100th Congress. th...       H   \n",
              "2  1000000002  The Chair would also like to state that Repres...       H   \n",
              "4  1000000003  The quor closes that 426 Represe have answered...       H   \n",
              "6  1000000004  The Clerk credentials regular in for received ...       H   \n",
              "8  1000000005  The next order of business is the election of ...       H   \n",
              "\n",
              "   char_count       date          file first_name   gender last_name  \\\n",
              "0       851.0 1987-01-06  01061987.txt    Unknown  Special   Unknown   \n",
              "2       142.0 1987-01-06  01061987.txt    Unknown  Special   Unknown   \n",
              "4        73.0 1987-01-06  01061987.txt    Unknown  Special   Unknown   \n",
              "6       253.0 1987-01-06  01061987.txt    Unknown  Special   Unknown   \n",
              "8       376.0 1987-01-06  01061987.txt    Unknown  Special   Unknown   \n",
              "\n",
              "   line_end  line_start  number_within_file    speaker    state  word_count  \n",
              "0      82.0        57.0                 1.0  The CLERK  Unknown       136.0  \n",
              "2      88.0        84.0                 2.0  The CLERK  Unknown        26.0  \n",
              "4     539.0       536.0                 3.0  The CLERK  Unknown        13.0  \n",
              "6     552.0       541.0                 4.0  The CLERK  Unknown        43.0  \n",
              "8     580.0       554.0                 5.0  The CLERK  Unknown        65.0  "
            ]
          },
          "metadata": {
            "tags": []
          },
          "execution_count": 24
        }
      ]
    },
    {
      "cell_type": "code",
      "metadata": {
        "id": "atQkz5HhtOFo",
        "outputId": "cff96380-af39-4402-a9c2-a5c97c547fc5"
      },
      "source": [
        "all_data['year']=pd.DatetimeIndex(all_data['date']).year\n",
        "all_data.head()"
      ],
      "execution_count": null,
      "outputs": [
        {
          "output_type": "execute_result",
          "data": {
            "text/html": [
              "<div>\n",
              "<style scoped>\n",
              "    .dataframe tbody tr th:only-of-type {\n",
              "        vertical-align: middle;\n",
              "    }\n",
              "\n",
              "    .dataframe tbody tr th {\n",
              "        vertical-align: top;\n",
              "    }\n",
              "\n",
              "    .dataframe thead th {\n",
              "        text-align: right;\n",
              "    }\n",
              "</style>\n",
              "<table border=\"1\" class=\"dataframe\">\n",
              "  <thead>\n",
              "    <tr style=\"text-align: right;\">\n",
              "      <th></th>\n",
              "      <th>speech_id</th>\n",
              "      <th>speech</th>\n",
              "      <th>chamber</th>\n",
              "      <th>char_count</th>\n",
              "      <th>date</th>\n",
              "      <th>file</th>\n",
              "      <th>first_name</th>\n",
              "      <th>gender</th>\n",
              "      <th>last_name</th>\n",
              "      <th>line_end</th>\n",
              "      <th>line_start</th>\n",
              "      <th>number_within_file</th>\n",
              "      <th>speaker</th>\n",
              "      <th>state</th>\n",
              "      <th>word_count</th>\n",
              "      <th>year</th>\n",
              "    </tr>\n",
              "  </thead>\n",
              "  <tbody>\n",
              "    <tr>\n",
              "      <th>0</th>\n",
              "      <td>1000000001</td>\n",
              "      <td>Representativeselect to the 100th Congress. th...</td>\n",
              "      <td>H</td>\n",
              "      <td>851.0</td>\n",
              "      <td>1987-01-06</td>\n",
              "      <td>01061987.txt</td>\n",
              "      <td>Unknown</td>\n",
              "      <td>Special</td>\n",
              "      <td>Unknown</td>\n",
              "      <td>82.0</td>\n",
              "      <td>57.0</td>\n",
              "      <td>1.0</td>\n",
              "      <td>The CLERK</td>\n",
              "      <td>Unknown</td>\n",
              "      <td>136.0</td>\n",
              "      <td>1987</td>\n",
              "    </tr>\n",
              "    <tr>\n",
              "      <th>2</th>\n",
              "      <td>1000000002</td>\n",
              "      <td>The Chair would also like to state that Repres...</td>\n",
              "      <td>H</td>\n",
              "      <td>142.0</td>\n",
              "      <td>1987-01-06</td>\n",
              "      <td>01061987.txt</td>\n",
              "      <td>Unknown</td>\n",
              "      <td>Special</td>\n",
              "      <td>Unknown</td>\n",
              "      <td>88.0</td>\n",
              "      <td>84.0</td>\n",
              "      <td>2.0</td>\n",
              "      <td>The CLERK</td>\n",
              "      <td>Unknown</td>\n",
              "      <td>26.0</td>\n",
              "      <td>1987</td>\n",
              "    </tr>\n",
              "    <tr>\n",
              "      <th>4</th>\n",
              "      <td>1000000003</td>\n",
              "      <td>The quor closes that 426 Represe have answered...</td>\n",
              "      <td>H</td>\n",
              "      <td>73.0</td>\n",
              "      <td>1987-01-06</td>\n",
              "      <td>01061987.txt</td>\n",
              "      <td>Unknown</td>\n",
              "      <td>Special</td>\n",
              "      <td>Unknown</td>\n",
              "      <td>539.0</td>\n",
              "      <td>536.0</td>\n",
              "      <td>3.0</td>\n",
              "      <td>The CLERK</td>\n",
              "      <td>Unknown</td>\n",
              "      <td>13.0</td>\n",
              "      <td>1987</td>\n",
              "    </tr>\n",
              "    <tr>\n",
              "      <th>6</th>\n",
              "      <td>1000000004</td>\n",
              "      <td>The Clerk credentials regular in for received ...</td>\n",
              "      <td>H</td>\n",
              "      <td>253.0</td>\n",
              "      <td>1987-01-06</td>\n",
              "      <td>01061987.txt</td>\n",
              "      <td>Unknown</td>\n",
              "      <td>Special</td>\n",
              "      <td>Unknown</td>\n",
              "      <td>552.0</td>\n",
              "      <td>541.0</td>\n",
              "      <td>4.0</td>\n",
              "      <td>The CLERK</td>\n",
              "      <td>Unknown</td>\n",
              "      <td>43.0</td>\n",
              "      <td>1987</td>\n",
              "    </tr>\n",
              "    <tr>\n",
              "      <th>8</th>\n",
              "      <td>1000000005</td>\n",
              "      <td>The next order of business is the election of ...</td>\n",
              "      <td>H</td>\n",
              "      <td>376.0</td>\n",
              "      <td>1987-01-06</td>\n",
              "      <td>01061987.txt</td>\n",
              "      <td>Unknown</td>\n",
              "      <td>Special</td>\n",
              "      <td>Unknown</td>\n",
              "      <td>580.0</td>\n",
              "      <td>554.0</td>\n",
              "      <td>5.0</td>\n",
              "      <td>The CLERK</td>\n",
              "      <td>Unknown</td>\n",
              "      <td>65.0</td>\n",
              "      <td>1987</td>\n",
              "    </tr>\n",
              "  </tbody>\n",
              "</table>\n",
              "</div>"
            ],
            "text/plain": [
              "    speech_id                                             speech chamber  \\\n",
              "0  1000000001  Representativeselect to the 100th Congress. th...       H   \n",
              "2  1000000002  The Chair would also like to state that Repres...       H   \n",
              "4  1000000003  The quor closes that 426 Represe have answered...       H   \n",
              "6  1000000004  The Clerk credentials regular in for received ...       H   \n",
              "8  1000000005  The next order of business is the election of ...       H   \n",
              "\n",
              "   char_count       date          file first_name   gender last_name  \\\n",
              "0       851.0 1987-01-06  01061987.txt    Unknown  Special   Unknown   \n",
              "2       142.0 1987-01-06  01061987.txt    Unknown  Special   Unknown   \n",
              "4        73.0 1987-01-06  01061987.txt    Unknown  Special   Unknown   \n",
              "6       253.0 1987-01-06  01061987.txt    Unknown  Special   Unknown   \n",
              "8       376.0 1987-01-06  01061987.txt    Unknown  Special   Unknown   \n",
              "\n",
              "   line_end  line_start  number_within_file    speaker    state  word_count  \\\n",
              "0      82.0        57.0                 1.0  The CLERK  Unknown       136.0   \n",
              "2      88.0        84.0                 2.0  The CLERK  Unknown        26.0   \n",
              "4     539.0       536.0                 3.0  The CLERK  Unknown        13.0   \n",
              "6     552.0       541.0                 4.0  The CLERK  Unknown        43.0   \n",
              "8     580.0       554.0                 5.0  The CLERK  Unknown        65.0   \n",
              "\n",
              "   year  \n",
              "0  1987  \n",
              "2  1987  \n",
              "4  1987  \n",
              "6  1987  \n",
              "8  1987  "
            ]
          },
          "metadata": {
            "tags": []
          },
          "execution_count": 25
        }
      ]
    },
    {
      "cell_type": "code",
      "metadata": {
        "id": "yUui4TrftOFs",
        "outputId": "6464750e-8d40-4d00-dc91-031fe4361b36"
      },
      "source": [
        "all_data['month']=pd.DatetimeIndex(all_data['date']).month\n",
        "all_data.tail()"
      ],
      "execution_count": null,
      "outputs": [
        {
          "output_type": "execute_result",
          "data": {
            "text/html": [
              "<div>\n",
              "<style scoped>\n",
              "    .dataframe tbody tr th:only-of-type {\n",
              "        vertical-align: middle;\n",
              "    }\n",
              "\n",
              "    .dataframe tbody tr th {\n",
              "        vertical-align: top;\n",
              "    }\n",
              "\n",
              "    .dataframe thead th {\n",
              "        text-align: right;\n",
              "    }\n",
              "</style>\n",
              "<table border=\"1\" class=\"dataframe\">\n",
              "  <thead>\n",
              "    <tr style=\"text-align: right;\">\n",
              "      <th></th>\n",
              "      <th>speech_id</th>\n",
              "      <th>speech</th>\n",
              "      <th>chamber</th>\n",
              "      <th>char_count</th>\n",
              "      <th>date</th>\n",
              "      <th>file</th>\n",
              "      <th>first_name</th>\n",
              "      <th>gender</th>\n",
              "      <th>last_name</th>\n",
              "      <th>line_end</th>\n",
              "      <th>line_start</th>\n",
              "      <th>number_within_file</th>\n",
              "      <th>speaker</th>\n",
              "      <th>state</th>\n",
              "      <th>word_count</th>\n",
              "      <th>year</th>\n",
              "      <th>month</th>\n",
              "    </tr>\n",
              "  </thead>\n",
              "  <tbody>\n",
              "    <tr>\n",
              "      <th>5286192</th>\n",
              "      <td>1110179264</td>\n",
              "      <td>Madam Speaker. on rollcall Nos. 662 and 661. I...</td>\n",
              "      <td>E</td>\n",
              "      <td>118.0</td>\n",
              "      <td>2010-12-22</td>\n",
              "      <td>12222010.txt</td>\n",
              "      <td>Unknown</td>\n",
              "      <td>F</td>\n",
              "      <td>GRANGER</td>\n",
              "      <td>52716.0</td>\n",
              "      <td>52713.0</td>\n",
              "      <td>699.0</td>\n",
              "      <td>Ms. GRANGER</td>\n",
              "      <td>Unknown</td>\n",
              "      <td>23.0</td>\n",
              "      <td>2010</td>\n",
              "      <td>12</td>\n",
              "    </tr>\n",
              "    <tr>\n",
              "      <th>5286194</th>\n",
              "      <td>1110179265</td>\n",
              "      <td>Madam Speaker. as I leave Congress as the peop...</td>\n",
              "      <td>E</td>\n",
              "      <td>1251.0</td>\n",
              "      <td>2010-12-22</td>\n",
              "      <td>12222010.txt</td>\n",
              "      <td>Unknown</td>\n",
              "      <td>F</td>\n",
              "      <td>KILPATRICK</td>\n",
              "      <td>52755.0</td>\n",
              "      <td>52723.0</td>\n",
              "      <td>700.0</td>\n",
              "      <td>Ms. KILPATRICK of Michigan</td>\n",
              "      <td>Michigan</td>\n",
              "      <td>221.0</td>\n",
              "      <td>2010</td>\n",
              "      <td>12</td>\n",
              "    </tr>\n",
              "    <tr>\n",
              "      <th>5286196</th>\n",
              "      <td>1110179266</td>\n",
              "      <td>Madam Speaker. on rolicall No. 658. I was unav...</td>\n",
              "      <td>E</td>\n",
              "      <td>109.0</td>\n",
              "      <td>2010-12-22</td>\n",
              "      <td>12222010.txt</td>\n",
              "      <td>Unknown</td>\n",
              "      <td>M</td>\n",
              "      <td>HELLER</td>\n",
              "      <td>52763.0</td>\n",
              "      <td>52761.0</td>\n",
              "      <td>701.0</td>\n",
              "      <td>Mr. HELLER</td>\n",
              "      <td>Unknown</td>\n",
              "      <td>19.0</td>\n",
              "      <td>2010</td>\n",
              "      <td>12</td>\n",
              "    </tr>\n",
              "    <tr>\n",
              "      <th>5286198</th>\n",
              "      <td>1110179267</td>\n",
              "      <td>Madam Speaker. on rollcall No. 658 my flight w...</td>\n",
              "      <td>E</td>\n",
              "      <td>121.0</td>\n",
              "      <td>2010-12-22</td>\n",
              "      <td>12222010.txt</td>\n",
              "      <td>Unknown</td>\n",
              "      <td>M</td>\n",
              "      <td>PAULSEN</td>\n",
              "      <td>52772.0</td>\n",
              "      <td>52769.0</td>\n",
              "      <td>702.0</td>\n",
              "      <td>Mr. PAULSEN</td>\n",
              "      <td>Unknown</td>\n",
              "      <td>23.0</td>\n",
              "      <td>2010</td>\n",
              "      <td>12</td>\n",
              "    </tr>\n",
              "    <tr>\n",
              "      <th>5286200</th>\n",
              "      <td>1110179268</td>\n",
              "      <td>Madam Speaker. I wold like to submit the follo...</td>\n",
              "      <td>E</td>\n",
              "      <td>2952.0</td>\n",
              "      <td>2010-12-22</td>\n",
              "      <td>12222010.txt</td>\n",
              "      <td>Unknown</td>\n",
              "      <td>M</td>\n",
              "      <td>HALL</td>\n",
              "      <td>52860.0</td>\n",
              "      <td>52779.0</td>\n",
              "      <td>703.0</td>\n",
              "      <td>Mr. HALL of New York</td>\n",
              "      <td>New York</td>\n",
              "      <td>446.0</td>\n",
              "      <td>2010</td>\n",
              "      <td>12</td>\n",
              "    </tr>\n",
              "  </tbody>\n",
              "</table>\n",
              "</div>"
            ],
            "text/plain": [
              "          speech_id                                             speech  \\\n",
              "5286192  1110179264  Madam Speaker. on rollcall Nos. 662 and 661. I...   \n",
              "5286194  1110179265  Madam Speaker. as I leave Congress as the peop...   \n",
              "5286196  1110179266  Madam Speaker. on rolicall No. 658. I was unav...   \n",
              "5286198  1110179267  Madam Speaker. on rollcall No. 658 my flight w...   \n",
              "5286200  1110179268  Madam Speaker. I wold like to submit the follo...   \n",
              "\n",
              "        chamber  char_count       date          file first_name gender  \\\n",
              "5286192       E       118.0 2010-12-22  12222010.txt    Unknown      F   \n",
              "5286194       E      1251.0 2010-12-22  12222010.txt    Unknown      F   \n",
              "5286196       E       109.0 2010-12-22  12222010.txt    Unknown      M   \n",
              "5286198       E       121.0 2010-12-22  12222010.txt    Unknown      M   \n",
              "5286200       E      2952.0 2010-12-22  12222010.txt    Unknown      M   \n",
              "\n",
              "          last_name  line_end  line_start  number_within_file  \\\n",
              "5286192     GRANGER   52716.0     52713.0               699.0   \n",
              "5286194  KILPATRICK   52755.0     52723.0               700.0   \n",
              "5286196      HELLER   52763.0     52761.0               701.0   \n",
              "5286198     PAULSEN   52772.0     52769.0               702.0   \n",
              "5286200        HALL   52860.0     52779.0               703.0   \n",
              "\n",
              "                            speaker     state  word_count  year  month  \n",
              "5286192                 Ms. GRANGER   Unknown        23.0  2010     12  \n",
              "5286194  Ms. KILPATRICK of Michigan  Michigan       221.0  2010     12  \n",
              "5286196                  Mr. HELLER   Unknown        19.0  2010     12  \n",
              "5286198                 Mr. PAULSEN   Unknown        23.0  2010     12  \n",
              "5286200        Mr. HALL of New York  New York       446.0  2010     12  "
            ]
          },
          "metadata": {
            "tags": []
          },
          "execution_count": 26
        }
      ]
    },
    {
      "cell_type": "markdown",
      "metadata": {
        "id": "s9R5DjV2tOF4"
      },
      "source": [
        "To count the number of words for each year, we can use `groupby()` followed by another method, `.sum()`. The process where we invoke one method after another is called \"chaining.\""
      ]
    },
    {
      "cell_type": "code",
      "metadata": {
        "id": "_Vrjg8UltOF5",
        "outputId": "2e3e553e-1f37-4065-8861-0826b8c91c09"
      },
      "source": [
        "# create a period variable called month_year\n",
        "all_data['month_year'] = pd.to_datetime(all_data['date']).dt.to_period('M')\n",
        "all_data.head()"
      ],
      "execution_count": null,
      "outputs": [
        {
          "output_type": "execute_result",
          "data": {
            "text/html": [
              "<div>\n",
              "<style scoped>\n",
              "    .dataframe tbody tr th:only-of-type {\n",
              "        vertical-align: middle;\n",
              "    }\n",
              "\n",
              "    .dataframe tbody tr th {\n",
              "        vertical-align: top;\n",
              "    }\n",
              "\n",
              "    .dataframe thead th {\n",
              "        text-align: right;\n",
              "    }\n",
              "</style>\n",
              "<table border=\"1\" class=\"dataframe\">\n",
              "  <thead>\n",
              "    <tr style=\"text-align: right;\">\n",
              "      <th></th>\n",
              "      <th>speech_id</th>\n",
              "      <th>speech</th>\n",
              "      <th>chamber</th>\n",
              "      <th>char_count</th>\n",
              "      <th>date</th>\n",
              "      <th>file</th>\n",
              "      <th>first_name</th>\n",
              "      <th>gender</th>\n",
              "      <th>last_name</th>\n",
              "      <th>line_end</th>\n",
              "      <th>line_start</th>\n",
              "      <th>number_within_file</th>\n",
              "      <th>speaker</th>\n",
              "      <th>state</th>\n",
              "      <th>word_count</th>\n",
              "      <th>year</th>\n",
              "      <th>month</th>\n",
              "      <th>month_year</th>\n",
              "    </tr>\n",
              "  </thead>\n",
              "  <tbody>\n",
              "    <tr>\n",
              "      <th>0</th>\n",
              "      <td>1000000001</td>\n",
              "      <td>Representativeselect to the 100th Congress. th...</td>\n",
              "      <td>H</td>\n",
              "      <td>851.0</td>\n",
              "      <td>1987-01-06</td>\n",
              "      <td>01061987.txt</td>\n",
              "      <td>Unknown</td>\n",
              "      <td>Special</td>\n",
              "      <td>Unknown</td>\n",
              "      <td>82.0</td>\n",
              "      <td>57.0</td>\n",
              "      <td>1.0</td>\n",
              "      <td>The CLERK</td>\n",
              "      <td>Unknown</td>\n",
              "      <td>136.0</td>\n",
              "      <td>1987</td>\n",
              "      <td>1</td>\n",
              "      <td>1987-01</td>\n",
              "    </tr>\n",
              "    <tr>\n",
              "      <th>2</th>\n",
              "      <td>1000000002</td>\n",
              "      <td>The Chair would also like to state that Repres...</td>\n",
              "      <td>H</td>\n",
              "      <td>142.0</td>\n",
              "      <td>1987-01-06</td>\n",
              "      <td>01061987.txt</td>\n",
              "      <td>Unknown</td>\n",
              "      <td>Special</td>\n",
              "      <td>Unknown</td>\n",
              "      <td>88.0</td>\n",
              "      <td>84.0</td>\n",
              "      <td>2.0</td>\n",
              "      <td>The CLERK</td>\n",
              "      <td>Unknown</td>\n",
              "      <td>26.0</td>\n",
              "      <td>1987</td>\n",
              "      <td>1</td>\n",
              "      <td>1987-01</td>\n",
              "    </tr>\n",
              "    <tr>\n",
              "      <th>4</th>\n",
              "      <td>1000000003</td>\n",
              "      <td>The quor closes that 426 Represe have answered...</td>\n",
              "      <td>H</td>\n",
              "      <td>73.0</td>\n",
              "      <td>1987-01-06</td>\n",
              "      <td>01061987.txt</td>\n",
              "      <td>Unknown</td>\n",
              "      <td>Special</td>\n",
              "      <td>Unknown</td>\n",
              "      <td>539.0</td>\n",
              "      <td>536.0</td>\n",
              "      <td>3.0</td>\n",
              "      <td>The CLERK</td>\n",
              "      <td>Unknown</td>\n",
              "      <td>13.0</td>\n",
              "      <td>1987</td>\n",
              "      <td>1</td>\n",
              "      <td>1987-01</td>\n",
              "    </tr>\n",
              "    <tr>\n",
              "      <th>6</th>\n",
              "      <td>1000000004</td>\n",
              "      <td>The Clerk credentials regular in for received ...</td>\n",
              "      <td>H</td>\n",
              "      <td>253.0</td>\n",
              "      <td>1987-01-06</td>\n",
              "      <td>01061987.txt</td>\n",
              "      <td>Unknown</td>\n",
              "      <td>Special</td>\n",
              "      <td>Unknown</td>\n",
              "      <td>552.0</td>\n",
              "      <td>541.0</td>\n",
              "      <td>4.0</td>\n",
              "      <td>The CLERK</td>\n",
              "      <td>Unknown</td>\n",
              "      <td>43.0</td>\n",
              "      <td>1987</td>\n",
              "      <td>1</td>\n",
              "      <td>1987-01</td>\n",
              "    </tr>\n",
              "    <tr>\n",
              "      <th>8</th>\n",
              "      <td>1000000005</td>\n",
              "      <td>The next order of business is the election of ...</td>\n",
              "      <td>H</td>\n",
              "      <td>376.0</td>\n",
              "      <td>1987-01-06</td>\n",
              "      <td>01061987.txt</td>\n",
              "      <td>Unknown</td>\n",
              "      <td>Special</td>\n",
              "      <td>Unknown</td>\n",
              "      <td>580.0</td>\n",
              "      <td>554.0</td>\n",
              "      <td>5.0</td>\n",
              "      <td>The CLERK</td>\n",
              "      <td>Unknown</td>\n",
              "      <td>65.0</td>\n",
              "      <td>1987</td>\n",
              "      <td>1</td>\n",
              "      <td>1987-01</td>\n",
              "    </tr>\n",
              "  </tbody>\n",
              "</table>\n",
              "</div>"
            ],
            "text/plain": [
              "    speech_id                                             speech chamber  \\\n",
              "0  1000000001  Representativeselect to the 100th Congress. th...       H   \n",
              "2  1000000002  The Chair would also like to state that Repres...       H   \n",
              "4  1000000003  The quor closes that 426 Represe have answered...       H   \n",
              "6  1000000004  The Clerk credentials regular in for received ...       H   \n",
              "8  1000000005  The next order of business is the election of ...       H   \n",
              "\n",
              "   char_count       date          file first_name   gender last_name  \\\n",
              "0       851.0 1987-01-06  01061987.txt    Unknown  Special   Unknown   \n",
              "2       142.0 1987-01-06  01061987.txt    Unknown  Special   Unknown   \n",
              "4        73.0 1987-01-06  01061987.txt    Unknown  Special   Unknown   \n",
              "6       253.0 1987-01-06  01061987.txt    Unknown  Special   Unknown   \n",
              "8       376.0 1987-01-06  01061987.txt    Unknown  Special   Unknown   \n",
              "\n",
              "   line_end  line_start  number_within_file    speaker    state  word_count  \\\n",
              "0      82.0        57.0                 1.0  The CLERK  Unknown       136.0   \n",
              "2      88.0        84.0                 2.0  The CLERK  Unknown        26.0   \n",
              "4     539.0       536.0                 3.0  The CLERK  Unknown        13.0   \n",
              "6     552.0       541.0                 4.0  The CLERK  Unknown        43.0   \n",
              "8     580.0       554.0                 5.0  The CLERK  Unknown        65.0   \n",
              "\n",
              "   year  month month_year  \n",
              "0  1987      1    1987-01  \n",
              "2  1987      1    1987-01  \n",
              "4  1987      1    1987-01  \n",
              "6  1987      1    1987-01  \n",
              "8  1987      1    1987-01  "
            ]
          },
          "metadata": {
            "tags": []
          },
          "execution_count": 27
        }
      ]
    },
    {
      "cell_type": "code",
      "metadata": {
        "id": "butaSitftOF8",
        "outputId": "b2ce59e0-aa14-4af3-8b5b-04ddba4d3707"
      },
      "source": [
        "# convert month-year back to date format for easier plotting later (this normalizes the field to a kind of date that matplotlib likes)\n",
        "all_data['month_year'] =all_data.month_year.values.astype('datetime64[M]')\n",
        "all_data.head()"
      ],
      "execution_count": null,
      "outputs": [
        {
          "output_type": "execute_result",
          "data": {
            "text/html": [
              "<div>\n",
              "<style scoped>\n",
              "    .dataframe tbody tr th:only-of-type {\n",
              "        vertical-align: middle;\n",
              "    }\n",
              "\n",
              "    .dataframe tbody tr th {\n",
              "        vertical-align: top;\n",
              "    }\n",
              "\n",
              "    .dataframe thead th {\n",
              "        text-align: right;\n",
              "    }\n",
              "</style>\n",
              "<table border=\"1\" class=\"dataframe\">\n",
              "  <thead>\n",
              "    <tr style=\"text-align: right;\">\n",
              "      <th></th>\n",
              "      <th>speech_id</th>\n",
              "      <th>speech</th>\n",
              "      <th>chamber</th>\n",
              "      <th>char_count</th>\n",
              "      <th>date</th>\n",
              "      <th>file</th>\n",
              "      <th>first_name</th>\n",
              "      <th>gender</th>\n",
              "      <th>last_name</th>\n",
              "      <th>line_end</th>\n",
              "      <th>line_start</th>\n",
              "      <th>number_within_file</th>\n",
              "      <th>speaker</th>\n",
              "      <th>state</th>\n",
              "      <th>word_count</th>\n",
              "      <th>year</th>\n",
              "      <th>month</th>\n",
              "      <th>month_year</th>\n",
              "    </tr>\n",
              "  </thead>\n",
              "  <tbody>\n",
              "    <tr>\n",
              "      <th>0</th>\n",
              "      <td>1000000001</td>\n",
              "      <td>Representativeselect to the 100th Congress. th...</td>\n",
              "      <td>H</td>\n",
              "      <td>851.0</td>\n",
              "      <td>1987-01-06</td>\n",
              "      <td>01061987.txt</td>\n",
              "      <td>Unknown</td>\n",
              "      <td>Special</td>\n",
              "      <td>Unknown</td>\n",
              "      <td>82.0</td>\n",
              "      <td>57.0</td>\n",
              "      <td>1.0</td>\n",
              "      <td>The CLERK</td>\n",
              "      <td>Unknown</td>\n",
              "      <td>136.0</td>\n",
              "      <td>1987</td>\n",
              "      <td>1</td>\n",
              "      <td>1987-01-01</td>\n",
              "    </tr>\n",
              "    <tr>\n",
              "      <th>2</th>\n",
              "      <td>1000000002</td>\n",
              "      <td>The Chair would also like to state that Repres...</td>\n",
              "      <td>H</td>\n",
              "      <td>142.0</td>\n",
              "      <td>1987-01-06</td>\n",
              "      <td>01061987.txt</td>\n",
              "      <td>Unknown</td>\n",
              "      <td>Special</td>\n",
              "      <td>Unknown</td>\n",
              "      <td>88.0</td>\n",
              "      <td>84.0</td>\n",
              "      <td>2.0</td>\n",
              "      <td>The CLERK</td>\n",
              "      <td>Unknown</td>\n",
              "      <td>26.0</td>\n",
              "      <td>1987</td>\n",
              "      <td>1</td>\n",
              "      <td>1987-01-01</td>\n",
              "    </tr>\n",
              "    <tr>\n",
              "      <th>4</th>\n",
              "      <td>1000000003</td>\n",
              "      <td>The quor closes that 426 Represe have answered...</td>\n",
              "      <td>H</td>\n",
              "      <td>73.0</td>\n",
              "      <td>1987-01-06</td>\n",
              "      <td>01061987.txt</td>\n",
              "      <td>Unknown</td>\n",
              "      <td>Special</td>\n",
              "      <td>Unknown</td>\n",
              "      <td>539.0</td>\n",
              "      <td>536.0</td>\n",
              "      <td>3.0</td>\n",
              "      <td>The CLERK</td>\n",
              "      <td>Unknown</td>\n",
              "      <td>13.0</td>\n",
              "      <td>1987</td>\n",
              "      <td>1</td>\n",
              "      <td>1987-01-01</td>\n",
              "    </tr>\n",
              "    <tr>\n",
              "      <th>6</th>\n",
              "      <td>1000000004</td>\n",
              "      <td>The Clerk credentials regular in for received ...</td>\n",
              "      <td>H</td>\n",
              "      <td>253.0</td>\n",
              "      <td>1987-01-06</td>\n",
              "      <td>01061987.txt</td>\n",
              "      <td>Unknown</td>\n",
              "      <td>Special</td>\n",
              "      <td>Unknown</td>\n",
              "      <td>552.0</td>\n",
              "      <td>541.0</td>\n",
              "      <td>4.0</td>\n",
              "      <td>The CLERK</td>\n",
              "      <td>Unknown</td>\n",
              "      <td>43.0</td>\n",
              "      <td>1987</td>\n",
              "      <td>1</td>\n",
              "      <td>1987-01-01</td>\n",
              "    </tr>\n",
              "    <tr>\n",
              "      <th>8</th>\n",
              "      <td>1000000005</td>\n",
              "      <td>The next order of business is the election of ...</td>\n",
              "      <td>H</td>\n",
              "      <td>376.0</td>\n",
              "      <td>1987-01-06</td>\n",
              "      <td>01061987.txt</td>\n",
              "      <td>Unknown</td>\n",
              "      <td>Special</td>\n",
              "      <td>Unknown</td>\n",
              "      <td>580.0</td>\n",
              "      <td>554.0</td>\n",
              "      <td>5.0</td>\n",
              "      <td>The CLERK</td>\n",
              "      <td>Unknown</td>\n",
              "      <td>65.0</td>\n",
              "      <td>1987</td>\n",
              "      <td>1</td>\n",
              "      <td>1987-01-01</td>\n",
              "    </tr>\n",
              "  </tbody>\n",
              "</table>\n",
              "</div>"
            ],
            "text/plain": [
              "    speech_id                                             speech chamber  \\\n",
              "0  1000000001  Representativeselect to the 100th Congress. th...       H   \n",
              "2  1000000002  The Chair would also like to state that Repres...       H   \n",
              "4  1000000003  The quor closes that 426 Represe have answered...       H   \n",
              "6  1000000004  The Clerk credentials regular in for received ...       H   \n",
              "8  1000000005  The next order of business is the election of ...       H   \n",
              "\n",
              "   char_count       date          file first_name   gender last_name  \\\n",
              "0       851.0 1987-01-06  01061987.txt    Unknown  Special   Unknown   \n",
              "2       142.0 1987-01-06  01061987.txt    Unknown  Special   Unknown   \n",
              "4        73.0 1987-01-06  01061987.txt    Unknown  Special   Unknown   \n",
              "6       253.0 1987-01-06  01061987.txt    Unknown  Special   Unknown   \n",
              "8       376.0 1987-01-06  01061987.txt    Unknown  Special   Unknown   \n",
              "\n",
              "   line_end  line_start  number_within_file    speaker    state  word_count  \\\n",
              "0      82.0        57.0                 1.0  The CLERK  Unknown       136.0   \n",
              "2      88.0        84.0                 2.0  The CLERK  Unknown        26.0   \n",
              "4     539.0       536.0                 3.0  The CLERK  Unknown        13.0   \n",
              "6     552.0       541.0                 4.0  The CLERK  Unknown        43.0   \n",
              "8     580.0       554.0                 5.0  The CLERK  Unknown        65.0   \n",
              "\n",
              "   year  month month_year  \n",
              "0  1987      1 1987-01-01  \n",
              "2  1987      1 1987-01-01  \n",
              "4  1987      1 1987-01-01  \n",
              "6  1987      1 1987-01-01  \n",
              "8  1987      1 1987-01-01  "
            ]
          },
          "metadata": {
            "tags": []
          },
          "execution_count": 28
        }
      ]
    },
    {
      "cell_type": "markdown",
      "metadata": {
        "id": "rN5tEqhhtOGI"
      },
      "source": [
        "Now that we have a standardize month_year variable, we can ask the computer to group all words that were spoken in that month together and measure how many words, total, were spoken in that month.  \n",
        "\n",
        "Notice the use of 'groupby'."
      ]
    },
    {
      "cell_type": "code",
      "metadata": {
        "id": "Gg_t4VuJtOGJ",
        "outputId": "7726c60f-8dcc-4185-95c4-6a367ea24772"
      },
      "source": [
        "#year_counts = all_data.groupby(['month_year']).sum() # notice the use of groupby!  \n",
        "#year_counts = year_counts['word_count'] # we only need one column\n",
        "#year_counts\n",
        "\n",
        "year_counts = all_data.groupby(['month_year']).sum().copy() # Steph added `.copy`: ditto below \n",
        "\n",
        "year_counts"
      ],
      "execution_count": null,
      "outputs": [
        {
          "output_type": "execute_result",
          "data": {
            "text/html": [
              "<div>\n",
              "<style scoped>\n",
              "    .dataframe tbody tr th:only-of-type {\n",
              "        vertical-align: middle;\n",
              "    }\n",
              "\n",
              "    .dataframe tbody tr th {\n",
              "        vertical-align: top;\n",
              "    }\n",
              "\n",
              "    .dataframe thead th {\n",
              "        text-align: right;\n",
              "    }\n",
              "</style>\n",
              "<table border=\"1\" class=\"dataframe\">\n",
              "  <thead>\n",
              "    <tr style=\"text-align: right;\">\n",
              "      <th></th>\n",
              "      <th>speech_id</th>\n",
              "      <th>char_count</th>\n",
              "      <th>line_end</th>\n",
              "      <th>line_start</th>\n",
              "      <th>number_within_file</th>\n",
              "      <th>word_count</th>\n",
              "      <th>year</th>\n",
              "      <th>month</th>\n",
              "    </tr>\n",
              "    <tr>\n",
              "      <th>month_year</th>\n",
              "      <th></th>\n",
              "      <th></th>\n",
              "      <th></th>\n",
              "      <th></th>\n",
              "      <th></th>\n",
              "      <th></th>\n",
              "      <th></th>\n",
              "      <th></th>\n",
              "    </tr>\n",
              "  </thead>\n",
              "  <tbody>\n",
              "    <tr>\n",
              "      <th>1987-01-01</th>\n",
              "      <td>5447014837628</td>\n",
              "      <td>7162179.0</td>\n",
              "      <td>167971901.0</td>\n",
              "      <td>167764585.0</td>\n",
              "      <td>1604436.0</td>\n",
              "      <td>1186313.0</td>\n",
              "      <td>10823189</td>\n",
              "      <td>5447</td>\n",
              "    </tr>\n",
              "    <tr>\n",
              "      <th>1987-02-01</th>\n",
              "      <td>4716036810738</td>\n",
              "      <td>6189380.0</td>\n",
              "      <td>111501362.0</td>\n",
              "      <td>111322813.0</td>\n",
              "      <td>1235496.0</td>\n",
              "      <td>1025105.0</td>\n",
              "      <td>9370692</td>\n",
              "      <td>9432</td>\n",
              "    </tr>\n",
              "    <tr>\n",
              "      <th>1987-03-01</th>\n",
              "      <td>10208155850640</td>\n",
              "      <td>11947987.0</td>\n",
              "      <td>206765640.0</td>\n",
              "      <td>206418905.0</td>\n",
              "      <td>3336935.0</td>\n",
              "      <td>1996218.0</td>\n",
              "      <td>20283296</td>\n",
              "      <td>30624</td>\n",
              "    </tr>\n",
              "    <tr>\n",
              "      <th>1987-04-01</th>\n",
              "      <td>11549301960548</td>\n",
              "      <td>11641694.0</td>\n",
              "      <td>300294353.0</td>\n",
              "      <td>299954497.0</td>\n",
              "      <td>5559467.0</td>\n",
              "      <td>1958265.0</td>\n",
              "      <td>22947863</td>\n",
              "      <td>46196</td>\n",
              "    </tr>\n",
              "    <tr>\n",
              "      <th>1987-05-01</th>\n",
              "      <td>15555617527477</td>\n",
              "      <td>13012696.0</td>\n",
              "      <td>351270937.0</td>\n",
              "      <td>350889763.0</td>\n",
              "      <td>8505769.0</td>\n",
              "      <td>2194226.0</td>\n",
              "      <td>30907785</td>\n",
              "      <td>77775</td>\n",
              "    </tr>\n",
              "    <tr>\n",
              "      <th>...</th>\n",
              "      <td>...</td>\n",
              "      <td>...</td>\n",
              "      <td>...</td>\n",
              "      <td>...</td>\n",
              "      <td>...</td>\n",
              "      <td>...</td>\n",
              "      <td>...</td>\n",
              "      <td>...</td>\n",
              "    </tr>\n",
              "    <tr>\n",
              "      <th>2010-08-01</th>\n",
              "      <td>1855074913656</td>\n",
              "      <td>2129093.0</td>\n",
              "      <td>27868538.0</td>\n",
              "      <td>27806220.0</td>\n",
              "      <td>335567.0</td>\n",
              "      <td>360153.0</td>\n",
              "      <td>3358710</td>\n",
              "      <td>13368</td>\n",
              "    </tr>\n",
              "    <tr>\n",
              "      <th>2010-09-01</th>\n",
              "      <td>7831089086019</td>\n",
              "      <td>7940362.0</td>\n",
              "      <td>223638067.0</td>\n",
              "      <td>223411875.0</td>\n",
              "      <td>3478988.0</td>\n",
              "      <td>1336598.0</td>\n",
              "      <td>14178540</td>\n",
              "      <td>63486</td>\n",
              "    </tr>\n",
              "    <tr>\n",
              "      <th>2010-10-01</th>\n",
              "      <td>19982995821</td>\n",
              "      <td>3007.0</td>\n",
              "      <td>637.0</td>\n",
              "      <td>535.0</td>\n",
              "      <td>27.0</td>\n",
              "      <td>523.0</td>\n",
              "      <td>36180</td>\n",
              "      <td>180</td>\n",
              "    </tr>\n",
              "    <tr>\n",
              "      <th>2010-11-01</th>\n",
              "      <td>3371580100594</td>\n",
              "      <td>3930523.0</td>\n",
              "      <td>68505326.0</td>\n",
              "      <td>68391953.0</td>\n",
              "      <td>934602.0</td>\n",
              "      <td>665953.0</td>\n",
              "      <td>6104370</td>\n",
              "      <td>33407</td>\n",
              "    </tr>\n",
              "    <tr>\n",
              "      <th>2010-12-01</th>\n",
              "      <td>10866386777606</td>\n",
              "      <td>12214068.0</td>\n",
              "      <td>243408947.0</td>\n",
              "      <td>243054178.0</td>\n",
              "      <td>3540570.0</td>\n",
              "      <td>2103020.0</td>\n",
              "      <td>19673880</td>\n",
              "      <td>117456</td>\n",
              "    </tr>\n",
              "  </tbody>\n",
              "</table>\n",
              "<p>271 rows × 8 columns</p>\n",
              "</div>"
            ],
            "text/plain": [
              "                 speech_id  char_count     line_end   line_start  \\\n",
              "month_year                                                         \n",
              "1987-01-01   5447014837628   7162179.0  167971901.0  167764585.0   \n",
              "1987-02-01   4716036810738   6189380.0  111501362.0  111322813.0   \n",
              "1987-03-01  10208155850640  11947987.0  206765640.0  206418905.0   \n",
              "1987-04-01  11549301960548  11641694.0  300294353.0  299954497.0   \n",
              "1987-05-01  15555617527477  13012696.0  351270937.0  350889763.0   \n",
              "...                    ...         ...          ...          ...   \n",
              "2010-08-01   1855074913656   2129093.0   27868538.0   27806220.0   \n",
              "2010-09-01   7831089086019   7940362.0  223638067.0  223411875.0   \n",
              "2010-10-01     19982995821      3007.0        637.0        535.0   \n",
              "2010-11-01   3371580100594   3930523.0   68505326.0   68391953.0   \n",
              "2010-12-01  10866386777606  12214068.0  243408947.0  243054178.0   \n",
              "\n",
              "            number_within_file  word_count      year   month  \n",
              "month_year                                                    \n",
              "1987-01-01           1604436.0   1186313.0  10823189    5447  \n",
              "1987-02-01           1235496.0   1025105.0   9370692    9432  \n",
              "1987-03-01           3336935.0   1996218.0  20283296   30624  \n",
              "1987-04-01           5559467.0   1958265.0  22947863   46196  \n",
              "1987-05-01           8505769.0   2194226.0  30907785   77775  \n",
              "...                        ...         ...       ...     ...  \n",
              "2010-08-01            335567.0    360153.0   3358710   13368  \n",
              "2010-09-01           3478988.0   1336598.0  14178540   63486  \n",
              "2010-10-01                27.0       523.0     36180     180  \n",
              "2010-11-01            934602.0    665953.0   6104370   33407  \n",
              "2010-12-01           3540570.0   2103020.0  19673880  117456  \n",
              "\n",
              "[271 rows x 8 columns]"
            ]
          },
          "metadata": {
            "tags": []
          },
          "execution_count": 39
        }
      ]
    },
    {
      "cell_type": "code",
      "metadata": {
        "id": "IwselOIltOGQ",
        "outputId": "b012d442-1e9a-49c4-8051-6766536f381f"
      },
      "source": [
        "test = year_counts[['word_count']].copy() # Steph added `.copy()`. Without `.copy`, the new variable you create is actually a reference\n",
        "# to the original data frame, not a new subset that just contains word_count. Steph also added double backets so that we would keep a DataFrame, not a series object.\n",
        "# since more processing is required, staying within a DF probably gives us more tools we want\n",
        "\n",
        "test"
      ],
      "execution_count": null,
      "outputs": [
        {
          "output_type": "execute_result",
          "data": {
            "text/html": [
              "<div>\n",
              "<style scoped>\n",
              "    .dataframe tbody tr th:only-of-type {\n",
              "        vertical-align: middle;\n",
              "    }\n",
              "\n",
              "    .dataframe tbody tr th {\n",
              "        vertical-align: top;\n",
              "    }\n",
              "\n",
              "    .dataframe thead th {\n",
              "        text-align: right;\n",
              "    }\n",
              "</style>\n",
              "<table border=\"1\" class=\"dataframe\">\n",
              "  <thead>\n",
              "    <tr style=\"text-align: right;\">\n",
              "      <th></th>\n",
              "      <th>word_count</th>\n",
              "    </tr>\n",
              "    <tr>\n",
              "      <th>month_year</th>\n",
              "      <th></th>\n",
              "    </tr>\n",
              "  </thead>\n",
              "  <tbody>\n",
              "    <tr>\n",
              "      <th>1987-01-01</th>\n",
              "      <td>1186313.0</td>\n",
              "    </tr>\n",
              "    <tr>\n",
              "      <th>1987-02-01</th>\n",
              "      <td>1025105.0</td>\n",
              "    </tr>\n",
              "    <tr>\n",
              "      <th>1987-03-01</th>\n",
              "      <td>1996218.0</td>\n",
              "    </tr>\n",
              "    <tr>\n",
              "      <th>1987-04-01</th>\n",
              "      <td>1958265.0</td>\n",
              "    </tr>\n",
              "    <tr>\n",
              "      <th>1987-05-01</th>\n",
              "      <td>2194226.0</td>\n",
              "    </tr>\n",
              "    <tr>\n",
              "      <th>...</th>\n",
              "      <td>...</td>\n",
              "    </tr>\n",
              "    <tr>\n",
              "      <th>2010-08-01</th>\n",
              "      <td>360153.0</td>\n",
              "    </tr>\n",
              "    <tr>\n",
              "      <th>2010-09-01</th>\n",
              "      <td>1336598.0</td>\n",
              "    </tr>\n",
              "    <tr>\n",
              "      <th>2010-10-01</th>\n",
              "      <td>523.0</td>\n",
              "    </tr>\n",
              "    <tr>\n",
              "      <th>2010-11-01</th>\n",
              "      <td>665953.0</td>\n",
              "    </tr>\n",
              "    <tr>\n",
              "      <th>2010-12-01</th>\n",
              "      <td>2103020.0</td>\n",
              "    </tr>\n",
              "  </tbody>\n",
              "</table>\n",
              "<p>271 rows × 1 columns</p>\n",
              "</div>"
            ],
            "text/plain": [
              "            word_count\n",
              "month_year            \n",
              "1987-01-01   1186313.0\n",
              "1987-02-01   1025105.0\n",
              "1987-03-01   1996218.0\n",
              "1987-04-01   1958265.0\n",
              "1987-05-01   2194226.0\n",
              "...                ...\n",
              "2010-08-01    360153.0\n",
              "2010-09-01   1336598.0\n",
              "2010-10-01       523.0\n",
              "2010-11-01    665953.0\n",
              "2010-12-01   2103020.0\n",
              "\n",
              "[271 rows x 1 columns]"
            ]
          },
          "metadata": {
            "tags": []
          },
          "execution_count": 30
        }
      ]
    },
    {
      "cell_type": "code",
      "metadata": {
        "id": "2ovTmUqmtOGU",
        "outputId": "c95f7c2e-e9b7-45fe-acf3-dc9291b58779"
      },
      "source": [
        "# in the above DF, month_year is not a column like word_count. month_year is an index. Indexes don't allow the same operations as columns, so if we want to extract\n",
        "# the year, it's probably easiest to transform the index to a column. The following code does this by \"resetting the index\" \n",
        "\n",
        "\n",
        "test.reset_index(level=0, inplace=True)\n",
        "\n",
        "test"
      ],
      "execution_count": null,
      "outputs": [
        {
          "output_type": "execute_result",
          "data": {
            "text/html": [
              "<div>\n",
              "<style scoped>\n",
              "    .dataframe tbody tr th:only-of-type {\n",
              "        vertical-align: middle;\n",
              "    }\n",
              "\n",
              "    .dataframe tbody tr th {\n",
              "        vertical-align: top;\n",
              "    }\n",
              "\n",
              "    .dataframe thead th {\n",
              "        text-align: right;\n",
              "    }\n",
              "</style>\n",
              "<table border=\"1\" class=\"dataframe\">\n",
              "  <thead>\n",
              "    <tr style=\"text-align: right;\">\n",
              "      <th></th>\n",
              "      <th>month_year</th>\n",
              "      <th>word_count</th>\n",
              "    </tr>\n",
              "  </thead>\n",
              "  <tbody>\n",
              "    <tr>\n",
              "      <th>0</th>\n",
              "      <td>1987-01-01</td>\n",
              "      <td>1186313.0</td>\n",
              "    </tr>\n",
              "    <tr>\n",
              "      <th>1</th>\n",
              "      <td>1987-02-01</td>\n",
              "      <td>1025105.0</td>\n",
              "    </tr>\n",
              "    <tr>\n",
              "      <th>2</th>\n",
              "      <td>1987-03-01</td>\n",
              "      <td>1996218.0</td>\n",
              "    </tr>\n",
              "    <tr>\n",
              "      <th>3</th>\n",
              "      <td>1987-04-01</td>\n",
              "      <td>1958265.0</td>\n",
              "    </tr>\n",
              "    <tr>\n",
              "      <th>4</th>\n",
              "      <td>1987-05-01</td>\n",
              "      <td>2194226.0</td>\n",
              "    </tr>\n",
              "    <tr>\n",
              "      <th>...</th>\n",
              "      <td>...</td>\n",
              "      <td>...</td>\n",
              "    </tr>\n",
              "    <tr>\n",
              "      <th>266</th>\n",
              "      <td>2010-08-01</td>\n",
              "      <td>360153.0</td>\n",
              "    </tr>\n",
              "    <tr>\n",
              "      <th>267</th>\n",
              "      <td>2010-09-01</td>\n",
              "      <td>1336598.0</td>\n",
              "    </tr>\n",
              "    <tr>\n",
              "      <th>268</th>\n",
              "      <td>2010-10-01</td>\n",
              "      <td>523.0</td>\n",
              "    </tr>\n",
              "    <tr>\n",
              "      <th>269</th>\n",
              "      <td>2010-11-01</td>\n",
              "      <td>665953.0</td>\n",
              "    </tr>\n",
              "    <tr>\n",
              "      <th>270</th>\n",
              "      <td>2010-12-01</td>\n",
              "      <td>2103020.0</td>\n",
              "    </tr>\n",
              "  </tbody>\n",
              "</table>\n",
              "<p>271 rows × 2 columns</p>\n",
              "</div>"
            ],
            "text/plain": [
              "    month_year  word_count\n",
              "0   1987-01-01   1186313.0\n",
              "1   1987-02-01   1025105.0\n",
              "2   1987-03-01   1996218.0\n",
              "3   1987-04-01   1958265.0\n",
              "4   1987-05-01   2194226.0\n",
              "..         ...         ...\n",
              "266 2010-08-01    360153.0\n",
              "267 2010-09-01   1336598.0\n",
              "268 2010-10-01       523.0\n",
              "269 2010-11-01    665953.0\n",
              "270 2010-12-01   2103020.0\n",
              "\n",
              "[271 rows x 2 columns]"
            ]
          },
          "metadata": {
            "tags": []
          },
          "execution_count": 31
        }
      ]
    },
    {
      "cell_type": "code",
      "metadata": {
        "id": "Lp3f836qtOGb"
      },
      "source": [
        "test['year'] = pd.DatetimeIndex(test['month_year']).year # now we can make a column for just the year "
      ],
      "execution_count": null,
      "outputs": []
    },
    {
      "cell_type": "code",
      "metadata": {
        "id": "y956pDsttOGu",
        "outputId": "3d956d70-a15a-4fff-a0fa-ff6e010873e7",
        "colab": {
          "base_uri": "https://localhost:8080/",
          "height": 165
        }
      },
      "source": [
        "test"
      ],
      "execution_count": 4,
      "outputs": [
        {
          "output_type": "error",
          "ename": "NameError",
          "evalue": "ignored",
          "traceback": [
            "\u001b[0;31m---------------------------------------------------------------------------\u001b[0m",
            "\u001b[0;31mNameError\u001b[0m                                 Traceback (most recent call last)",
            "\u001b[0;32m<ipython-input-4-4e1243bd22c6>\u001b[0m in \u001b[0;36m<module>\u001b[0;34m()\u001b[0m\n\u001b[0;32m----> 1\u001b[0;31m \u001b[0mtest\u001b[0m\u001b[0;34m\u001b[0m\u001b[0;34m\u001b[0m\u001b[0m\n\u001b[0m",
            "\u001b[0;31mNameError\u001b[0m: name 'test' is not defined"
          ]
        }
      ]
    },
    {
      "cell_type": "markdown",
      "metadata": {
        "id": "AfEklsZ9tOGz"
      },
      "source": [
        "Year_counts is a dataframe grouped by month_year with column word_count.  It's perfect for showing change over time."
      ]
    },
    {
      "cell_type": "markdown",
      "metadata": {
        "id": "3P--mnJdtOGz"
      },
      "source": [
        "Now let's represent change over time by graphing all the data."
      ]
    },
    {
      "cell_type": "markdown",
      "metadata": {
        "id": "zFz6Mhp2tOG0"
      },
      "source": [
        "Sometimes it's useful when working with dates to create an 'index' for the dataframe, which in this case will be used by matplotlib to decide which dates will be labeled."
      ]
    },
    {
      "cell_type": "code",
      "metadata": {
        "id": "g8DXgHuftOG1"
      },
      "source": [
        "import matplotlib.pyplot as plt\n",
        "#import matplotlib.dates as mdates # <-- notice that we're importing a special module for dealing with dates\n",
        "\n",
        "%matplotlib inline\n",
        "\n",
        "#year_counts.plot.bar()\n",
        "\n",
        "# this section isn't below isn't working -- ideally we would have a nice series of years running along the bottom from first to last.\n",
        "# edits are welcome!  I'm moving on in the interest of time.\n",
        "#import matplotlib.dates as mdates\n",
        "#myFmt = mdates.DateFormatter('%y')\n",
        "#plt.xaxis.set_major_formatter(myFmt)\n",
        "#ax.set_xlim(lims[nn])\n",
        "#plt.set_xticks(np.arange(len(year_counts['month_year']))) \n",
        "#ax.xaxis.set_major_locator(mdates.MonthLocator(interval=1)) # set formatter#\n",
        "#ax.xaxis.set_major_formatter(mdates.DateFormatter('%Y')) # set font and rotation for date tick labels\n",
        "#plt.gcf().autofmt_xdate()\n",
        "#plt.gca().xaxis.set_major_locator(mdates.DayLocator((1,15)))\n",
        "#plt.gca().xaxis.set_major_formatter(mdates.DateFormatter(\"%d %b %Y\"))\n",
        "# plt.locator_params(axis='x', nbins=10) # a good way of telling matplotlib to behave if there are lots of x labels\n",
        "\n",
        "#plt.xlabel('each column represents one calendar month')\n",
        "#plt.ylabel('total words spoken')\n",
        "#plt.title(\"Words per Month in Congress\")\n",
        "\n",
        "\n",
        "#plt.show()"
      ],
      "execution_count": 3,
      "outputs": []
    },
    {
      "cell_type": "code",
      "metadata": {
        "id": "AmI2S_RQtOG3",
        "outputId": "f105c3c5-32c9-47da-eaee-62e4649e7d24",
        "colab": {
          "base_uri": "https://localhost:8080/",
          "height": 269
        }
      },
      "source": [
        "# steph's visualization code: \n",
        "\n",
        "plt.rcParams['figure.figsize'] = [20, 15] # make the vis larger so it's easier to see \n",
        "\n",
        "a = test.plot.bar(x = \"year\", y = \"word_count\", title = \"Words per Month in Congress\") # assign columns from the panda's DataFrame to the X and Y axis. \n",
        "\n",
        "# now things get weird: matlab doesn't offer nearly as many label options as ggplot. the following code makes all tick labels invisible, and then makes visible\n",
        "# every 12th (since there are 12 months in a year)\n",
        "\n",
        "plt.setp(a.get_xticklabels()[::1], visible=False)\n",
        "plt.setp(a.get_xticklabels()[::24], visible=True)\n",
        "\n",
        "a"
      ],
      "execution_count": 2,
      "outputs": [
        {
          "output_type": "error",
          "ename": "NameError",
          "evalue": "ignored",
          "traceback": [
            "\u001b[0;31m---------------------------------------------------------------------------\u001b[0m",
            "\u001b[0;31mNameError\u001b[0m                                 Traceback (most recent call last)",
            "\u001b[0;32m<ipython-input-2-8b4dcce97c35>\u001b[0m in \u001b[0;36m<module>\u001b[0;34m()\u001b[0m\n\u001b[1;32m      1\u001b[0m \u001b[0;31m# steph's visualization code:\u001b[0m\u001b[0;34m\u001b[0m\u001b[0;34m\u001b[0m\u001b[0;34m\u001b[0m\u001b[0m\n\u001b[1;32m      2\u001b[0m \u001b[0;34m\u001b[0m\u001b[0m\n\u001b[0;32m----> 3\u001b[0;31m \u001b[0mplt\u001b[0m\u001b[0;34m.\u001b[0m\u001b[0mrcParams\u001b[0m\u001b[0;34m[\u001b[0m\u001b[0;34m'figure.figsize'\u001b[0m\u001b[0;34m]\u001b[0m \u001b[0;34m=\u001b[0m \u001b[0;34m[\u001b[0m\u001b[0;36m20\u001b[0m\u001b[0;34m,\u001b[0m \u001b[0;36m15\u001b[0m\u001b[0;34m]\u001b[0m \u001b[0;31m# make the vis larger so it's easier to see\u001b[0m\u001b[0;34m\u001b[0m\u001b[0;34m\u001b[0m\u001b[0m\n\u001b[0m\u001b[1;32m      4\u001b[0m \u001b[0;34m\u001b[0m\u001b[0m\n\u001b[1;32m      5\u001b[0m \u001b[0ma\u001b[0m \u001b[0;34m=\u001b[0m \u001b[0mtest\u001b[0m\u001b[0;34m.\u001b[0m\u001b[0mplot\u001b[0m\u001b[0;34m.\u001b[0m\u001b[0mbar\u001b[0m\u001b[0;34m(\u001b[0m\u001b[0mx\u001b[0m \u001b[0;34m=\u001b[0m \u001b[0;34m\"year\"\u001b[0m\u001b[0;34m,\u001b[0m \u001b[0my\u001b[0m \u001b[0;34m=\u001b[0m \u001b[0;34m\"word_count\"\u001b[0m\u001b[0;34m,\u001b[0m \u001b[0mtitle\u001b[0m \u001b[0;34m=\u001b[0m \u001b[0;34m\"Words per Month in Congress\"\u001b[0m\u001b[0;34m)\u001b[0m \u001b[0;31m# assign columns from the panda's DataFrame to the X and Y axis.\u001b[0m\u001b[0;34m\u001b[0m\u001b[0;34m\u001b[0m\u001b[0m\n",
            "\u001b[0;31mNameError\u001b[0m: name 'plt' is not defined"
          ]
        }
      ]
    },
    {
      "cell_type": "code",
      "metadata": {
        "id": "IFZ6u4VYtOG7"
      },
      "source": [
        ""
      ],
      "execution_count": null,
      "outputs": []
    },
    {
      "cell_type": "code",
      "metadata": {
        "id": "b6204S1ptOHA",
        "outputId": "2e7642a8-b4a9-4d99-cf56-cd1845097fb0"
      },
      "source": [
        "plt.xlabel('each column represents one calendar month')\n",
        "plt.ylabel('total words spoken')\n",
        "plt.title(\"Words per Month in Congress\")\n",
        "\n",
        "plt.rcParams['figure.figsize'] = [25, 20]\n",
        "\n",
        "year_counts.plot.bar()"
      ],
      "execution_count": null,
      "outputs": [
        {
          "output_type": "execute_result",
          "data": {
            "text/plain": [
              "<matplotlib.axes._subplots.AxesSubplot at 0x2aab040985c0>"
            ]
          },
          "metadata": {
            "tags": []
          },
          "execution_count": 37
        },
        {
          "output_type": "display_data",
          "data": {
            "image/png": "[encoded data removed]",
            "text/plain": [
              "<Figure size 1440x1080 with 1 Axes>"
            ]
          },
          "metadata": {
            "tags": [],
            "needs_background": "light"
          }
        },
        {
          "output_type": "display_data",
          "data": {
            "image/png": "[encoded data removed]",
            "text/plain": [
              "<Figure size 1800x1440 with 1 Axes>"
            ]
          },
          "metadata": {
            "tags": [],
            "needs_background": "light"
          }
        }
      ]
    },
    {
      "cell_type": "markdown",
      "metadata": {
        "id": "tfWjmEm6tOHF"
      },
      "source": [
        "In this representation we can see that there's a lot of variation of how much Congress spoke and when.   Notice that there's a huge amount of variation -- from almost nothing to quite a lot.  These variations can create trouble for us if we aren't careful!"
      ]
    },
    {
      "cell_type": "markdown",
      "metadata": {
        "id": "ztjTHrwDtOHG"
      },
      "source": [
        "## Clean the words"
      ]
    },
    {
      "cell_type": "code",
      "metadata": {
        "id": "AQSDtHTOtOHH",
        "outputId": "39c99517-bd75-4a91-c636-38c83fc96dd4"
      },
      "source": [
        "all_data['speech'] = all_data['speech'].apply(lambda x: \" \".join(x.lower() for x in x.split())) #lowercase\n",
        "all_data['speech']  = all_data['speech'].str.replace('[^\\w\\s]','') # remove punctuation\n",
        "\n",
        "from nltk.corpus import stopwords # stopwording\n",
        "stop = stopwords.words('english')\n",
        "all_data['speech']  = all_data['speech'].apply(lambda x: \" \".join(x for x in x.split() if x not in stop))\n",
        "all_data.head()"
      ],
      "execution_count": null,
      "outputs": [
        {
          "output_type": "error",
          "ename": "LookupError",
          "evalue": "\n**********************************************************************\n  Resource \u001b[93mstopwords\u001b[0m not found.\n  Please use the NLTK Downloader to obtain the resource:\n\n  \u001b[31m>>> import nltk\n  >>> nltk.download('stopwords')\n  \u001b[0m\n  Searched in:\n    - '/users/sbuongiorno/nltk_data'\n    - '/usr/share/nltk_data'\n    - '/usr/local/share/nltk_data'\n    - '/usr/lib/nltk_data'\n    - '/usr/local/lib/nltk_data'\n    - '/hpc/applications/anaconda/3/nltk_data'\n    - '/hpc/applications/anaconda/3/lib/nltk_data'\n**********************************************************************\n",
          "traceback": [
            "\u001b[0;31m---------------------------------------------------------------------------\u001b[0m",
            "\u001b[0;31mLookupError\u001b[0m                               Traceback (most recent call last)",
            "\u001b[0;32m/hpc/applications/anaconda/3/lib/python3.6/site-packages/nltk/corpus/util.py\u001b[0m in \u001b[0;36m__load\u001b[0;34m(self)\u001b[0m\n\u001b[1;32m     79\u001b[0m             \u001b[0;32mexcept\u001b[0m \u001b[0mLookupError\u001b[0m \u001b[0;32mas\u001b[0m \u001b[0me\u001b[0m\u001b[0;34m:\u001b[0m\u001b[0;34m\u001b[0m\u001b[0;34m\u001b[0m\u001b[0m\n\u001b[0;32m---> 80\u001b[0;31m                 \u001b[0;32mtry\u001b[0m\u001b[0;34m:\u001b[0m \u001b[0mroot\u001b[0m \u001b[0;34m=\u001b[0m \u001b[0mnltk\u001b[0m\u001b[0;34m.\u001b[0m\u001b[0mdata\u001b[0m\u001b[0;34m.\u001b[0m\u001b[0mfind\u001b[0m\u001b[0;34m(\u001b[0m\u001b[0;34m'{}/{}'\u001b[0m\u001b[0;34m.\u001b[0m\u001b[0mformat\u001b[0m\u001b[0;34m(\u001b[0m\u001b[0mself\u001b[0m\u001b[0;34m.\u001b[0m\u001b[0msubdir\u001b[0m\u001b[0;34m,\u001b[0m \u001b[0mzip_name\u001b[0m\u001b[0;34m)\u001b[0m\u001b[0;34m)\u001b[0m\u001b[0;34m\u001b[0m\u001b[0;34m\u001b[0m\u001b[0m\n\u001b[0m\u001b[1;32m     81\u001b[0m                 \u001b[0;32mexcept\u001b[0m \u001b[0mLookupError\u001b[0m\u001b[0;34m:\u001b[0m \u001b[0;32mraise\u001b[0m \u001b[0me\u001b[0m\u001b[0;34m\u001b[0m\u001b[0;34m\u001b[0m\u001b[0m\n",
            "\u001b[0;32m/hpc/applications/anaconda/3/lib/python3.6/site-packages/nltk/data.py\u001b[0m in \u001b[0;36mfind\u001b[0;34m(resource_name, paths)\u001b[0m\n\u001b[1;32m    672\u001b[0m     \u001b[0mresource_not_found\u001b[0m \u001b[0;34m=\u001b[0m \u001b[0;34m'\\n%s\\n%s\\n%s\\n'\u001b[0m \u001b[0;34m%\u001b[0m \u001b[0;34m(\u001b[0m\u001b[0msep\u001b[0m\u001b[0;34m,\u001b[0m \u001b[0mmsg\u001b[0m\u001b[0;34m,\u001b[0m \u001b[0msep\u001b[0m\u001b[0;34m)\u001b[0m\u001b[0;34m\u001b[0m\u001b[0;34m\u001b[0m\u001b[0m\n\u001b[0;32m--> 673\u001b[0;31m     \u001b[0;32mraise\u001b[0m \u001b[0mLookupError\u001b[0m\u001b[0;34m(\u001b[0m\u001b[0mresource_not_found\u001b[0m\u001b[0;34m)\u001b[0m\u001b[0;34m\u001b[0m\u001b[0;34m\u001b[0m\u001b[0m\n\u001b[0m\u001b[1;32m    674\u001b[0m \u001b[0;34m\u001b[0m\u001b[0m\n",
            "\u001b[0;31mLookupError\u001b[0m: \n**********************************************************************\n  Resource \u001b[93mstopwords\u001b[0m not found.\n  Please use the NLTK Downloader to obtain the resource:\n\n  \u001b[31m>>> import nltk\n  >>> nltk.download('stopwords')\n  \u001b[0m\n  Searched in:\n    - '/users/sbuongiorno/nltk_data'\n    - '/usr/share/nltk_data'\n    - '/usr/local/share/nltk_data'\n    - '/usr/lib/nltk_data'\n    - '/usr/local/lib/nltk_data'\n    - '/hpc/applications/anaconda/3/nltk_data'\n    - '/hpc/applications/anaconda/3/lib/nltk_data'\n**********************************************************************\n",
            "\nDuring handling of the above exception, another exception occurred:\n",
            "\u001b[0;31mLookupError\u001b[0m                               Traceback (most recent call last)",
            "\u001b[0;32m<ipython-input-38-eed2b27e3ad4>\u001b[0m in \u001b[0;36m<module>\u001b[0;34m\u001b[0m\n\u001b[1;32m      3\u001b[0m \u001b[0;34m\u001b[0m\u001b[0m\n\u001b[1;32m      4\u001b[0m \u001b[0;32mfrom\u001b[0m \u001b[0mnltk\u001b[0m\u001b[0;34m.\u001b[0m\u001b[0mcorpus\u001b[0m \u001b[0;32mimport\u001b[0m \u001b[0mstopwords\u001b[0m \u001b[0;31m# stopwording\u001b[0m\u001b[0;34m\u001b[0m\u001b[0;34m\u001b[0m\u001b[0m\n\u001b[0;32m----> 5\u001b[0;31m \u001b[0mstop\u001b[0m \u001b[0;34m=\u001b[0m \u001b[0mstopwords\u001b[0m\u001b[0;34m.\u001b[0m\u001b[0mwords\u001b[0m\u001b[0;34m(\u001b[0m\u001b[0;34m'english'\u001b[0m\u001b[0;34m)\u001b[0m\u001b[0;34m\u001b[0m\u001b[0;34m\u001b[0m\u001b[0m\n\u001b[0m\u001b[1;32m      6\u001b[0m \u001b[0mall_data\u001b[0m\u001b[0;34m[\u001b[0m\u001b[0;34m'speech'\u001b[0m\u001b[0;34m]\u001b[0m  \u001b[0;34m=\u001b[0m \u001b[0mall_data\u001b[0m\u001b[0;34m[\u001b[0m\u001b[0;34m'speech'\u001b[0m\u001b[0;34m]\u001b[0m\u001b[0;34m.\u001b[0m\u001b[0mapply\u001b[0m\u001b[0;34m(\u001b[0m\u001b[0;32mlambda\u001b[0m \u001b[0mx\u001b[0m\u001b[0;34m:\u001b[0m \u001b[0;34m\" \"\u001b[0m\u001b[0;34m.\u001b[0m\u001b[0mjoin\u001b[0m\u001b[0;34m(\u001b[0m\u001b[0mx\u001b[0m \u001b[0;32mfor\u001b[0m \u001b[0mx\u001b[0m \u001b[0;32min\u001b[0m \u001b[0mx\u001b[0m\u001b[0;34m.\u001b[0m\u001b[0msplit\u001b[0m\u001b[0;34m(\u001b[0m\u001b[0;34m)\u001b[0m \u001b[0;32mif\u001b[0m \u001b[0mx\u001b[0m \u001b[0;32mnot\u001b[0m \u001b[0;32min\u001b[0m \u001b[0mstop\u001b[0m\u001b[0;34m)\u001b[0m\u001b[0;34m)\u001b[0m\u001b[0;34m\u001b[0m\u001b[0;34m\u001b[0m\u001b[0m\n\u001b[1;32m      7\u001b[0m \u001b[0mall_data\u001b[0m\u001b[0;34m.\u001b[0m\u001b[0mhead\u001b[0m\u001b[0;34m(\u001b[0m\u001b[0;34m)\u001b[0m\u001b[0;34m\u001b[0m\u001b[0;34m\u001b[0m\u001b[0m\n",
            "\u001b[0;32m/hpc/applications/anaconda/3/lib/python3.6/site-packages/nltk/corpus/util.py\u001b[0m in \u001b[0;36m__getattr__\u001b[0;34m(self, attr)\u001b[0m\n\u001b[1;32m    114\u001b[0m             \u001b[0;32mraise\u001b[0m \u001b[0mAttributeError\u001b[0m\u001b[0;34m(\u001b[0m\u001b[0;34m\"LazyCorpusLoader object has no attribute '__bases__'\"\u001b[0m\u001b[0;34m)\u001b[0m\u001b[0;34m\u001b[0m\u001b[0;34m\u001b[0m\u001b[0m\n\u001b[1;32m    115\u001b[0m \u001b[0;34m\u001b[0m\u001b[0m\n\u001b[0;32m--> 116\u001b[0;31m         \u001b[0mself\u001b[0m\u001b[0;34m.\u001b[0m\u001b[0m__load\u001b[0m\u001b[0;34m(\u001b[0m\u001b[0;34m)\u001b[0m\u001b[0;34m\u001b[0m\u001b[0;34m\u001b[0m\u001b[0m\n\u001b[0m\u001b[1;32m    117\u001b[0m         \u001b[0;31m# This looks circular, but its not, since __load() changes our\u001b[0m\u001b[0;34m\u001b[0m\u001b[0;34m\u001b[0m\u001b[0;34m\u001b[0m\u001b[0m\n\u001b[1;32m    118\u001b[0m         \u001b[0;31m# __class__ to something new:\u001b[0m\u001b[0;34m\u001b[0m\u001b[0;34m\u001b[0m\u001b[0;34m\u001b[0m\u001b[0m\n",
            "\u001b[0;32m/hpc/applications/anaconda/3/lib/python3.6/site-packages/nltk/corpus/util.py\u001b[0m in \u001b[0;36m__load\u001b[0;34m(self)\u001b[0m\n\u001b[1;32m     79\u001b[0m             \u001b[0;32mexcept\u001b[0m \u001b[0mLookupError\u001b[0m \u001b[0;32mas\u001b[0m \u001b[0me\u001b[0m\u001b[0;34m:\u001b[0m\u001b[0;34m\u001b[0m\u001b[0;34m\u001b[0m\u001b[0m\n\u001b[1;32m     80\u001b[0m                 \u001b[0;32mtry\u001b[0m\u001b[0;34m:\u001b[0m \u001b[0mroot\u001b[0m \u001b[0;34m=\u001b[0m \u001b[0mnltk\u001b[0m\u001b[0;34m.\u001b[0m\u001b[0mdata\u001b[0m\u001b[0;34m.\u001b[0m\u001b[0mfind\u001b[0m\u001b[0;34m(\u001b[0m\u001b[0;34m'{}/{}'\u001b[0m\u001b[0;34m.\u001b[0m\u001b[0mformat\u001b[0m\u001b[0;34m(\u001b[0m\u001b[0mself\u001b[0m\u001b[0;34m.\u001b[0m\u001b[0msubdir\u001b[0m\u001b[0;34m,\u001b[0m \u001b[0mzip_name\u001b[0m\u001b[0;34m)\u001b[0m\u001b[0;34m)\u001b[0m\u001b[0;34m\u001b[0m\u001b[0;34m\u001b[0m\u001b[0m\n\u001b[0;32m---> 81\u001b[0;31m                 \u001b[0;32mexcept\u001b[0m \u001b[0mLookupError\u001b[0m\u001b[0;34m:\u001b[0m \u001b[0;32mraise\u001b[0m \u001b[0me\u001b[0m\u001b[0;34m\u001b[0m\u001b[0;34m\u001b[0m\u001b[0m\n\u001b[0m\u001b[1;32m     82\u001b[0m \u001b[0;34m\u001b[0m\u001b[0m\n\u001b[1;32m     83\u001b[0m         \u001b[0;31m# Load the corpus.\u001b[0m\u001b[0;34m\u001b[0m\u001b[0;34m\u001b[0m\u001b[0;34m\u001b[0m\u001b[0m\n",
            "\u001b[0;32m/hpc/applications/anaconda/3/lib/python3.6/site-packages/nltk/corpus/util.py\u001b[0m in \u001b[0;36m__load\u001b[0;34m(self)\u001b[0m\n\u001b[1;32m     76\u001b[0m         \u001b[0;32melse\u001b[0m\u001b[0;34m:\u001b[0m\u001b[0;34m\u001b[0m\u001b[0;34m\u001b[0m\u001b[0m\n\u001b[1;32m     77\u001b[0m             \u001b[0;32mtry\u001b[0m\u001b[0;34m:\u001b[0m\u001b[0;34m\u001b[0m\u001b[0;34m\u001b[0m\u001b[0m\n\u001b[0;32m---> 78\u001b[0;31m                 \u001b[0mroot\u001b[0m \u001b[0;34m=\u001b[0m \u001b[0mnltk\u001b[0m\u001b[0;34m.\u001b[0m\u001b[0mdata\u001b[0m\u001b[0;34m.\u001b[0m\u001b[0mfind\u001b[0m\u001b[0;34m(\u001b[0m\u001b[0;34m'{}/{}'\u001b[0m\u001b[0;34m.\u001b[0m\u001b[0mformat\u001b[0m\u001b[0;34m(\u001b[0m\u001b[0mself\u001b[0m\u001b[0;34m.\u001b[0m\u001b[0msubdir\u001b[0m\u001b[0;34m,\u001b[0m \u001b[0mself\u001b[0m\u001b[0;34m.\u001b[0m\u001b[0m__name\u001b[0m\u001b[0;34m)\u001b[0m\u001b[0;34m)\u001b[0m\u001b[0;34m\u001b[0m\u001b[0;34m\u001b[0m\u001b[0m\n\u001b[0m\u001b[1;32m     79\u001b[0m             \u001b[0;32mexcept\u001b[0m \u001b[0mLookupError\u001b[0m \u001b[0;32mas\u001b[0m \u001b[0me\u001b[0m\u001b[0;34m:\u001b[0m\u001b[0;34m\u001b[0m\u001b[0;34m\u001b[0m\u001b[0m\n\u001b[1;32m     80\u001b[0m                 \u001b[0;32mtry\u001b[0m\u001b[0;34m:\u001b[0m \u001b[0mroot\u001b[0m \u001b[0;34m=\u001b[0m \u001b[0mnltk\u001b[0m\u001b[0;34m.\u001b[0m\u001b[0mdata\u001b[0m\u001b[0;34m.\u001b[0m\u001b[0mfind\u001b[0m\u001b[0;34m(\u001b[0m\u001b[0;34m'{}/{}'\u001b[0m\u001b[0;34m.\u001b[0m\u001b[0mformat\u001b[0m\u001b[0;34m(\u001b[0m\u001b[0mself\u001b[0m\u001b[0;34m.\u001b[0m\u001b[0msubdir\u001b[0m\u001b[0;34m,\u001b[0m \u001b[0mzip_name\u001b[0m\u001b[0;34m)\u001b[0m\u001b[0;34m)\u001b[0m\u001b[0;34m\u001b[0m\u001b[0;34m\u001b[0m\u001b[0m\n",
            "\u001b[0;32m/hpc/applications/anaconda/3/lib/python3.6/site-packages/nltk/data.py\u001b[0m in \u001b[0;36mfind\u001b[0;34m(resource_name, paths)\u001b[0m\n\u001b[1;32m    671\u001b[0m     \u001b[0msep\u001b[0m \u001b[0;34m=\u001b[0m \u001b[0;34m'*'\u001b[0m \u001b[0;34m*\u001b[0m \u001b[0;36m70\u001b[0m\u001b[0;34m\u001b[0m\u001b[0;34m\u001b[0m\u001b[0m\n\u001b[1;32m    672\u001b[0m     \u001b[0mresource_not_found\u001b[0m \u001b[0;34m=\u001b[0m \u001b[0;34m'\\n%s\\n%s\\n%s\\n'\u001b[0m \u001b[0;34m%\u001b[0m \u001b[0;34m(\u001b[0m\u001b[0msep\u001b[0m\u001b[0;34m,\u001b[0m \u001b[0mmsg\u001b[0m\u001b[0;34m,\u001b[0m \u001b[0msep\u001b[0m\u001b[0;34m)\u001b[0m\u001b[0;34m\u001b[0m\u001b[0;34m\u001b[0m\u001b[0m\n\u001b[0;32m--> 673\u001b[0;31m     \u001b[0;32mraise\u001b[0m \u001b[0mLookupError\u001b[0m\u001b[0;34m(\u001b[0m\u001b[0mresource_not_found\u001b[0m\u001b[0;34m)\u001b[0m\u001b[0;34m\u001b[0m\u001b[0;34m\u001b[0m\u001b[0m\n\u001b[0m\u001b[1;32m    674\u001b[0m \u001b[0;34m\u001b[0m\u001b[0m\n\u001b[1;32m    675\u001b[0m \u001b[0;34m\u001b[0m\u001b[0m\n",
            "\u001b[0;31mLookupError\u001b[0m: \n**********************************************************************\n  Resource \u001b[93mstopwords\u001b[0m not found.\n  Please use the NLTK Downloader to obtain the resource:\n\n  \u001b[31m>>> import nltk\n  >>> nltk.download('stopwords')\n  \u001b[0m\n  Searched in:\n    - '/users/sbuongiorno/nltk_data'\n    - '/usr/share/nltk_data'\n    - '/usr/local/share/nltk_data'\n    - '/usr/lib/nltk_data'\n    - '/usr/local/lib/nltk_data'\n    - '/hpc/applications/anaconda/3/nltk_data'\n    - '/hpc/applications/anaconda/3/lib/nltk_data'\n**********************************************************************\n"
          ]
        }
      ]
    },
    {
      "cell_type": "markdown",
      "metadata": {
        "id": "mUtTNBx4tOHM"
      },
      "source": [
        "## Break speeches into words, get the most frequent words"
      ]
    },
    {
      "cell_type": "code",
      "metadata": {
        "id": "eAIDMTq6tOHN"
      },
      "source": [
        "top_words = pd.Series(' '.join(all_data['speech']).split()).value_counts()[:10]"
      ],
      "execution_count": null,
      "outputs": []
    },
    {
      "cell_type": "code",
      "metadata": {
        "id": "CmK9D0gTtOHP"
      },
      "source": [
        "top_words"
      ],
      "execution_count": null,
      "outputs": []
    },
    {
      "cell_type": "code",
      "metadata": {
        "id": "UbXzbUmUtOHW"
      },
      "source": [
        "top_words2 = pd.DataFrame({'word':top_words.index, 'count':top_words.values})\n",
        "top_words2"
      ],
      "execution_count": null,
      "outputs": []
    },
    {
      "cell_type": "code",
      "metadata": {
        "id": "CMO7ORsdtOHZ"
      },
      "source": [
        "top_words2['year']='1970'\n",
        "top_words2"
      ],
      "execution_count": null,
      "outputs": []
    },
    {
      "cell_type": "code",
      "metadata": {
        "id": "7bW8MseBtOHe"
      },
      "source": [
        "# list all unique month_years\n",
        "set(all_data['month_year'])"
      ],
      "execution_count": null,
      "outputs": []
    },
    {
      "cell_type": "markdown",
      "metadata": {
        "id": "eeZrp2HAtOHg"
      },
      "source": [
        "## Get the most frequent words for each month and year"
      ]
    },
    {
      "cell_type": "markdown",
      "metadata": {
        "id": "TpULRTVptOHi"
      },
      "source": [
        "To measure word count over time, we're going to create a for loop that cycles through each period ('month_year') and measures the frequency of the top 50 words in that period.  \n",
        "\n",
        "Notice that the for loop is cycling through month_year periods and adding a new line to the dataframe word_per_year_counts with each period (m in month_year).\n",
        "\n",
        "Notice the line pd.Series ... split().value_counts:50 -- which we just saw above.  This line tells pandas to split up the 'speech' field and measure the frequency of the words overall.  "
      ]
    },
    {
      "cell_type": "code",
      "metadata": {
        "id": "jnQ45Pw7tOHk"
      },
      "source": [
        "# create a dummy data frame\n",
        "word_per_year_counts = pd.DataFrame() \n",
        "\n",
        "# the following lines essentially create word frequencies \"grouped\" by month_year.  We're using a for loop rather than group_by. \n",
        "for m in set(all_data['month_year']):\n",
        "    freq = pd.Series(' '.join(all_data.loc[all_data['month_year'] == m, 'speech']).split()).value_counts()[:50]\n",
        "    freq2 = pd.DataFrame({'word':freq.index, 'count':freq.values})\n",
        "    freq2['month_year']= m\n",
        "    word_per_year_counts = word_per_year_counts.append(freq2)\n",
        "    \n",
        "word_per_year_counts"
      ],
      "execution_count": null,
      "outputs": []
    },
    {
      "cell_type": "markdown",
      "metadata": {
        "id": "Xe5Wo0jwtOHp"
      },
      "source": [
        "This might take a moment depending on how many words you're counting.  You can change the \"top number count\" (currently [:50]) at the end of \"freq -\" to a larger or smaller number if you want to speed things up -- or see more words."
      ]
    },
    {
      "cell_type": "markdown",
      "metadata": {
        "id": "ziuB7KQftOHr"
      },
      "source": [
        "## Find just the top words overall -- their per-month-year counts"
      ]
    },
    {
      "cell_type": "markdown",
      "metadata": {
        "id": "VbItDylatOHr"
      },
      "source": [
        "The dataframe word_per_year_counts contains all words over time.  But what we probably want to look at is a smaller set of words -- those could be the most prominent nouns, or a list of special words, or words ascertained by tf-idf, or any other process.  In this case, we'll go for something really simple: the top words over time.  We'll ask the question: how does their expression over time change?"
      ]
    },
    {
      "cell_type": "markdown",
      "metadata": {
        "id": "AMMsfEPLtOHs"
      },
      "source": [
        "Because we already have a list of the overall top words for the era -- top_words2 -- we can just write a simple loop cycling through word_per_year_counts and asking if each word appears in top_words2."
      ]
    },
    {
      "cell_type": "code",
      "metadata": {
        "id": "tuuHfJDBtOHt"
      },
      "source": [
        "set(top_words2['word'])"
      ],
      "execution_count": null,
      "outputs": []
    },
    {
      "cell_type": "markdown",
      "metadata": {
        "id": "dB3w7XxwtOH2"
      },
      "source": [
        "Now our code instructs python to cycle through the list of words in word_per_year_counts and to keep only the words that also occur in top_words2.  Can you see what the for loop is doing?"
      ]
    },
    {
      "cell_type": "code",
      "metadata": {
        "id": "Q86fMBURtOH3"
      },
      "source": [
        "top_words_over_time = pd.DataFrame()\n",
        "\n",
        "for word in set(word_per_year_counts['word']): # cycling through the unique words in the dataframe above\n",
        "    if word in set(top_words2['word']): # if the word is a top word\n",
        "        top_words_over_time = top_words_over_time.append(word_per_year_counts.loc[word_per_year_counts['word'] == word]) #grab the row.\n",
        "        \n",
        "        \n",
        "top_words_over_time"
      ],
      "execution_count": null,
      "outputs": []
    },
    {
      "cell_type": "markdown",
      "metadata": {
        "id": "mK_yq1ORtOH8"
      },
      "source": [
        "Check what we've done.  What words are in the list of top words included in our new dataframe?"
      ]
    },
    {
      "cell_type": "code",
      "metadata": {
        "id": "qvEr8cVHtOH8"
      },
      "source": [
        "set(top_words_over_time['word']) # this is a list of the top words about which we have information for each month-year period"
      ],
      "execution_count": null,
      "outputs": []
    },
    {
      "cell_type": "markdown",
      "metadata": {
        "id": "mKowCOMMtOIB"
      },
      "source": [
        "In order to graph the data-frame, we need to do a little work with the datetime package, because matplotlib likes data in the format y-m-d or d-m-y, not month_year.  So let's regularize the dates."
      ]
    },
    {
      "cell_type": "code",
      "metadata": {
        "id": "U01wg-LctOIE"
      },
      "source": [
        "# convert month-year back to date format for easier plotting\n",
        "top_words_over_time['month_year'] =top_words_over_time.month_year.values.astype('datetime64[M]')\n",
        "top_words_over_time"
      ],
      "execution_count": null,
      "outputs": []
    },
    {
      "cell_type": "markdown",
      "metadata": {
        "id": "KGGwQ-3RtOIH"
      },
      "source": [
        "# Line chart with raw count"
      ]
    },
    {
      "cell_type": "markdown",
      "metadata": {
        "id": "VUQA4dQwtOIH"
      },
      "source": [
        "In the visualization that follows, we're going to create a scatter-plot of dots, where one dot shows how many times a word appears per month_year.  We'll color the dots a different color for each word.  Notice the plt.scatter() command, which tells matplotlib to use a scatterplot. \n",
        "\n",
        "Creating complex plots of this kind sometimes involves writing a for loop where we're essentially layering a new plot for each word and changing the color each time.  See if you can understand the for loop to add new colors for each individual word -- that's essentially the only new thing about this graph."
      ]
    },
    {
      "cell_type": "code",
      "metadata": {
        "id": "ZnayvLAgtOII"
      },
      "source": [
        "%matplotlib inline\n",
        "\n",
        "# style\n",
        "plt.style.use('seaborn-darkgrid') # this gives us a grid with a dark background.  you can play with this to change the style.\n",
        "  \n",
        "# create a color palette\n",
        "palette = plt.get_cmap('Set3') # this tells matplotlib what colors to use.  you can play with this to change the colors.\n",
        " \n",
        "# multiple line plot\n",
        "num=0\n",
        "\n",
        "# this is the for loop that creates multiple plots\n",
        "for word in set(top_words_over_time['word']):\n",
        "    num+=1 # for each new word, the counter 'num' changes \n",
        "    plt.scatter(top_words_over_time.loc[top_words_over_time['word'] == word, 'month_year'], # x axis \n",
        "             top_words_over_time.loc[top_words_over_time['word'] == word, 'count'],  # y axis\n",
        "             color=palette(num), linewidth=1, alpha=0.7, label=word) # num tells the plot to choose a different color this time\n",
        "\n",
        "# Add legend\n",
        "plt.legend(loc=2, ncol=2)\n",
        "plt.xticks(rotation=90)\n",
        " \n",
        "# Add titles\n",
        "plt.title(\"Top Words Over Time\", loc='left', fontsize=30, fontweight=0, color='Red')\n",
        "plt.xlabel(\"Time\")\n",
        "plt.ylabel(\"Wordcount\")\n",
        "\n",
        "plt.show()\n"
      ],
      "execution_count": null,
      "outputs": []
    },
    {
      "cell_type": "markdown",
      "metadata": {
        "id": "k69q6OCytOIL"
      },
      "source": [
        "We have a good representation of wordcount here.  Although I want to emphasize that we are, technically, *doing everything wrong*.  It is almost never the case that the most frequent words are the most interesting.  The list of words that we've plotted here is pretty dull.  It also exemplifies very little change over time, because the same words are used all the time in Congress to talk about the fact that Congress is a Congress.  \n",
        "\n",
        "That's why, in your assignment, you'll be looking not at the most frequent words, but at a list of special words, carefully honed through many conversations. We could also use some of the other tactics we've used -- for instance, tf-idf or log likelihood to identify the favorite words of the 5 most prevalent speakers -- to generate some other words to follow over time.  Maybe you will pursue such strategies in your final project.  \n",
        "\n",
        "There's another problem too, however.  The numbers in this chart are deceptive; if we were measuring them over decades ,they would be even more problematic.  There's just a lot of noise -- look at all those colors jumbled together.  This is an excellent case for using _averages_ over time -- moving from month to year -- and _proportions_ -- measuring word count against how many words were spoken in a period.  \n",
        "\n",
        "We won't take any more averages right now -- although above, when we \"groupby\" month_year and then take the sum for that period, you could easily switch in year for month_year and/or \"mean\" for \"sum,\" and play with what would happen then.  \n",
        "\n",
        "Instead, we'll look at taking wordcounts as a proportion rather than a raw count.  Above, where we counted the number of words per date, we saw that there was a huge variation in words spoken per day.  The numbers we've charted per word are meaningless without some sense of how they represent other variations in speaking.  \n",
        "\n",
        "One of the great tools for measuring change over time is to \"normalize\" word counts.  Simply put, we take the ratio: number of times the word \"bill\" appears vs number of words spoken in that period."
      ]
    },
    {
      "cell_type": "markdown",
      "metadata": {
        "id": "SKdYOOKwtOIL"
      },
      "source": [
        "# Get proportions"
      ]
    },
    {
      "cell_type": "markdown",
      "metadata": {
        "id": "TAhNSdm0tOIM"
      },
      "source": [
        "The per-period-per-word counts and per-period-overall counts live in different places.  Look at them:"
      ]
    },
    {
      "cell_type": "code",
      "metadata": {
        "id": "x3k34Gq6tOIM"
      },
      "source": [
        "word_per_year_counts"
      ],
      "execution_count": null,
      "outputs": []
    },
    {
      "cell_type": "code",
      "metadata": {
        "id": "NQlMnz0_tOIR"
      },
      "source": [
        "year_counts.head()"
      ],
      "execution_count": null,
      "outputs": []
    },
    {
      "cell_type": "markdown",
      "metadata": {
        "id": "6ei9F3DKtOIV"
      },
      "source": [
        "To put the two dataframes together, we need to perform a merge -- technically an \"inner join.\"  You can picture an inner join like the area at the center of a venn diagram: in this case, both dataframes share the column month_year.  So we can tell python to paste them together using month_year."
      ]
    },
    {
      "cell_type": "code",
      "metadata": {
        "id": "RBkr7URUtOIW"
      },
      "source": [
        "word_proportions = pd.merge(year_counts, word_per_year_counts,how='inner', left_on='month_year', right_on='month_year')\n",
        "\n",
        "word_proportions.head()"
      ],
      "execution_count": null,
      "outputs": []
    },
    {
      "cell_type": "markdown",
      "metadata": {
        "id": "mlDl7hs9tOIX"
      },
      "source": [
        "Now that we have the count of each word (\"count\") in the same dataframe as the count of all words per month_year (\"word_count\"), we can find out what proportion of speech per month_year is represented by each word."
      ]
    },
    {
      "cell_type": "code",
      "metadata": {
        "id": "SrVYpOVhtOIY"
      },
      "source": [
        "word_proportions['proportion'] = word_proportions['count']/word_proportions['word_count']\n",
        "word_proportions"
      ],
      "execution_count": null,
      "outputs": []
    },
    {
      "cell_type": "markdown",
      "metadata": {
        "id": "SVQARfZktOIe"
      },
      "source": [
        "Notice that the numbers in the \"proportion\" column are really small.  They represent proportions: all the counts for every word in 2007-01 would add up to 1.  We can represent them as percentages: \"speaker\" appears 3.14% of the time.  Knowing what the proportion means and talking about it accurately is an important part of doing data science correctly.  \n",
        "Understanding proportion also means that we will take steps to make sure that any graph based on proportions represents those measures as percentages and labels them correctly."
      ]
    },
    {
      "cell_type": "markdown",
      "metadata": {
        "id": "wLqADRf6tOIe"
      },
      "source": [
        "We're getting close.  But now we need to filter the databas for top words.  The dataframe word_proportions currently contains the measures of the top 50 words for each period.  We only want measures over time of only the ten top words, contained in top_words2.  Do you remember how we filter for those words?"
      ]
    },
    {
      "cell_type": "code",
      "metadata": {
        "id": "ZhaUKDDStOIe"
      },
      "source": [
        "top_words_over_time_proportion = pd.DataFrame()\n",
        "\n",
        "for word in set(word_proportions['word']): # cycling through the unique words in the dataframe above\n",
        "    if word in set(top_words2['word']): # if the word is a top word\n",
        "        top_words_over_time_proportion = top_words_over_time_proportion.append(word_proportions.loc[word_proportions['word'] == word]) #grab the row.\n",
        "        \n",
        "        \n",
        "top_words_over_time_proportion"
      ],
      "execution_count": null,
      "outputs": []
    },
    {
      "cell_type": "markdown",
      "metadata": {
        "id": "d_3sg6CDtOIg"
      },
      "source": [
        "## Line chart with proportions"
      ]
    },
    {
      "cell_type": "markdown",
      "metadata": {
        "id": "ZNK4PD0AtOIh"
      },
      "source": [
        "There are only a few ways that the proportion chart differs from the raw count chart.  Can you find them all?"
      ]
    },
    {
      "cell_type": "code",
      "metadata": {
        "id": "5MnKN4svtOIh"
      },
      "source": [
        "# convert month-year back to date format for easier plotting\n",
        "top_words_over_time_proportion['month_year'] =top_words_over_time_proportion.month_year.values.astype('datetime64[M]')\n",
        "top_words_over_time_proportion"
      ],
      "execution_count": null,
      "outputs": []
    },
    {
      "cell_type": "code",
      "metadata": {
        "id": "w4Mz7NBltOIm"
      },
      "source": [
        "plt.clf() # <-- clears out the earlier plot\n",
        "\n",
        "%matplotlib inline\n",
        "import matplotlib.ticker as ticker # <--- notice that we're importing a new ticker function \n",
        "\n",
        "# style\n",
        "plt.style.use('seaborn-darkgrid')\n",
        " \n",
        "# create a color palette\n",
        "palette = plt.get_cmap('Set3')\n",
        " \n",
        "# multiple line plot\n",
        "num=0\n",
        "\n",
        "\n",
        "for word in set(top_words_over_time_proportion['word']):\n",
        "    num+=1\n",
        "    plt.scatter(top_words_over_time_proportion.loc[top_words_over_time_proportion['word'] == word, 'month_year'], # x axis \n",
        "             top_words_over_time_proportion.loc[top_words_over_time_proportion['word'] == word, 'proportion'],  # y axis\n",
        "             color=palette(num), linewidth=1, alpha=0.5, label=word)\n",
        "\n",
        "# Add legend\n",
        "plt.legend(loc=2, ncol=2)\n",
        "plt.xticks(rotation=90)\n",
        " \n",
        "# Add titles\n",
        "plt.title(\"Top Words Over Time by Proportion\", loc='left', fontsize=30, fontweight=0, color='red')\n",
        "plt.xlabel(\"Time\")\n",
        "plt.ylabel(\"Proportion\") # <--- Notice that I've re-labeled the title and y-axis\n",
        "plt.gca().yaxis.set_major_formatter(ticker.PercentFormatter()) # <--- This tells matplotlib that we're dealing with percentages\n",
        "#plt.tick_params(axis='both',labelsize=14)\n",
        "\n",
        "plt.show()\n"
      ],
      "execution_count": null,
      "outputs": []
    },
    {
      "cell_type": "markdown",
      "metadata": {
        "id": "3bXqXh0ptOIu"
      },
      "source": [
        "Notice that there's appears to be a much narrower range of variation in the Proportion plot over the Raw Count plot.  A few words' variation may stand out (depending on what time range you're looking at) -- \"president\" and \"bill\" stand out for me, for instance -- as having greater variation than the other words, which mostly stay the same.  The outliers give us an important clue about historical change: something was going on with \"bills\"!  \n",
        "\n",
        "If we were writing a paper about this data, we would know to follow the data into the use of \"bills\" in September 2010 to figure out why so many bills were being talked about relative to the normal distribution of that word.  That knowledge -- in turn -- would help us to answer the historical question: what was changing about debates in Congress during this time? "
      ]
    },
    {
      "cell_type": "markdown",
      "metadata": {
        "id": "-sUHmoo3tOIx"
      },
      "source": [
        "We can learn from this exercise how important it is to \"normalize\" the data by treating word counts as a percentage of a changing number of words spoken over time.  Don't forget to normalize the wordcounts in your data challenges!"
      ]
    },
    {
      "cell_type": "markdown",
      "metadata": {
        "id": "Z3PvakKntOIx"
      },
      "source": [
        "# Group Assignment"
      ]
    },
    {
      "cell_type": "markdown",
      "metadata": {
        "id": "KCwp1959tOIy"
      },
      "source": [
        "In the instructions above, you learned how to round dates, extract months and years, and plot information over time.  Now you will put to use what you learned in a short module that asks you to plot word count over time."
      ]
    },
    {
      "cell_type": "markdown",
      "metadata": {
        "id": "e7waOdH6tOIy"
      },
      "source": [
        "* First, I'd like your group to use each member's list of \"special words\" (from previous weeks), plotting those words and their word-counts over time to figure out which words exhibit the greatest change.  You should have two or three visualizations based on two or three lists of words generated by your group.  "
      ]
    },
    {
      "cell_type": "markdown",
      "metadata": {
        "id": "FXrofiJLtOIz"
      },
      "source": [
        "* Think about what each visualization tells you in light of Fischer's injunction to answer a \"question\" about history.  Choose the visualization that you think best answers a historical question, and decide what question you're answering.  Write out the question; it is your first heading.  "
      ]
    },
    {
      "cell_type": "markdown",
      "metadata": {
        "id": "PGtaWNrKtOI1"
      },
      "source": [
        "* Now revisit the visualization in question, re-plotting that visualization with information about specific dates, or rounding wordcounts to years or decades.  Select the view that you think is most useful. Label the plot so that readers can tell what's going on with the plot. "
      ]
    },
    {
      "cell_type": "markdown",
      "metadata": {
        "id": "if48UJhVtOJB"
      },
      "source": [
        "* Now, write a paragraph explaining what the timeline shows.  Label this paragraph with your question.  Embed the visualization in the document, labeling it \"Figure 1,\" and referring to Figure 1 in your text."
      ]
    },
    {
      "cell_type": "markdown",
      "metadata": {
        "id": "ayNibcxUtOJC"
      },
      "source": [
        "* Next, consider how Prof. Guldi reflected on how slight changes to a word list can produce a very different portrait of time in her article, 'Critical Search.' https://culturalanalytics.org/article/11028-critical-search-a-procedure-for-guided-reading-in-large-scale-textual-corpora (see the first two visualizations).  Dr. Guldi used the _Oxford English Dictionary_ -- a pay-walled resource for scholars -- to enhance the rigor and number of the special words she used in her study.  The SMU link to the OED is here: https://blog.smu.edu/smulibraries/2015/03/26/featured-resource-oxford-english-dictionary/.  Can you use the OED to expand and narrow your list of special words?  Would expanding or refining your list of words help you to answer your historical question more precisely?   "
      ]
    },
    {
      "cell_type": "markdown",
      "metadata": {
        "id": "PMfDZQIBtOJC"
      },
      "source": [
        "* Make a new list of special words, focused on your historical question, using the OED.  Take the word counts and plot them over time.  Write a paragraph with the visualization embedded (as Figure 2), explaining what the timeline shows.  Label this paragraph as \"Historical Question Revisited, with OED Data\""
      ]
    },
    {
      "cell_type": "markdown",
      "metadata": {
        "id": "EfM32SNPtOJD"
      },
      "source": [
        "* Now write a paragraph comparing Figures 1 and 2 and what they show about change over time in your corpus.  Label this paragraph, \"Comparing Two Lenses on Time.\""
      ]
    },
    {
      "cell_type": "markdown",
      "metadata": {
        "id": "Z-mGRGZvtOJD"
      },
      "source": [
        "The output of this process will be two visualizations and three paragraphs.  Please submit it via Canvas.  "
      ]
    }
  ]
}
